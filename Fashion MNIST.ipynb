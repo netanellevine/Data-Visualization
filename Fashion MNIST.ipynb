{
 "cells": [
  {
   "cell_type": "code",
   "execution_count": 21,
   "id": "81c9b53b",
   "metadata": {},
   "outputs": [],
   "source": [
    "#Relevant imports\n",
    "from tensorflow.keras.datasets import fashion_mnist\n",
    "import matplotlib.pyplot as plt\n",
    "%matplotlib inline\n",
    "import random\n",
    "import numpy as np\n",
    "import pandas as pd\n",
    "from sklearn.model_selection import train_test_split\n",
    "from sklearn.preprocessing import MinMaxScaler\n",
    "from sklearn.decomposition import PCA\n",
    "# from xgboost import XGBClassifier\n",
    "import time\n",
    "from sklearn import metrics\n",
    "import warnings\n",
    "from sklearn.metrics import mean_squared_error\n",
    "from sklearn.metrics import r2_score\n",
    "from sklearn.dummy import DummyClassifier\n",
    "from sklearn.neighbors import KNeighborsClassifier\n",
    "from sklearn.linear_model import LogisticRegression\n",
    "from sklearn.ensemble import RandomForestClassifier\n",
    "from sklearn.model_selection import RandomizedSearchCV\n",
    "from sklearn.ensemble import AdaBoostClassifier\n",
    "from sklearn.tree import DecisionTreeClassifier\n",
    "from sklearn.ensemble import VotingClassifier\n",
    "from sklearn.ensemble import BaggingClassifier\n",
    "from sklearn.ensemble import StackingClassifier\n",
    "import seaborn as sns\n",
    "from sklearn.metrics import classification_report\n",
    "from sklearn.metrics import confusion_matrix\n",
    "from sklearn.pipeline import Pipeline\n",
    "from sklearn.cluster import KMeans\n",
    "from sklearn.pipeline import Pipeline\n",
    "from sklearn.cluster import KMeans\n",
    "from sklearn.naive_bayes import GaussianNB\n",
    "import joblib"
   ]
  },
  {
   "cell_type": "code",
   "execution_count": 22,
   "id": "ea85275c",
   "metadata": {},
   "outputs": [],
   "source": [
    "from xgboost import *"
   ]
  },
  {
   "cell_type": "code",
   "execution_count": 3,
   "id": "9a092698",
   "metadata": {},
   "outputs": [
    {
     "data": {
      "text/plain": [
       "(60000, 28, 28)"
      ]
     },
     "execution_count": 3,
     "metadata": {},
     "output_type": "execute_result"
    }
   ],
   "source": [
    "(X_train_full, y_train_full), (X_test_final, y_test_final) = fashion_mnist.load_data()\n",
    "X_train_full.shape"
   ]
  },
  {
   "cell_type": "code",
   "execution_count": 4,
   "id": "9e5551d0",
   "metadata": {},
   "outputs": [
    {
     "name": "stdout",
     "output_type": "stream",
     "text": [
      "18799\n",
      "0.3133166666666667\n"
     ]
    }
   ],
   "source": [
    "check_rows = 0\n",
    "counter = 0\n",
    "    \n",
    "for img in X_train_full:\n",
    "    check_rows = 0\n",
    "    check_rows = 0 if img[0:2].sum() == 0 else 1\n",
    "    check_rows += 0 if img[26:28].sum() == 0 else 1\n",
    "    if check_rows == 0:\n",
    "        counter += 1\n",
    "\n",
    "print(counter)\n",
    "print(counter  / 60000)"
   ]
  },
  {
   "cell_type": "code",
   "execution_count": 5,
   "id": "83761a02",
   "metadata": {},
   "outputs": [],
   "source": [
    "X_train_full = pd.DataFrame(X_train_full.reshape(60000, 28*28))\n",
    "X_test_final = pd.DataFrame(X_test_final.reshape(10000, 28*28))"
   ]
  },
  {
   "cell_type": "code",
   "execution_count": 6,
   "id": "80c15e01",
   "metadata": {},
   "outputs": [],
   "source": [
    "# plt.imshow(X_train_full.loc[0].to_numpy().reshape(28, 28), cmap = 'gray')\n",
    "# plt.title('Class: {}'.format(y_train_full[0]))\n",
    "# plt.figure()"
   ]
  },
  {
   "cell_type": "code",
   "execution_count": 6,
   "id": "a1361080",
   "metadata": {},
   "outputs": [
    {
     "data": {
      "text/html": [
       "<div>\n",
       "<style scoped>\n",
       "    .dataframe tbody tr th:only-of-type {\n",
       "        vertical-align: middle;\n",
       "    }\n",
       "\n",
       "    .dataframe tbody tr th {\n",
       "        vertical-align: top;\n",
       "    }\n",
       "\n",
       "    .dataframe thead th {\n",
       "        text-align: right;\n",
       "    }\n",
       "</style>\n",
       "<table border=\"1\" class=\"dataframe\">\n",
       "  <thead>\n",
       "    <tr style=\"text-align: right;\">\n",
       "      <th></th>\n",
       "      <th>Amount of missing values:</th>\n",
       "      <th>Percentage of missing values:</th>\n",
       "    </tr>\n",
       "  </thead>\n",
       "  <tbody>\n",
       "    <tr>\n",
       "      <th>0</th>\n",
       "      <td>0</td>\n",
       "      <td>0.0</td>\n",
       "    </tr>\n",
       "    <tr>\n",
       "      <th>1</th>\n",
       "      <td>0</td>\n",
       "      <td>0.0</td>\n",
       "    </tr>\n",
       "    <tr>\n",
       "      <th>2</th>\n",
       "      <td>0</td>\n",
       "      <td>0.0</td>\n",
       "    </tr>\n",
       "    <tr>\n",
       "      <th>3</th>\n",
       "      <td>0</td>\n",
       "      <td>0.0</td>\n",
       "    </tr>\n",
       "    <tr>\n",
       "      <th>4</th>\n",
       "      <td>0</td>\n",
       "      <td>0.0</td>\n",
       "    </tr>\n",
       "    <tr>\n",
       "      <th>...</th>\n",
       "      <td>...</td>\n",
       "      <td>...</td>\n",
       "    </tr>\n",
       "    <tr>\n",
       "      <th>779</th>\n",
       "      <td>0</td>\n",
       "      <td>0.0</td>\n",
       "    </tr>\n",
       "    <tr>\n",
       "      <th>780</th>\n",
       "      <td>0</td>\n",
       "      <td>0.0</td>\n",
       "    </tr>\n",
       "    <tr>\n",
       "      <th>781</th>\n",
       "      <td>0</td>\n",
       "      <td>0.0</td>\n",
       "    </tr>\n",
       "    <tr>\n",
       "      <th>782</th>\n",
       "      <td>0</td>\n",
       "      <td>0.0</td>\n",
       "    </tr>\n",
       "    <tr>\n",
       "      <th>783</th>\n",
       "      <td>0</td>\n",
       "      <td>0.0</td>\n",
       "    </tr>\n",
       "  </tbody>\n",
       "</table>\n",
       "<p>784 rows × 2 columns</p>\n",
       "</div>"
      ],
      "text/plain": [
       "     Amount of missing values:  Percentage of missing values:\n",
       "0                            0                            0.0\n",
       "1                            0                            0.0\n",
       "2                            0                            0.0\n",
       "3                            0                            0.0\n",
       "4                            0                            0.0\n",
       "..                         ...                            ...\n",
       "779                          0                            0.0\n",
       "780                          0                            0.0\n",
       "781                          0                            0.0\n",
       "782                          0                            0.0\n",
       "783                          0                            0.0\n",
       "\n",
       "[784 rows x 2 columns]"
      ]
     },
     "execution_count": 6,
     "metadata": {},
     "output_type": "execute_result"
    }
   ],
   "source": [
    "missing_vals = pd.DataFrame(X_train_full.isnull().sum(), columns = ['Amount of missing values:'])\n",
    "missing_vals['Percentage of missing values:']= (missing_vals / len(X_train_full)).round(4) * 100\n",
    "missing_vals"
   ]
  },
  {
   "cell_type": "code",
   "execution_count": 7,
   "id": "938bd976",
   "metadata": {},
   "outputs": [],
   "source": [
    "X_train, X_test, y_train, y_test = train_test_split(X_train_full, y_train_full,\n",
    "                                                                test_size = 0.1, random_state = 0)"
   ]
  },
  {
   "cell_type": "code",
   "execution_count": 9,
   "id": "35f44695",
   "metadata": {},
   "outputs": [],
   "source": [
    " # duplicates"
   ]
  },
  {
   "cell_type": "code",
   "execution_count": 8,
   "id": "441e60b2",
   "metadata": {},
   "outputs": [
    {
     "name": "stdout",
     "output_type": "stream",
     "text": [
      "Before removing duplicates:  (54000, 784)\n",
      "After removing duplicates:  (54000, 784)\n"
     ]
    }
   ],
   "source": [
    "print(\"Before removing duplicates: \", X_train.shape)\n",
    "temp_copy_x = X_train\n",
    "temp_copy_x['y'] = y_train\n",
    "\n",
    "temp_copy_x = temp_copy_x.drop_duplicates()\n",
    "\n",
    "X_train = temp_copy_x.drop(['y'], axis = 1)\n",
    "y_train = temp_copy_x['y']\n",
    "\n",
    "print(\"After removing duplicates: \", X_train.shape)"
   ]
  },
  {
   "cell_type": "code",
   "execution_count": 10,
   "id": "f654e509",
   "metadata": {},
   "outputs": [],
   "source": [
    "# scaling"
   ]
  },
  {
   "cell_type": "code",
   "execution_count": 9,
   "id": "80767e02",
   "metadata": {},
   "outputs": [],
   "source": [
    "min_max_scaler = MinMaxScaler()\n",
    "min_max_scaler.fit(X_train)\n",
    "X_train= min_max_scaler.transform(X_train)\n",
    "X_test= min_max_scaler.transform(X_test)"
   ]
  },
  {
   "cell_type": "code",
   "execution_count": 12,
   "id": "a5de7106",
   "metadata": {},
   "outputs": [],
   "source": [
    "#PCA"
   ]
  },
  {
   "cell_type": "code",
   "execution_count": 10,
   "id": "f0c87efa",
   "metadata": {},
   "outputs": [
    {
     "data": {
      "text/plain": [
       "(54000, 195)"
      ]
     },
     "execution_count": 10,
     "metadata": {},
     "output_type": "execute_result"
    }
   ],
   "source": [
    "pca = PCA(n_components=195)\n",
    "X_train = pd.DataFrame(pca.fit_transform(X_train))\n",
    "X_test = pd.DataFrame(pca.transform(X_test))\n",
    "X_test_final = pd.DataFrame(pca.transform(X_test_final))\n",
    "\n",
    "\n",
    "X_train.shape"
   ]
  },
  {
   "cell_type": "code",
   "execution_count": 14,
   "id": "fe86be59",
   "metadata": {},
   "outputs": [],
   "source": [
    "# pca = PCA().fit(X_train)\n",
    "\n",
    "# plt.rcParams[\"figure.figsize\"] = (18,6)\n",
    "\n",
    "# fig, ax = plt.subplots()\n",
    "# xi = np.arange(1, 785, step=1)\n",
    "# y = np.cumsum(pca.explained_variance_ratio_)\n",
    "\n",
    "# plt.ylim(0.0,1.1)\n",
    "# plt.plot(xi, y, marker='.', linestyle='--', color='b' ,markersize = 1)\n",
    "\n",
    "# plt.xlabel('Number of Components')\n",
    "# plt.xticks(np.arange(0, 785, step=30)) #change from 0-based array index to 1-based human-readable label\n",
    "# plt.ylabel('Cumulative variance (%)')\n",
    "# plt.title('The number of components needed to explain variance')\n",
    "\n",
    "# plt.axhline(y=0.95, color='r', linestyle='-')\n",
    "# plt.text(0.5, 0.85, '95% cut-off threshold', color = 'red', fontsize=16)\n",
    "\n",
    "# ax.grid(axis='x')\n",
    "# plt.show()"
   ]
  },
  {
   "cell_type": "code",
   "execution_count": 15,
   "id": "5af7c9a1",
   "metadata": {},
   "outputs": [],
   "source": [
    "#classifiers"
   ]
  },
  {
   "cell_type": "code",
   "execution_count": null,
   "id": "cd39e64a",
   "metadata": {},
   "outputs": [],
   "source": [
    "#dummy"
   ]
  },
  {
   "cell_type": "code",
   "execution_count": 25,
   "id": "523e1105",
   "metadata": {},
   "outputs": [
    {
     "data": {
      "text/plain": [
       "['time_dummyModel.joblib']"
      ]
     },
     "execution_count": 25,
     "metadata": {},
     "output_type": "execute_result"
    }
   ],
   "source": [
    "# start_timeDummy = time.time()\n",
    "# dummyModel = DummyClassifier(strategy=\"stratified\")\n",
    "# dummyModel.fit(X_train, y_train)\n",
    "# predictionsDummy = dummyModel.predict(X_test)\n",
    "# joblib.dump(dummyModel, 'dummyModel.joblib')\n",
    "# joblib.dump((time.time() - start_timeDummy), 'time_dummyModel.joblib')\n",
    "\n",
    "# accuracyDummy = metrics.accuracy_score(y_test, predictionsDummy)\n",
    "# print(\"Accuracy Dummy: \", accuracyDummy)\n",
    "# timeDummy = time.time() - start_timeDummy\n",
    "# print(\"Time taken to achive result: %s seconds\" % (timeDummy))\n",
    "\n",
    "# plt.figure(figsize=(5,4))\n",
    "# print(classification_report(y_test, predictionsDummy, zero_division = 0))\n",
    "# sns.heatmap(confusion_matrix(y_test, predictionsDummy), cmap = \"Blues\", annot=True, fmt = '.0f')"
   ]
  },
  {
   "cell_type": "code",
   "execution_count": 26,
   "id": "f2481d97",
   "metadata": {},
   "outputs": [
    {
     "name": "stdout",
     "output_type": "stream",
     "text": [
      "Accuracy Dummy:  0.10333333333333333\n",
      "Time taken to achive result: 0.034219980239868164 seconds\n",
      "              precision    recall  f1-score   support\n",
      "\n",
      "           0       0.11      0.11      0.11       583\n",
      "           1       0.11      0.11      0.11       588\n",
      "           2       0.12      0.11      0.12       633\n",
      "           3       0.11      0.11      0.11       619\n",
      "           4       0.10      0.11      0.11       597\n",
      "           5       0.12      0.11      0.11       632\n",
      "           6       0.09      0.09      0.09       578\n",
      "           7       0.09      0.09      0.09       566\n",
      "           8       0.10      0.10      0.10       580\n",
      "           9       0.09      0.09      0.09       624\n",
      "\n",
      "    accuracy                           0.10      6000\n",
      "   macro avg       0.10      0.10      0.10      6000\n",
      "weighted avg       0.10      0.10      0.10      6000\n",
      "\n"
     ]
    },
    {
     "data": {
      "text/plain": [
       "<AxesSubplot:>"
      ]
     },
     "execution_count": 26,
     "metadata": {},
     "output_type": "execute_result"
    },
    {
     "data": {
      "image/png": "[encoded data removed]",
      "text/plain": [
       "<Figure size 360x288 with 2 Axes>"
      ]
     },
     "metadata": {
      "needs_background": "light"
     },
     "output_type": "display_data"
    }
   ],
   "source": [
    "dummyModel = joblib.load('dummyModel.joblib')\n",
    "timeDummy = joblib.load('time_dummyModel.joblib')\n",
    "\n",
    "predictionsDummy = dummyModel.predict(X_test)\n",
    "accuracyDummy = metrics.accuracy_score(y_test, predictionsDummy)\n",
    "print(\"Accuracy Dummy: \", accuracyDummy)\n",
    "print(\"Time taken to achive result: %s seconds\" % (timeDummy))\n",
    "\n",
    "plt.figure(figsize=(5,4))\n",
    "print(classification_report(y_test, predictionsDummy, zero_division = 0))\n",
    "sns.heatmap(confusion_matrix(y_test, predictionsDummy), cmap = \"Blues\", annot=True, fmt = '.0f')"
   ]
  },
  {
   "cell_type": "code",
   "execution_count": 14,
   "id": "757e08b0",
   "metadata": {},
   "outputs": [],
   "source": [
    "#logistic"
   ]
  },
  {
   "cell_type": "code",
   "execution_count": 28,
   "id": "b513c914",
   "metadata": {},
   "outputs": [
    {
     "data": {
      "text/plain": [
       "['time_modelLogReg.joblib']"
      ]
     },
     "execution_count": 28,
     "metadata": {},
     "output_type": "execute_result"
    }
   ],
   "source": [
    "# start_timeLogReg = time.time()\n",
    "# warnings.filterwarnings('ignore')\n",
    "# modelLogReg = LogisticRegression(max_iter=500)\n",
    "# modelLogReg.fit(X_train, y_train)\n",
    "# predictionsLogReg = modelLogReg.predict(X_test)\n",
    "# joblib.dump(modelLogReg, 'modelLogReg.joblib')\n",
    "# joblib.dump((time.time() - start_timeLogReg), 'time_modelLogReg.joblib')\n",
    "\n",
    "# accuracyLogReg = modelLogReg.score(X_test, y_test)\n",
    "# print(\"Accuracy (Logistic Regression): \", accuracyLogReg)\n",
    "# timeLogReg = time.time() - start_timeLogReg\n",
    "# print(\"Time taken to achive result: %s seconds\" % (timeLogReg))\n",
    "\n",
    "# plt.figure(figsize=(5,4))\n",
    "# print(classification_report(y_test, predictionsLogReg))\n",
    "# sns.heatmap(confusion_matrix(y_test, predictionsLogReg), cmap = \"Blues\", annot=True, fmt = '.0f')"
   ]
  },
  {
   "cell_type": "code",
   "execution_count": 29,
   "id": "0eca0396",
   "metadata": {},
   "outputs": [
    {
     "name": "stdout",
     "output_type": "stream",
     "text": [
      "Accuracy (Logistic Regression):  0.8558333333333333\n",
      "Time taken to achive result: 15.096415996551514 seconds\n",
      "              precision    recall  f1-score   support\n",
      "\n",
      "           0       0.82      0.84      0.83       583\n",
      "           1       0.98      0.96      0.97       588\n",
      "           2       0.76      0.76      0.76       633\n",
      "           3       0.85      0.87      0.86       619\n",
      "           4       0.76      0.79      0.77       597\n",
      "           5       0.95      0.94      0.94       632\n",
      "           6       0.63      0.61      0.62       578\n",
      "           7       0.90      0.93      0.91       566\n",
      "           8       0.96      0.92      0.94       580\n",
      "           9       0.95      0.94      0.94       624\n",
      "\n",
      "    accuracy                           0.86      6000\n",
      "   macro avg       0.86      0.86      0.86      6000\n",
      "weighted avg       0.86      0.86      0.86      6000\n",
      "\n"
     ]
    },
    {
     "data": {
      "text/plain": [
       "<AxesSubplot:>"
      ]
     },
     "execution_count": 29,
     "metadata": {},
     "output_type": "execute_result"
    },
    {
     "data": {
      "image/png": "[encoded data removed]",
      "text/plain": [
       "<Figure size 360x288 with 2 Axes>"
      ]
     },
     "metadata": {
      "needs_background": "light"
     },
     "output_type": "display_data"
    }
   ],
   "source": [
    "modelLogReg = joblib.load('modelLogReg.joblib')\n",
    "timeLogReg = joblib.load('time_modelLogReg.joblib')\n",
    "\n",
    "predictionsLogReg = modelLogReg.predict(X_test)\n",
    "accuracyLogReg = modelLogReg.score(X_test, y_test)\n",
    "print(\"Accuracy (Logistic Regression): \", accuracyLogReg)\n",
    "print(\"Time taken to achive result: %s seconds\" % (timeLogReg))\n",
    "\n",
    "plt.figure(figsize=(5,4))\n",
    "print(classification_report(y_test, predictionsLogReg))\n",
    "sns.heatmap(confusion_matrix(y_test, predictionsLogReg), cmap = \"Blues\", annot=True, fmt = '.0f')"
   ]
  },
  {
   "cell_type": "code",
   "execution_count": 16,
   "id": "fdd1b1ea",
   "metadata": {},
   "outputs": [],
   "source": [
    "#knn"
   ]
  },
  {
   "cell_type": "code",
   "execution_count": 30,
   "id": "9ee80404",
   "metadata": {},
   "outputs": [
    {
     "data": {
      "text/plain": [
       "['time_modelKNN.joblib']"
      ]
     },
     "execution_count": 30,
     "metadata": {},
     "output_type": "execute_result"
    }
   ],
   "source": [
    "# start_timeKNN = time.time()\n",
    "# modelKNN = KNeighborsClassifier(n_neighbors = 10, weights='distance')\n",
    "# modelKNN.fit(X_train, y_train)\n",
    "# predictionsKNN = modelKNN.predict(X_test)\n",
    "# joblib.dump(modelKNN, 'modelKNN.joblib')\n",
    "# joblib.dump((time.time() - start_timeKNN), 'time_modelKNN.joblib')\n",
    "\n",
    "# accuracyKNN = metrics.accuracy_score(y_test, predictionsKNN)\n",
    "# print(\"Accuracy (KNN): \", accuracyKNN)\n",
    "# timeKNN = time.time() - start_timeKNN\n",
    "# print(\"Time taken to achive result: %s seconds\" % (timeKNN))\n",
    "\n",
    "# plt.figure(figsize=(5,4))\n",
    "# print(classification_report(y_test, predictionsKNN))\n",
    "# sns.heatmap(confusion_matrix(y_test, predictionsKNN), cmap = \"Blues\", annot=True, fmt = '.0f')"
   ]
  },
  {
   "cell_type": "code",
   "execution_count": 31,
   "id": "5866835a",
   "metadata": {},
   "outputs": [
    {
     "name": "stdout",
     "output_type": "stream",
     "text": [
      "Accuracy (KNN):  0.8663333333333333\n",
      "Time taken to achive result: 6.324195861816406 seconds\n",
      "              precision    recall  f1-score   support\n",
      "\n",
      "           0       0.80      0.85      0.83       583\n",
      "           1       0.99      0.95      0.97       588\n",
      "           2       0.80      0.80      0.80       633\n",
      "           3       0.90      0.86      0.88       619\n",
      "           4       0.76      0.78      0.77       597\n",
      "           5       1.00      0.87      0.93       632\n",
      "           6       0.65      0.65      0.65       578\n",
      "           7       0.91      0.96      0.93       566\n",
      "           8       0.98      0.96      0.97       580\n",
      "           9       0.90      0.97      0.93       624\n",
      "\n",
      "    accuracy                           0.87      6000\n",
      "   macro avg       0.87      0.87      0.87      6000\n",
      "weighted avg       0.87      0.87      0.87      6000\n",
      "\n"
     ]
    },
    {
     "data": {
      "text/plain": [
       "<AxesSubplot:>"
      ]
     },
     "execution_count": 31,
     "metadata": {},
     "output_type": "execute_result"
    },
    {
     "data": {
      "image/png": "[encoded data removed]",
      "text/plain": [
       "<Figure size 360x288 with 2 Axes>"
      ]
     },
     "metadata": {
      "needs_background": "light"
     },
     "output_type": "display_data"
    }
   ],
   "source": [
    "modelKNN = joblib.load('modelKNN.joblib')\n",
    "timeKNN = joblib.load('time_modelKNN.joblib')\n",
    "\n",
    "predictionsKNN = modelKNN.predict(X_test)\n",
    "accuracyKNN = metrics.accuracy_score(y_test, predictionsKNN)\n",
    "print(\"Accuracy (KNN): \", accuracyKNN)\n",
    "print(\"Time taken to achive result: %s seconds\" % (timeKNN))\n",
    "\n",
    "plt.figure(figsize=(5,4))\n",
    "print(classification_report(y_test, predictionsKNN))\n",
    "sns.heatmap(confusion_matrix(y_test, predictionsKNN), cmap = \"Blues\", annot=True, fmt = '.0f')"
   ]
  },
  {
   "cell_type": "code",
   "execution_count": 18,
   "id": "1f9c5702",
   "metadata": {},
   "outputs": [],
   "source": [
    "#gaussian naive bayes"
   ]
  },
  {
   "cell_type": "code",
   "execution_count": 32,
   "id": "37aabb04",
   "metadata": {},
   "outputs": [
    {
     "data": {
      "text/plain": [
       "['time_modelGNB.joblib']"
      ]
     },
     "execution_count": 32,
     "metadata": {},
     "output_type": "execute_result"
    }
   ],
   "source": [
    "# start_timeGaussianNB = time.time()\n",
    "# modelGNB = GaussianNB()\n",
    "# modelGNB.fit(X_train, y_train)\n",
    "# predictionsGNB = modelGNB.predict(X_test)\n",
    "# joblib.dump(modelGNB, 'modelGNB.joblib')\n",
    "# joblib.dump((time.time() - start_timeGaussianNB), 'time_modelGNB.joblib')\n",
    "\n",
    "# accuracyGNB = metrics.accuracy_score(y_test, predictionsGNB)\n",
    "# print(\"Accuracy (Gaussian Naive Bayes): \", accuracyGNB)\n",
    "# timeGNB = time.time() - start_timeGaussianNB\n",
    "# print(\"Time taken to achive result: %s seconds\" % (timeGNB))\n",
    "\n",
    "# plt.figure(figsize=(5,4))\n",
    "# print(classification_report(y_test, predictionsGNB))\n",
    "# sns.heatmap(confusion_matrix(y_test, predictionsGNB), cmap = \"Blues\", annot=True, fmt = '.0f')"
   ]
  },
  {
   "cell_type": "code",
   "execution_count": 33,
   "id": "84f8e5a9",
   "metadata": {},
   "outputs": [
    {
     "name": "stdout",
     "output_type": "stream",
     "text": [
      "Accuracy (Gaussian Naive Bayes):  0.7361666666666666\n",
      "Time taken to achive result: 4.538532972335815 seconds\n",
      "              precision    recall  f1-score   support\n",
      "\n",
      "           0       0.75      0.72      0.74       583\n",
      "           1       0.94      0.87      0.90       588\n",
      "           2       0.73      0.64      0.69       633\n",
      "           3       0.78      0.71      0.75       619\n",
      "           4       0.71      0.67      0.69       597\n",
      "           5       0.77      0.70      0.73       632\n",
      "           6       0.53      0.48      0.51       578\n",
      "           7       0.71      0.85      0.77       566\n",
      "           8       0.58      0.86      0.69       580\n",
      "           9       0.94      0.85      0.89       624\n",
      "\n",
      "    accuracy                           0.74      6000\n",
      "   macro avg       0.74      0.74      0.74      6000\n",
      "weighted avg       0.75      0.74      0.74      6000\n",
      "\n"
     ]
    },
    {
     "data": {
      "text/plain": [
       "<AxesSubplot:>"
      ]
     },
     "execution_count": 33,
     "metadata": {},
     "output_type": "execute_result"
    },
    {
     "data": {
      "image/png": "[encoded data removed]",
      "text/plain": [
       "<Figure size 360x288 with 2 Axes>"
      ]
     },
     "metadata": {
      "needs_background": "light"
     },
     "output_type": "display_data"
    }
   ],
   "source": [
    "modelGNB = joblib.load('modelGNB.joblib')\n",
    "timeGNB = joblib.load('time_modelGNB.joblib')\n",
    "\n",
    "predictionsGNB = modelGNB.predict(X_test)\n",
    "accuracyGNB = metrics.accuracy_score(y_test, predictionsGNB)\n",
    "print(\"Accuracy (Gaussian Naive Bayes): \", accuracyGNB)\n",
    "timeGNB = time.time() - start_timeGaussianNB\n",
    "print(\"Time taken to achive result: %s seconds\" % (timeGNB))\n",
    "\n",
    "plt.figure(figsize=(5,4))\n",
    "print(classification_report(y_test, predictionsGNB))\n",
    "sns.heatmap(confusion_matrix(y_test, predictionsGNB), cmap = \"Blues\", annot=True, fmt = '.0f')"
   ]
  },
  {
   "cell_type": "code",
   "execution_count": 20,
   "id": "e3ac9d95",
   "metadata": {},
   "outputs": [],
   "source": [
    "#random forest - basic parameters"
   ]
  },
  {
   "cell_type": "code",
   "execution_count": 34,
   "id": "81f5f4be",
   "metadata": {},
   "outputs": [
    {
     "data": {
      "text/plain": [
       "['time_modelRandForests.joblib']"
      ]
     },
     "execution_count": 34,
     "metadata": {},
     "output_type": "execute_result"
    }
   ],
   "source": [
    "# start_timeRandForests = time.time()\n",
    "# modelRandForests = RandomForestClassifier(n_estimators = 300, n_jobs = -1, random_state = 0)\n",
    "# modelRandForests.fit(X_train, y_train)\n",
    "# predictionsRandForests = modelRandForests.predict(X_test)\n",
    "# joblib.dump(modelRandForests, 'modelRandForests.joblib')\n",
    "# joblib.dump((time.time() - start_timeRandForests), 'time_modelRandForests.joblib')\n",
    "\n",
    "# accuracyRandForests = metrics.accuracy_score(y_test, predictionsRandForests)\n",
    "# print(\"Accuracy (Random Forests): \", accuracyRandForests)\n",
    "# timeRandForests = time.time() - start_timeRandForests\n",
    "# print(\"Time taken to achive result: %s seconds\" % (timeRandForests))\n",
    "\n",
    "# plt.figure(figsize=(5,4))\n",
    "# print(classification_report(y_test, predictionsRandForests))\n",
    "# sns.heatmap(confusion_matrix(y_test, predictionsRandForests), cmap = \"Blues\", annot=True, fmt = '.0f')"
   ]
  },
  {
   "cell_type": "code",
   "execution_count": 36,
   "id": "3d4a33d0",
   "metadata": {},
   "outputs": [
    {
     "name": "stdout",
     "output_type": "stream",
     "text": [
      "Accuracy (Random Forests):  0.8716666666666667\n",
      "Time taken to achive result: 93.044851064682 seconds\n",
      "              precision    recall  f1-score   support\n",
      "\n",
      "           0       0.82      0.87      0.84       583\n",
      "           1       0.99      0.95      0.97       588\n",
      "           2       0.80      0.82      0.81       633\n",
      "           3       0.87      0.90      0.88       619\n",
      "           4       0.77      0.81      0.79       597\n",
      "           5       0.93      0.93      0.93       632\n",
      "           6       0.73      0.59      0.65       578\n",
      "           7       0.93      0.93      0.93       566\n",
      "           8       0.93      0.96      0.94       580\n",
      "           9       0.93      0.96      0.94       624\n",
      "\n",
      "    accuracy                           0.87      6000\n",
      "   macro avg       0.87      0.87      0.87      6000\n",
      "weighted avg       0.87      0.87      0.87      6000\n",
      "\n"
     ]
    },
    {
     "data": {
      "text/plain": [
       "<AxesSubplot:>"
      ]
     },
     "execution_count": 36,
     "metadata": {},
     "output_type": "execute_result"
    },
    {
     "data": {
      "image/png": "[encoded data removed]",
      "text/plain": [
       "<Figure size 360x288 with 2 Axes>"
      ]
     },
     "metadata": {
      "needs_background": "light"
     },
     "output_type": "display_data"
    }
   ],
   "source": [
    "modelRandForests = joblib.load('modelRandForests.joblib')\n",
    "timeRandForests = joblib.load('time_modelRandForests.joblib')\n",
    "\n",
    "predictionsRandForests = modelRandForests.predict(X_test)\n",
    "accuracyRandForests = metrics.accuracy_score(y_test, predictionsRandForests)\n",
    "print(\"Accuracy (Random Forests): \", accuracyRandForests)\n",
    "print(\"Time taken to achive result: %s seconds\" % (timeRandForests))\n",
    "\n",
    "plt.figure(figsize=(5,4))\n",
    "print(classification_report(y_test, predictionsRandForests))\n",
    "sns.heatmap(confusion_matrix(y_test, predictionsRandForests), cmap = \"Blues\", annot=True, fmt = '.0f')"
   ]
  },
  {
   "cell_type": "code",
   "execution_count": 53,
   "id": "72fd2971",
   "metadata": {},
   "outputs": [
    {
     "name": "stdout",
     "output_type": "stream",
     "text": [
      "{'n_estimators': [100, 300, 500, 700, 900, 1100, 1300, 1500, 1700, 1900], 'max_features': ['auto', 'sqrt'], 'max_depth': [10, 20, 30, 40, 50, 60, 70, 80, 90, 100, 110, None], 'min_samples_split': [2, 5, 10, 15], 'min_samples_leaf': [1, 2, 4, 8], 'bootstrap': [True, False]}\n"
     ]
    }
   ],
   "source": [
    "# Number of trees in random forest\n",
    "n_estimators = [int(x) for x in np.linspace(start = 100, stop = 1900, num = 10)]\n",
    "# Number of features to consider at every split\n",
    "max_features = ['auto', 'sqrt']\n",
    "# Maximum number of levels in tree\n",
    "max_depth = [int(x) for x in np.linspace(10, 110, num = 11)]\n",
    "max_depth.append(None)\n",
    "# Minimum number of samples required to split a node\n",
    "min_samples_split = [2, 5, 10, 15]\n",
    "# Minimum number of samples required at each leaf node\n",
    "min_samples_leaf = [1, 2, 4, 8]\n",
    "# Method of selecting samples for training each tree\n",
    "bootstrap = [True, False]\n",
    "# Create the random grid\n",
    "random_grid = {'n_estimators': n_estimators,\n",
    "               'max_features': max_features,\n",
    "               'max_depth': max_depth,\n",
    "               'min_samples_split': min_samples_split,\n",
    "               'min_samples_leaf': min_samples_leaf,\n",
    "               'bootstrap': bootstrap}\n",
    "print(random_grid)"
   ]
  },
  {
   "cell_type": "code",
   "execution_count": 23,
   "id": "a83b8481",
   "metadata": {},
   "outputs": [],
   "source": [
    "#grid search"
   ]
  },
  {
   "cell_type": "code",
   "execution_count": 24,
   "id": "b5409df4",
   "metadata": {},
   "outputs": [
    {
     "name": "stdout",
     "output_type": "stream",
     "text": [
      "Fitting 5 folds for each of 100 candidates, totalling 500 fits\n",
      "[CV] END bootstrap=False, max_depth=20, max_features=sqrt, min_samples_leaf=8, min_samples_split=10, n_estimators=1300; total time=36.0min\n",
      "[CV] END bootstrap=False, max_depth=30, max_features=sqrt, min_samples_leaf=8, min_samples_split=10, n_estimators=1500; total time=42.7min\n",
      "[CV] END bootstrap=True, max_depth=40, max_features=sqrt, min_samples_leaf=2, min_samples_split=15, n_estimators=700; total time=13.2min\n",
      "[CV] END bootstrap=False, max_depth=30, max_features=sqrt, min_samples_leaf=2, min_samples_split=15, n_estimators=900; total time=27.7min\n",
      "[CV] END bootstrap=False, max_depth=10, max_features=sqrt, min_samples_leaf=4, min_samples_split=2, n_estimators=1300; total time=25.0min\n",
      "[CV] END bootstrap=False, max_depth=90, max_features=sqrt, min_samples_leaf=4, min_samples_split=2, n_estimators=700; total time=21.0min\n",
      "[CV] END bootstrap=False, max_depth=90, max_features=auto, min_samples_leaf=8, min_samples_split=15, n_estimators=1900; total time=53.6min\n",
      "[CV] END bootstrap=True, max_depth=80, max_features=sqrt, min_samples_leaf=8, min_samples_split=2, n_estimators=300; total time= 5.1min\n",
      "[CV] END bootstrap=False, max_depth=80, max_features=sqrt, min_samples_leaf=2, min_samples_split=15, n_estimators=1500; total time=46.5min\n",
      "[CV] END bootstrap=False, max_depth=80, max_features=sqrt, min_samples_leaf=2, min_samples_split=15, n_estimators=1500; total time=46.8min\n",
      "[CV] END bootstrap=True, max_depth=80, max_features=auto, min_samples_leaf=1, min_samples_split=15, n_estimators=700; total time=13.7min\n",
      "[CV] END bootstrap=True, max_depth=50, max_features=auto, min_samples_leaf=8, min_samples_split=5, n_estimators=900; total time=15.4min\n",
      "[CV] END bootstrap=False, max_depth=110, max_features=sqrt, min_samples_leaf=2, min_samples_split=5, n_estimators=300; total time= 9.5min\n",
      "[CV] END bootstrap=False, max_depth=40, max_features=sqrt, min_samples_leaf=2, min_samples_split=5, n_estimators=1500; total time=47.3min\n",
      "[CV] END bootstrap=False, max_depth=110, max_features=auto, min_samples_leaf=8, min_samples_split=2, n_estimators=1500; total time=42.6min\n",
      "[CV] END bootstrap=True, max_depth=None, max_features=auto, min_samples_leaf=1, min_samples_split=10, n_estimators=700; total time=13.7min\n",
      "[CV] END bootstrap=True, max_depth=10, max_features=auto, min_samples_leaf=4, min_samples_split=5, n_estimators=1100; total time=13.5min\n",
      "[CV] END bootstrap=False, max_depth=80, max_features=sqrt, min_samples_leaf=8, min_samples_split=10, n_estimators=1300; total time=36.9min\n",
      "[CV] END bootstrap=True, max_depth=110, max_features=auto, min_samples_leaf=2, min_samples_split=10, n_estimators=1700; total time=32.5min\n",
      "[CV] END bootstrap=True, max_depth=50, max_features=auto, min_samples_leaf=8, min_samples_split=2, n_estimators=500; total time= 8.6min\n",
      "[CV] END bootstrap=False, max_depth=80, max_features=sqrt, min_samples_leaf=2, min_samples_split=15, n_estimators=1900; total time=58.5min\n",
      "[CV] END bootstrap=False, max_depth=30, max_features=auto, min_samples_leaf=4, min_samples_split=15, n_estimators=1300; total time=38.7min\n",
      "[CV] END bootstrap=True, max_depth=80, max_features=sqrt, min_samples_leaf=4, min_samples_split=5, n_estimators=500; total time= 9.2min\n",
      "[CV] END bootstrap=True, max_depth=80, max_features=sqrt, min_samples_leaf=4, min_samples_split=5, n_estimators=500; total time= 9.3min\n",
      "[CV] END bootstrap=False, max_depth=90, max_features=sqrt, min_samples_leaf=2, min_samples_split=5, n_estimators=500; total time=16.2min\n",
      "[CV] END bootstrap=True, max_depth=110, max_features=sqrt, min_samples_leaf=2, min_samples_split=5, n_estimators=1700; total time=32.9min\n",
      "[CV] END bootstrap=True, max_depth=90, max_features=auto, min_samples_leaf=4, min_samples_split=5, n_estimators=100; total time= 1.8min\n",
      "[CV] END bootstrap=True, max_depth=90, max_features=auto, min_samples_leaf=4, min_samples_split=5, n_estimators=100; total time= 1.8min\n",
      "[CV] END bootstrap=False, max_depth=90, max_features=sqrt, min_samples_leaf=4, min_samples_split=5, n_estimators=100; total time= 2.9min\n",
      "[CV] END bootstrap=False, max_depth=90, max_features=sqrt, min_samples_leaf=4, min_samples_split=5, n_estimators=100; total time= 3.0min\n",
      "[CV] END bootstrap=False, max_depth=90, max_features=sqrt, min_samples_leaf=4, min_samples_split=5, n_estimators=100; total time= 3.1min\n",
      "[CV] END bootstrap=True, max_depth=20, max_features=auto, min_samples_leaf=8, min_samples_split=5, n_estimators=1500; total time=25.4min\n",
      "[CV] END bootstrap=True, max_depth=50, max_features=auto, min_samples_leaf=4, min_samples_split=5, n_estimators=1100; total time=20.3min\n",
      "[CV] END bootstrap=True, max_depth=100, max_features=sqrt, min_samples_leaf=8, min_samples_split=2, n_estimators=900; total time=15.4min\n",
      "[CV] END bootstrap=True, max_depth=60, max_features=sqrt, min_samples_leaf=2, min_samples_split=10, n_estimators=100; total time= 1.9min\n",
      "[CV] END bootstrap=True, max_depth=60, max_features=sqrt, min_samples_leaf=2, min_samples_split=10, n_estimators=100; total time= 2.0min\n",
      "[CV] END bootstrap=False, max_depth=20, max_features=auto, min_samples_leaf=2, min_samples_split=10, n_estimators=100; total time= 3.0min\n",
      "[CV] END bootstrap=False, max_depth=20, max_features=auto, min_samples_leaf=2, min_samples_split=10, n_estimators=100; total time= 3.0min\n",
      "[CV] END bootstrap=True, max_depth=80, max_features=sqrt, min_samples_leaf=2, min_samples_split=2, n_estimators=300; total time= 5.8min\n",
      "[CV] END bootstrap=False, max_depth=20, max_features=sqrt, min_samples_leaf=4, min_samples_split=5, n_estimators=1300; total time=37.8min\n",
      "[CV] END bootstrap=True, max_depth=30, max_features=auto, min_samples_leaf=1, min_samples_split=15, n_estimators=1300; total time=25.3min\n",
      "[CV] END bootstrap=False, max_depth=20, max_features=sqrt, min_samples_leaf=1, min_samples_split=5, n_estimators=300; total time= 9.2min\n",
      "[CV] END bootstrap=True, max_depth=10, max_features=auto, min_samples_leaf=1, min_samples_split=10, n_estimators=700; total time= 8.6min\n",
      "[CV] END bootstrap=True, max_depth=10, max_features=auto, min_samples_leaf=1, min_samples_split=10, n_estimators=700; total time= 8.4min\n",
      "[CV] END bootstrap=True, max_depth=110, max_features=auto, min_samples_leaf=2, min_samples_split=15, n_estimators=900; total time=17.0min\n",
      "[CV] END bootstrap=False, max_depth=80, max_features=auto, min_samples_leaf=1, min_samples_split=10, n_estimators=1700; total time=54.4min\n",
      "[CV] END bootstrap=True, max_depth=20, max_features=sqrt, min_samples_leaf=1, min_samples_split=10, n_estimators=700; total time=12.8min\n",
      "[CV] END bootstrap=False, max_depth=10, max_features=sqrt, min_samples_leaf=1, min_samples_split=2, n_estimators=300; total time= 5.8min\n",
      "[CV] END bootstrap=False, max_depth=80, max_features=auto, min_samples_leaf=2, min_samples_split=2, n_estimators=1500; total time=46.8min\n",
      "[CV] END bootstrap=True, max_depth=40, max_features=auto, min_samples_leaf=4, min_samples_split=10, n_estimators=300; total time= 5.3min\n",
      "[CV] END bootstrap=True, max_depth=40, max_features=auto, min_samples_leaf=4, min_samples_split=10, n_estimators=300; total time= 5.4min\n",
      "[CV] END bootstrap=True, max_depth=40, max_features=auto, min_samples_leaf=4, min_samples_split=10, n_estimators=300; total time= 5.3min\n",
      "[CV] END bootstrap=True, max_depth=80, max_features=sqrt, min_samples_leaf=8, min_samples_split=10, n_estimators=100; total time= 1.7min\n",
      "[CV] END bootstrap=True, max_depth=30, max_features=sqrt, min_samples_leaf=4, min_samples_split=10, n_estimators=1700; total time=30.4min\n",
      "[CV] END bootstrap=True, max_depth=20, max_features=sqrt, min_samples_leaf=1, min_samples_split=2, n_estimators=1500; total time=27.9min\n",
      "[CV] END bootstrap=False, max_depth=10, max_features=auto, min_samples_leaf=4, min_samples_split=2, n_estimators=1500; total time=28.5min\n",
      "[CV] END bootstrap=True, max_depth=30, max_features=auto, min_samples_leaf=8, min_samples_split=2, n_estimators=700; total time=11.3min\n",
      "[CV] END bootstrap=True, max_depth=90, max_features=auto, min_samples_leaf=1, min_samples_split=5, n_estimators=500; total time= 9.4min\n",
      "[CV] END bootstrap=False, max_depth=100, max_features=auto, min_samples_leaf=1, min_samples_split=10, n_estimators=500; total time=15.2min\n",
      "[CV] END bootstrap=False, max_depth=100, max_features=auto, min_samples_leaf=2, min_samples_split=2, n_estimators=500; total time=14.9min\n",
      "[CV] END bootstrap=False, max_depth=80, max_features=sqrt, min_samples_leaf=8, min_samples_split=15, n_estimators=700; total time=18.7min\n",
      "[CV] END bootstrap=True, max_depth=60, max_features=auto, min_samples_leaf=1, min_samples_split=10, n_estimators=700; total time=12.9min\n",
      "[CV] END bootstrap=False, max_depth=10, max_features=sqrt, min_samples_leaf=2, min_samples_split=15, n_estimators=1300; total time=28.0min\n",
      "[CV] END bootstrap=True, max_depth=110, max_features=sqrt, min_samples_leaf=8, min_samples_split=15, n_estimators=700; total time=13.8min\n",
      "[CV] END bootstrap=False, max_depth=60, max_features=sqrt, min_samples_leaf=8, min_samples_split=15, n_estimators=1300; total time=37.2min\n"
     ]
    },
    {
     "name": "stdout",
     "output_type": "stream",
     "text": [
      "[CV] END bootstrap=False, max_depth=70, max_features=sqrt, min_samples_leaf=2, min_samples_split=15, n_estimators=500; total time=15.5min\n",
      "[CV] END bootstrap=True, max_depth=50, max_features=sqrt, min_samples_leaf=8, min_samples_split=5, n_estimators=1100; total time=18.7min\n",
      "[CV] END bootstrap=False, max_depth=30, max_features=sqrt, min_samples_leaf=8, min_samples_split=10, n_estimators=1500; total time=42.5min\n",
      "[CV] END bootstrap=True, max_depth=None, max_features=auto, min_samples_leaf=1, min_samples_split=5, n_estimators=1700; total time=33.5min\n",
      "[CV] END bootstrap=False, max_depth=10, max_features=sqrt, min_samples_leaf=4, min_samples_split=2, n_estimators=1300; total time=24.9min\n",
      "[CV] END bootstrap=True, max_depth=10, max_features=auto, min_samples_leaf=1, min_samples_split=15, n_estimators=1500; total time=18.2min\n",
      "[CV] END bootstrap=False, max_depth=90, max_features=sqrt, min_samples_leaf=4, min_samples_split=2, n_estimators=700; total time=20.9min\n",
      "[CV] END bootstrap=False, max_depth=100, max_features=auto, min_samples_leaf=4, min_samples_split=10, n_estimators=100; total time= 2.9min\n",
      "[CV] END bootstrap=False, max_depth=100, max_features=auto, min_samples_leaf=4, min_samples_split=10, n_estimators=100; total time= 2.9min\n",
      "[CV] END bootstrap=False, max_depth=80, max_features=sqrt, min_samples_leaf=2, min_samples_split=2, n_estimators=100; total time= 3.1min\n",
      "[CV] END bootstrap=False, max_depth=80, max_features=sqrt, min_samples_leaf=2, min_samples_split=2, n_estimators=100; total time= 3.2min\n",
      "[CV] END bootstrap=True, max_depth=60, max_features=auto, min_samples_leaf=8, min_samples_split=15, n_estimators=1700; total time=28.8min\n",
      "[CV] END bootstrap=True, max_depth=80, max_features=sqrt, min_samples_leaf=8, min_samples_split=2, n_estimators=300; total time= 5.1min\n",
      "[CV] END bootstrap=False, max_depth=None, max_features=sqrt, min_samples_leaf=4, min_samples_split=2, n_estimators=1900; total time=57.1min\n",
      "[CV] END bootstrap=True, max_depth=70, max_features=sqrt, min_samples_leaf=1, min_samples_split=15, n_estimators=1100; total time=21.3min\n",
      "[CV] END bootstrap=True, max_depth=60, max_features=auto, min_samples_leaf=2, min_samples_split=10, n_estimators=1900; total time=36.5min\n",
      "[CV] END bootstrap=True, max_depth=50, max_features=auto, min_samples_leaf=8, min_samples_split=5, n_estimators=900; total time=15.4min\n",
      "[CV] END bootstrap=False, max_depth=70, max_features=sqrt, min_samples_leaf=8, min_samples_split=15, n_estimators=900; total time=25.5min\n",
      "[CV] END bootstrap=False, max_depth=10, max_features=sqrt, min_samples_leaf=4, min_samples_split=2, n_estimators=900; total time=17.4min\n",
      "[CV] END bootstrap=False, max_depth=10, max_features=sqrt, min_samples_leaf=4, min_samples_split=2, n_estimators=900; total time=17.4min\n",
      "[CV] END bootstrap=False, max_depth=110, max_features=auto, min_samples_leaf=8, min_samples_split=2, n_estimators=1500; total time=42.6min\n",
      "[CV] END bootstrap=True, max_depth=10, max_features=auto, min_samples_leaf=4, min_samples_split=5, n_estimators=1100; total time=13.4min\n",
      "[CV] END bootstrap=False, max_depth=70, max_features=auto, min_samples_leaf=2, min_samples_split=15, n_estimators=900; total time=27.9min\n",
      "[CV] END bootstrap=True, max_depth=100, max_features=sqrt, min_samples_leaf=4, min_samples_split=10, n_estimators=1700; total time=30.9min\n",
      "[CV] END bootstrap=True, max_depth=110, max_features=auto, min_samples_leaf=2, min_samples_split=10, n_estimators=1700; total time=32.4min\n",
      "[CV] END bootstrap=False, max_depth=70, max_features=sqrt, min_samples_leaf=8, min_samples_split=10, n_estimators=100; total time= 2.8min\n",
      "[CV] END bootstrap=False, max_depth=70, max_features=sqrt, min_samples_leaf=8, min_samples_split=10, n_estimators=100; total time= 2.7min\n",
      "[CV] END bootstrap=False, max_depth=80, max_features=sqrt, min_samples_leaf=8, min_samples_split=15, n_estimators=300; total time= 8.2min\n",
      "[CV] END bootstrap=False, max_depth=80, max_features=sqrt, min_samples_leaf=8, min_samples_split=15, n_estimators=300; total time= 8.4min\n",
      "[CV] END bootstrap=False, max_depth=80, max_features=auto, min_samples_leaf=1, min_samples_split=15, n_estimators=1300; total time=41.8min\n",
      "[CV] END bootstrap=False, max_depth=80, max_features=auto, min_samples_leaf=8, min_samples_split=2, n_estimators=500; total time=13.9min\n",
      "[CV] END bootstrap=False, max_depth=80, max_features=auto, min_samples_leaf=8, min_samples_split=2, n_estimators=500; total time=14.3min\n",
      "[CV] END bootstrap=True, max_depth=80, max_features=sqrt, min_samples_leaf=4, min_samples_split=5, n_estimators=500; total time= 9.3min\n",
      "[CV] END bootstrap=True, max_depth=70, max_features=auto, min_samples_leaf=1, min_samples_split=2, n_estimators=1700; total time=34.6min\n",
      "[CV] END bootstrap=True, max_depth=110, max_features=sqrt, min_samples_leaf=2, min_samples_split=5, n_estimators=1700; total time=32.7min\n",
      "[CV] END bootstrap=True, max_depth=40, max_features=sqrt, min_samples_leaf=8, min_samples_split=10, n_estimators=700; total time=12.1min\n",
      "[CV] END bootstrap=False, max_depth=10, max_features=auto, min_samples_leaf=8, min_samples_split=5, n_estimators=700; total time=13.7min\n",
      "[CV] END bootstrap=True, max_depth=50, max_features=auto, min_samples_leaf=4, min_samples_split=5, n_estimators=1100; total time=20.2min\n",
      "[CV] END bootstrap=True, max_depth=100, max_features=sqrt, min_samples_leaf=8, min_samples_split=2, n_estimators=900; total time=15.3min\n",
      "[CV] END bootstrap=False, max_depth=70, max_features=sqrt, min_samples_leaf=4, min_samples_split=5, n_estimators=700; total time=21.3min\n",
      "[CV] END bootstrap=False, max_depth=30, max_features=sqrt, min_samples_leaf=8, min_samples_split=5, n_estimators=700; total time=19.8min\n",
      "[CV] END bootstrap=True, max_depth=30, max_features=auto, min_samples_leaf=1, min_samples_split=15, n_estimators=1300; total time=25.2min\n",
      "[CV] END bootstrap=True, max_depth=40, max_features=sqrt, min_samples_leaf=1, min_samples_split=2, n_estimators=1700; total time=34.1min\n",
      "[CV] END bootstrap=True, max_depth=10, max_features=auto, min_samples_leaf=1, min_samples_split=10, n_estimators=700; total time= 8.5min\n",
      "[CV] END bootstrap=False, max_depth=110, max_features=sqrt, min_samples_leaf=4, min_samples_split=15, n_estimators=900; total time=26.8min\n",
      "[CV] END bootstrap=False, max_depth=80, max_features=auto, min_samples_leaf=1, min_samples_split=10, n_estimators=1700; total time=54.3min\n",
      "[CV] END bootstrap=False, max_depth=10, max_features=sqrt, min_samples_leaf=1, min_samples_split=2, n_estimators=300; total time= 5.8min\n",
      "[CV] END bootstrap=False, max_depth=80, max_features=auto, min_samples_leaf=2, min_samples_split=2, n_estimators=1500; total time=46.8min\n",
      "[CV] END bootstrap=False, max_depth=None, max_features=sqrt, min_samples_leaf=4, min_samples_split=15, n_estimators=1700; total time=49.9min\n",
      "[CV] END bootstrap=False, max_depth=60, max_features=auto, min_samples_leaf=4, min_samples_split=2, n_estimators=100; total time= 3.0min\n",
      "[CV] END bootstrap=False, max_depth=60, max_features=auto, min_samples_leaf=4, min_samples_split=2, n_estimators=100; total time= 3.1min\n",
      "[CV] END bootstrap=False, max_depth=60, max_features=auto, min_samples_leaf=4, min_samples_split=2, n_estimators=100; total time= 3.0min\n",
      "[CV] END bootstrap=True, max_depth=50, max_features=sqrt, min_samples_leaf=2, min_samples_split=15, n_estimators=900; total time=16.8min\n",
      "[CV] END bootstrap=True, max_depth=50, max_features=sqrt, min_samples_leaf=2, min_samples_split=15, n_estimators=900; total time=16.5min\n",
      "[CV] END bootstrap=True, max_depth=30, max_features=sqrt, min_samples_leaf=2, min_samples_split=5, n_estimators=1300; total time=24.0min\n",
      "[CV] END bootstrap=True, max_depth=90, max_features=auto, min_samples_leaf=1, min_samples_split=5, n_estimators=500; total time= 9.4min\n",
      "[CV] END bootstrap=False, max_depth=100, max_features=auto, min_samples_leaf=1, min_samples_split=10, n_estimators=500; total time=15.2min\n",
      "[CV] END bootstrap=False, max_depth=100, max_features=auto, min_samples_leaf=2, min_samples_split=2, n_estimators=500; total time=14.9min\n",
      "[CV] END bootstrap=True, max_depth=60, max_features=auto, min_samples_leaf=2, min_samples_split=10, n_estimators=500; total time= 8.9min\n",
      "[CV] END bootstrap=True, max_depth=60, max_features=auto, min_samples_leaf=2, min_samples_split=10, n_estimators=500; total time= 8.9min\n",
      "[CV] END bootstrap=True, max_depth=30, max_features=auto, min_samples_leaf=8, min_samples_split=5, n_estimators=700; total time=11.2min\n",
      "[CV] END bootstrap=False, max_depth=10, max_features=sqrt, min_samples_leaf=2, min_samples_split=15, n_estimators=1300; total time=27.5min\n",
      "[CV] END bootstrap=True, max_depth=30, max_features=sqrt, min_samples_leaf=8, min_samples_split=15, n_estimators=1500; total time=29.5min\n",
      "[CV] END bootstrap=True, max_depth=10, max_features=auto, min_samples_leaf=2, min_samples_split=10, n_estimators=1100; total time=12.8min\n",
      "[CV] END bootstrap=True, max_depth=10, max_features=auto, min_samples_leaf=2, min_samples_split=10, n_estimators=1100; total time=12.5min\n"
     ]
    },
    {
     "name": "stdout",
     "output_type": "stream",
     "text": [
      "[CV] END bootstrap=False, max_depth=70, max_features=sqrt, min_samples_leaf=2, min_samples_split=15, n_estimators=500; total time=15.3min\n",
      "[CV] END bootstrap=False, max_depth=20, max_features=sqrt, min_samples_leaf=8, min_samples_split=10, n_estimators=1300; total time=36.0min\n",
      "[CV] END bootstrap=False, max_depth=30, max_features=sqrt, min_samples_leaf=8, min_samples_split=10, n_estimators=1500; total time=42.4min\n",
      "[CV] END bootstrap=False, max_depth=30, max_features=sqrt, min_samples_leaf=2, min_samples_split=15, n_estimators=900; total time=27.6min\n",
      "[CV] END bootstrap=True, max_depth=10, max_features=auto, min_samples_leaf=1, min_samples_split=15, n_estimators=1500; total time=18.1min\n",
      "[CV] END bootstrap=True, max_depth=50, max_features=auto, min_samples_leaf=8, min_samples_split=2, n_estimators=1100; total time=18.6min\n",
      "[CV] END bootstrap=False, max_depth=90, max_features=sqrt, min_samples_leaf=4, min_samples_split=2, n_estimators=700; total time=20.9min\n",
      "[CV] END bootstrap=False, max_depth=100, max_features=auto, min_samples_leaf=4, min_samples_split=10, n_estimators=100; total time= 3.0min\n",
      "[CV] END bootstrap=False, max_depth=80, max_features=sqrt, min_samples_leaf=2, min_samples_split=2, n_estimators=100; total time= 3.1min\n",
      "[CV] END bootstrap=False, max_depth=80, max_features=sqrt, min_samples_leaf=2, min_samples_split=2, n_estimators=100; total time= 3.1min\n",
      "[CV] END bootstrap=True, max_depth=60, max_features=auto, min_samples_leaf=8, min_samples_split=15, n_estimators=1700; total time=28.7min\n",
      "[CV] END bootstrap=True, max_depth=80, max_features=sqrt, min_samples_leaf=8, min_samples_split=2, n_estimators=300; total time= 5.1min\n",
      "[CV] END bootstrap=False, max_depth=None, max_features=sqrt, min_samples_leaf=4, min_samples_split=2, n_estimators=1900; total time=57.0min\n",
      "[CV] END bootstrap=True, max_depth=70, max_features=sqrt, min_samples_leaf=1, min_samples_split=15, n_estimators=1100; total time=21.3min\n",
      "[CV] END bootstrap=True, max_depth=60, max_features=auto, min_samples_leaf=2, min_samples_split=10, n_estimators=1900; total time=36.3min\n",
      "[CV] END bootstrap=True, max_depth=50, max_features=auto, min_samples_leaf=8, min_samples_split=5, n_estimators=900; total time=15.4min\n",
      "[CV] END bootstrap=False, max_depth=40, max_features=sqrt, min_samples_leaf=2, min_samples_split=5, n_estimators=1500; total time=47.3min\n",
      "[CV] END bootstrap=False, max_depth=110, max_features=auto, min_samples_leaf=8, min_samples_split=2, n_estimators=1500; total time=42.6min\n",
      "[CV] END bootstrap=False, max_depth=30, max_features=sqrt, min_samples_leaf=8, min_samples_split=5, n_estimators=300; total time= 8.5min\n",
      "[CV] END bootstrap=True, max_depth=None, max_features=auto, min_samples_leaf=1, min_samples_split=10, n_estimators=700; total time=13.7min\n",
      "[CV] END bootstrap=False, max_depth=70, max_features=auto, min_samples_leaf=2, min_samples_split=15, n_estimators=900; total time=27.9min\n",
      "[CV] END bootstrap=False, max_depth=80, max_features=sqrt, min_samples_leaf=8, min_samples_split=10, n_estimators=1300; total time=37.0min\n",
      "[CV] END bootstrap=True, max_depth=50, max_features=auto, min_samples_leaf=8, min_samples_split=2, n_estimators=500; total time= 8.6min\n",
      "[CV] END bootstrap=True, max_depth=50, max_features=auto, min_samples_leaf=8, min_samples_split=2, n_estimators=500; total time= 8.7min\n",
      "[CV] END bootstrap=False, max_depth=80, max_features=sqrt, min_samples_leaf=2, min_samples_split=15, n_estimators=1900; total time=58.5min\n",
      "[CV] END bootstrap=False, max_depth=80, max_features=auto, min_samples_leaf=1, min_samples_split=15, n_estimators=1300; total time=41.6min\n",
      "[CV] END bootstrap=False, max_depth=80, max_features=auto, min_samples_leaf=8, min_samples_split=2, n_estimators=500; total time=14.4min\n",
      "[CV] END bootstrap=True, max_depth=70, max_features=auto, min_samples_leaf=1, min_samples_split=2, n_estimators=1700; total time=34.6min\n",
      "[CV] END bootstrap=True, max_depth=20, max_features=auto, min_samples_leaf=8, min_samples_split=10, n_estimators=1100; total time=18.4min\n",
      "[CV] END bootstrap=True, max_depth=20, max_features=auto, min_samples_leaf=8, min_samples_split=10, n_estimators=1100; total time=18.5min\n",
      "[CV] END bootstrap=True, max_depth=20, max_features=auto, min_samples_leaf=8, min_samples_split=5, n_estimators=1500; total time=25.3min\n",
      "[CV] END bootstrap=True, max_depth=50, max_features=auto, min_samples_leaf=4, min_samples_split=5, n_estimators=1100; total time=20.2min\n",
      "[CV] END bootstrap=False, max_depth=70, max_features=sqrt, min_samples_leaf=4, min_samples_split=5, n_estimators=700; total time=21.2min\n",
      "[CV] END bootstrap=True, max_depth=80, max_features=sqrt, min_samples_leaf=2, min_samples_split=2, n_estimators=300; total time= 5.8min\n",
      "[CV] END bootstrap=False, max_depth=20, max_features=sqrt, min_samples_leaf=4, min_samples_split=5, n_estimators=1300; total time=37.9min\n",
      "[CV] END bootstrap=True, max_depth=30, max_features=auto, min_samples_leaf=1, min_samples_split=15, n_estimators=1300; total time=25.4min\n",
      "[CV] END bootstrap=False, max_depth=20, max_features=sqrt, min_samples_leaf=1, min_samples_split=5, n_estimators=300; total time= 9.2min\n",
      "[CV] END bootstrap=False, max_depth=20, max_features=sqrt, min_samples_leaf=1, min_samples_split=5, n_estimators=300; total time= 9.2min\n",
      "[CV] END bootstrap=True, max_depth=10, max_features=auto, min_samples_leaf=1, min_samples_split=10, n_estimators=700; total time= 8.4min\n",
      "[CV] END bootstrap=False, max_depth=110, max_features=sqrt, min_samples_leaf=4, min_samples_split=15, n_estimators=900; total time=26.9min\n",
      "[CV] END bootstrap=False, max_depth=80, max_features=auto, min_samples_leaf=1, min_samples_split=10, n_estimators=1700; total time=54.3min\n",
      "[CV] END bootstrap=False, max_depth=10, max_features=sqrt, min_samples_leaf=1, min_samples_split=2, n_estimators=300; total time= 5.8min\n",
      "[CV] END bootstrap=True, max_depth=80, max_features=sqrt, min_samples_leaf=2, min_samples_split=10, n_estimators=900; total time=16.8min\n",
      "[CV] END bootstrap=False, max_depth=None, max_features=sqrt, min_samples_leaf=4, min_samples_split=15, n_estimators=1700; total time=49.7min\n",
      "[CV] END bootstrap=True, max_depth=30, max_features=sqrt, min_samples_leaf=4, min_samples_split=10, n_estimators=1700; total time=30.4min\n",
      "[CV] END bootstrap=False, max_depth=60, max_features=auto, min_samples_leaf=4, min_samples_split=15, n_estimators=300; total time= 8.9min\n",
      "[CV] END bootstrap=False, max_depth=60, max_features=auto, min_samples_leaf=4, min_samples_split=2, n_estimators=100; total time= 3.0min\n",
      "[CV] END bootstrap=True, max_depth=50, max_features=sqrt, min_samples_leaf=2, min_samples_split=15, n_estimators=900; total time=16.8min\n",
      "[CV] END bootstrap=False, max_depth=10, max_features=auto, min_samples_leaf=4, min_samples_split=2, n_estimators=1500; total time=28.6min\n",
      "[CV] END bootstrap=True, max_depth=30, max_features=auto, min_samples_leaf=8, min_samples_split=2, n_estimators=700; total time=11.4min\n",
      "[CV] END bootstrap=True, max_depth=90, max_features=auto, min_samples_leaf=1, min_samples_split=5, n_estimators=500; total time= 9.4min\n",
      "[CV] END bootstrap=False, max_depth=100, max_features=auto, min_samples_leaf=1, min_samples_split=10, n_estimators=500; total time=15.0min\n",
      "[CV] END bootstrap=True, max_depth=20, max_features=auto, min_samples_leaf=8, min_samples_split=5, n_estimators=700; total time=11.0min\n",
      "[CV] END bootstrap=True, max_depth=20, max_features=auto, min_samples_leaf=8, min_samples_split=5, n_estimators=700; total time=10.9min\n",
      "[CV] END bootstrap=True, max_depth=60, max_features=auto, min_samples_leaf=2, min_samples_split=10, n_estimators=500; total time= 8.9min\n",
      "[CV] END bootstrap=True, max_depth=60, max_features=auto, min_samples_leaf=2, min_samples_split=10, n_estimators=500; total time= 9.0min\n",
      "[CV] END bootstrap=True, max_depth=60, max_features=auto, min_samples_leaf=1, min_samples_split=10, n_estimators=700; total time=13.3min\n",
      "[CV] END bootstrap=True, max_depth=30, max_features=sqrt, min_samples_leaf=8, min_samples_split=15, n_estimators=1500; total time=29.1min\n",
      "[CV] END bootstrap=True, max_depth=110, max_features=sqrt, min_samples_leaf=8, min_samples_split=15, n_estimators=700; total time=13.9min\n",
      "[CV] END bootstrap=False, max_depth=60, max_features=sqrt, min_samples_leaf=8, min_samples_split=15, n_estimators=1300; total time=34.6min\n"
     ]
    },
    {
     "name": "stdout",
     "output_type": "stream",
     "text": [
      "[CV] END bootstrap=False, max_depth=70, max_features=sqrt, min_samples_leaf=2, min_samples_split=15, n_estimators=500; total time=15.4min\n",
      "[CV] END bootstrap=False, max_depth=20, max_features=sqrt, min_samples_leaf=8, min_samples_split=10, n_estimators=1300; total time=36.0min\n",
      "[CV] END bootstrap=True, max_depth=None, max_features=auto, min_samples_leaf=1, min_samples_split=5, n_estimators=1700; total time=33.6min\n",
      "[CV] END bootstrap=True, max_depth=40, max_features=sqrt, min_samples_leaf=2, min_samples_split=15, n_estimators=700; total time=13.1min\n",
      "[CV] END bootstrap=False, max_depth=30, max_features=sqrt, min_samples_leaf=2, min_samples_split=15, n_estimators=900; total time=27.4min\n",
      "[CV] END bootstrap=True, max_depth=10, max_features=auto, min_samples_leaf=1, min_samples_split=15, n_estimators=1500; total time=18.1min\n",
      "[CV] END bootstrap=True, max_depth=50, max_features=auto, min_samples_leaf=8, min_samples_split=2, n_estimators=1100; total time=18.6min\n",
      "[CV] END bootstrap=False, max_depth=90, max_features=auto, min_samples_leaf=8, min_samples_split=15, n_estimators=1900; total time=53.5min\n",
      "[CV] END bootstrap=True, max_depth=80, max_features=sqrt, min_samples_leaf=8, min_samples_split=2, n_estimators=300; total time= 5.2min\n",
      "[CV] END bootstrap=False, max_depth=None, max_features=sqrt, min_samples_leaf=4, min_samples_split=2, n_estimators=1900; total time=57.1min\n",
      "[CV] END bootstrap=True, max_depth=70, max_features=sqrt, min_samples_leaf=1, min_samples_split=15, n_estimators=1100; total time=21.4min\n",
      "[CV] END bootstrap=True, max_depth=60, max_features=auto, min_samples_leaf=2, min_samples_split=10, n_estimators=1900; total time=36.3min\n",
      "[CV] END bootstrap=True, max_depth=50, max_features=auto, min_samples_leaf=8, min_samples_split=5, n_estimators=900; total time=15.3min\n",
      "[CV] END bootstrap=False, max_depth=70, max_features=sqrt, min_samples_leaf=8, min_samples_split=15, n_estimators=900; total time=25.6min\n",
      "[CV] END bootstrap=False, max_depth=10, max_features=sqrt, min_samples_leaf=4, min_samples_split=2, n_estimators=900; total time=17.4min\n",
      "[CV] END bootstrap=False, max_depth=10, max_features=sqrt, min_samples_leaf=4, min_samples_split=2, n_estimators=900; total time=17.4min\n",
      "[CV] END bootstrap=True, max_depth=70, max_features=sqrt, min_samples_leaf=4, min_samples_split=10, n_estimators=900; total time=16.3min\n",
      "[CV] END bootstrap=True, max_depth=70, max_features=sqrt, min_samples_leaf=4, min_samples_split=10, n_estimators=900; total time=16.4min\n",
      "[CV] END bootstrap=False, max_depth=30, max_features=sqrt, min_samples_leaf=8, min_samples_split=5, n_estimators=300; total time= 8.5min\n",
      "[CV] END bootstrap=True, max_depth=None, max_features=auto, min_samples_leaf=1, min_samples_split=10, n_estimators=700; total time=13.7min\n",
      "[CV] END bootstrap=False, max_depth=70, max_features=auto, min_samples_leaf=2, min_samples_split=15, n_estimators=900; total time=28.1min\n",
      "[CV] END bootstrap=True, max_depth=100, max_features=sqrt, min_samples_leaf=4, min_samples_split=10, n_estimators=1700; total time=30.9min\n",
      "[CV] END bootstrap=True, max_depth=110, max_features=auto, min_samples_leaf=2, min_samples_split=10, n_estimators=1700; total time=32.5min\n",
      "[CV] END bootstrap=False, max_depth=80, max_features=sqrt, min_samples_leaf=2, min_samples_split=15, n_estimators=1900; total time=58.7min\n",
      "[CV] END bootstrap=False, max_depth=30, max_features=auto, min_samples_leaf=4, min_samples_split=15, n_estimators=1300; total time=38.8min\n",
      "[CV] END bootstrap=True, max_depth=80, max_features=sqrt, min_samples_leaf=4, min_samples_split=5, n_estimators=500; total time= 9.3min\n",
      "[CV] END bootstrap=False, max_depth=90, max_features=sqrt, min_samples_leaf=2, min_samples_split=5, n_estimators=500; total time=16.2min\n",
      "[CV] END bootstrap=False, max_depth=90, max_features=sqrt, min_samples_leaf=2, min_samples_split=5, n_estimators=500; total time=16.0min\n",
      "[CV] END bootstrap=True, max_depth=20, max_features=auto, min_samples_leaf=8, min_samples_split=10, n_estimators=1100; total time=18.6min\n",
      "[CV] END bootstrap=True, max_depth=90, max_features=auto, min_samples_leaf=4, min_samples_split=5, n_estimators=100; total time= 1.8min\n",
      "[CV] END bootstrap=True, max_depth=90, max_features=auto, min_samples_leaf=4, min_samples_split=5, n_estimators=100; total time= 1.8min\n",
      "[CV] END bootstrap=True, max_depth=90, max_features=auto, min_samples_leaf=4, min_samples_split=5, n_estimators=100; total time= 1.8min\n",
      "[CV] END bootstrap=False, max_depth=90, max_features=sqrt, min_samples_leaf=4, min_samples_split=5, n_estimators=100; total time= 3.0min\n",
      "[CV] END bootstrap=False, max_depth=90, max_features=sqrt, min_samples_leaf=4, min_samples_split=5, n_estimators=100; total time= 3.1min\n",
      "[CV] END bootstrap=True, max_depth=40, max_features=sqrt, min_samples_leaf=8, min_samples_split=10, n_estimators=700; total time=12.1min\n",
      "[CV] END bootstrap=False, max_depth=10, max_features=auto, min_samples_leaf=8, min_samples_split=5, n_estimators=700; total time=13.8min\n",
      "[CV] END bootstrap=False, max_depth=10, max_features=auto, min_samples_leaf=8, min_samples_split=5, n_estimators=700; total time=13.8min\n",
      "[CV] END bootstrap=True, max_depth=80, max_features=sqrt, min_samples_leaf=2, min_samples_split=15, n_estimators=300; total time= 5.8min\n",
      "[CV] END bootstrap=True, max_depth=100, max_features=sqrt, min_samples_leaf=8, min_samples_split=2, n_estimators=900; total time=15.3min\n",
      "[CV] END bootstrap=False, max_depth=70, max_features=sqrt, min_samples_leaf=4, min_samples_split=5, n_estimators=700; total time=21.4min\n",
      "[CV] END bootstrap=False, max_depth=30, max_features=sqrt, min_samples_leaf=8, min_samples_split=5, n_estimators=700; total time=19.8min\n",
      "[CV] END bootstrap=False, max_depth=30, max_features=sqrt, min_samples_leaf=8, min_samples_split=5, n_estimators=700; total time=20.0min\n",
      "[CV] END bootstrap=True, max_depth=10, max_features=auto, min_samples_leaf=8, min_samples_split=5, n_estimators=500; total time= 6.2min\n",
      "[CV] END bootstrap=True, max_depth=40, max_features=sqrt, min_samples_leaf=1, min_samples_split=2, n_estimators=1700; total time=34.2min\n",
      "[CV] END bootstrap=True, max_depth=110, max_features=auto, min_samples_leaf=2, min_samples_split=15, n_estimators=900; total time=16.9min\n",
      "[CV] END bootstrap=False, max_depth=110, max_features=sqrt, min_samples_leaf=4, min_samples_split=15, n_estimators=900; total time=26.5min\n",
      "[CV] END bootstrap=True, max_depth=50, max_features=sqrt, min_samples_leaf=4, min_samples_split=5, n_estimators=1300; total time=23.4min\n",
      "[CV] END bootstrap=True, max_depth=50, max_features=sqrt, min_samples_leaf=4, min_samples_split=5, n_estimators=1300; total time=23.4min\n",
      "[CV] END bootstrap=True, max_depth=80, max_features=sqrt, min_samples_leaf=2, min_samples_split=10, n_estimators=900; total time=16.9min\n",
      "[CV] END bootstrap=False, max_depth=80, max_features=auto, min_samples_leaf=2, min_samples_split=2, n_estimators=1500; total time=46.4min\n",
      "[CV] END bootstrap=True, max_depth=40, max_features=auto, min_samples_leaf=4, min_samples_split=10, n_estimators=300; total time= 5.3min\n",
      "[CV] END bootstrap=True, max_depth=80, max_features=sqrt, min_samples_leaf=8, min_samples_split=10, n_estimators=100; total time= 1.7min\n",
      "[CV] END bootstrap=True, max_depth=30, max_features=sqrt, min_samples_leaf=4, min_samples_split=10, n_estimators=1700; total time=30.4min\n",
      "[CV] END bootstrap=True, max_depth=20, max_features=sqrt, min_samples_leaf=1, min_samples_split=2, n_estimators=1500; total time=27.9min\n",
      "[CV] END bootstrap=False, max_depth=10, max_features=auto, min_samples_leaf=4, min_samples_split=2, n_estimators=1500; total time=28.5min\n",
      "[CV] END bootstrap=True, max_depth=30, max_features=auto, min_samples_leaf=8, min_samples_split=2, n_estimators=700; total time=11.3min\n",
      "[CV] END bootstrap=True, max_depth=90, max_features=auto, min_samples_leaf=1, min_samples_split=5, n_estimators=500; total time= 9.3min\n",
      "[CV] END bootstrap=False, max_depth=10, max_features=auto, min_samples_leaf=2, min_samples_split=5, n_estimators=500; total time= 9.1min\n",
      "[CV] END bootstrap=False, max_depth=10, max_features=auto, min_samples_leaf=2, min_samples_split=5, n_estimators=500; total time= 9.1min\n",
      "[CV] END bootstrap=True, max_depth=20, max_features=auto, min_samples_leaf=8, min_samples_split=5, n_estimators=700; total time=11.0min\n",
      "[CV] END bootstrap=False, max_depth=80, max_features=sqrt, min_samples_leaf=8, min_samples_split=15, n_estimators=700; total time=18.7min\n",
      "[CV] END bootstrap=True, max_depth=30, max_features=auto, min_samples_leaf=8, min_samples_split=5, n_estimators=700; total time=11.3min\n",
      "[CV] END bootstrap=False, max_depth=10, max_features=sqrt, min_samples_leaf=2, min_samples_split=15, n_estimators=1300; total time=27.6min\n",
      "[CV] END bootstrap=True, max_depth=30, max_features=sqrt, min_samples_leaf=8, min_samples_split=15, n_estimators=1500; total time=29.5min\n",
      "[CV] END bootstrap=True, max_depth=10, max_features=auto, min_samples_leaf=2, min_samples_split=10, n_estimators=1100; total time=12.7min\n",
      "[CV] END bootstrap=False, max_depth=None, max_features=sqrt, min_samples_leaf=1, min_samples_split=10, n_estimators=1300; total time=32.5min\n"
     ]
    },
    {
     "name": "stdout",
     "output_type": "stream",
     "text": [
      "[CV] END bootstrap=False, max_depth=20, max_features=sqrt, min_samples_leaf=8, min_samples_split=10, n_estimators=1300; total time=36.0min\n",
      "[CV] END bootstrap=False, max_depth=30, max_features=sqrt, min_samples_leaf=8, min_samples_split=10, n_estimators=1500; total time=42.4min\n",
      "[CV] END bootstrap=True, max_depth=None, max_features=auto, min_samples_leaf=1, min_samples_split=5, n_estimators=1700; total time=33.6min\n",
      "[CV] END bootstrap=False, max_depth=10, max_features=sqrt, min_samples_leaf=4, min_samples_split=2, n_estimators=1300; total time=24.9min\n",
      "[CV] END bootstrap=True, max_depth=50, max_features=auto, min_samples_leaf=8, min_samples_split=2, n_estimators=1100; total time=18.5min\n",
      "[CV] END bootstrap=False, max_depth=90, max_features=sqrt, min_samples_leaf=4, min_samples_split=2, n_estimators=700; total time=20.9min\n",
      "[CV] END bootstrap=False, max_depth=100, max_features=auto, min_samples_leaf=4, min_samples_split=10, n_estimators=100; total time= 3.0min\n",
      "[CV] END bootstrap=False, max_depth=100, max_features=auto, min_samples_leaf=4, min_samples_split=10, n_estimators=100; total time= 3.0min\n",
      "[CV] END bootstrap=False, max_depth=80, max_features=sqrt, min_samples_leaf=2, min_samples_split=2, n_estimators=100; total time= 3.2min\n",
      "[CV] END bootstrap=True, max_depth=60, max_features=auto, min_samples_leaf=8, min_samples_split=15, n_estimators=1700; total time=28.8min\n",
      "[CV] END bootstrap=True, max_depth=60, max_features=auto, min_samples_leaf=8, min_samples_split=15, n_estimators=1700; total time=28.9min\n",
      "[CV] END bootstrap=False, max_depth=80, max_features=sqrt, min_samples_leaf=2, min_samples_split=15, n_estimators=1500; total time=46.5min\n",
      "[CV] END bootstrap=True, max_depth=70, max_features=sqrt, min_samples_leaf=1, min_samples_split=15, n_estimators=1100; total time=21.4min\n",
      "[CV] END bootstrap=True, max_depth=80, max_features=auto, min_samples_leaf=1, min_samples_split=15, n_estimators=700; total time=13.6min\n",
      "[CV] END bootstrap=True, max_depth=80, max_features=auto, min_samples_leaf=1, min_samples_split=15, n_estimators=700; total time=13.7min\n",
      "[CV] END bootstrap=False, max_depth=110, max_features=sqrt, min_samples_leaf=2, min_samples_split=5, n_estimators=300; total time= 9.5min\n",
      "[CV] END bootstrap=False, max_depth=70, max_features=sqrt, min_samples_leaf=8, min_samples_split=15, n_estimators=900; total time=25.5min\n",
      "[CV] END bootstrap=False, max_depth=40, max_features=sqrt, min_samples_leaf=2, min_samples_split=5, n_estimators=1500; total time=47.4min\n",
      "[CV] END bootstrap=True, max_depth=70, max_features=sqrt, min_samples_leaf=4, min_samples_split=10, n_estimators=900; total time=16.5min\n",
      "[CV] END bootstrap=True, max_depth=70, max_features=sqrt, min_samples_leaf=4, min_samples_split=10, n_estimators=900; total time=16.3min\n",
      "[CV] END bootstrap=True, max_depth=10, max_features=auto, min_samples_leaf=4, min_samples_split=5, n_estimators=1100; total time=13.5min\n",
      "[CV] END bootstrap=False, max_depth=70, max_features=auto, min_samples_leaf=2, min_samples_split=15, n_estimators=900; total time=27.9min\n",
      "[CV] END bootstrap=True, max_depth=100, max_features=sqrt, min_samples_leaf=4, min_samples_split=10, n_estimators=1700; total time=31.1min\n",
      "[CV] END bootstrap=True, max_depth=110, max_features=auto, min_samples_leaf=2, min_samples_split=10, n_estimators=1700; total time=32.5min\n",
      "[CV] END bootstrap=False, max_depth=70, max_features=sqrt, min_samples_leaf=8, min_samples_split=10, n_estimators=100; total time= 2.8min\n",
      "[CV] END bootstrap=False, max_depth=70, max_features=sqrt, min_samples_leaf=8, min_samples_split=10, n_estimators=100; total time= 2.7min\n",
      "[CV] END bootstrap=False, max_depth=80, max_features=sqrt, min_samples_leaf=8, min_samples_split=15, n_estimators=300; total time= 8.2min\n",
      "[CV] END bootstrap=False, max_depth=80, max_features=auto, min_samples_leaf=1, min_samples_split=15, n_estimators=1300; total time=41.7min\n",
      "[CV] END bootstrap=False, max_depth=30, max_features=auto, min_samples_leaf=4, min_samples_split=15, n_estimators=1300; total time=38.6min\n",
      "[CV] END bootstrap=True, max_depth=80, max_features=sqrt, min_samples_leaf=4, min_samples_split=5, n_estimators=500; total time= 9.3min\n",
      "[CV] END bootstrap=False, max_depth=90, max_features=sqrt, min_samples_leaf=2, min_samples_split=5, n_estimators=500; total time=16.1min\n",
      "[CV] END bootstrap=False, max_depth=90, max_features=sqrt, min_samples_leaf=2, min_samples_split=5, n_estimators=500; total time=16.0min\n",
      "[CV] END bootstrap=True, max_depth=110, max_features=sqrt, min_samples_leaf=2, min_samples_split=5, n_estimators=1700; total time=32.8min\n",
      "[CV] END bootstrap=True, max_depth=40, max_features=sqrt, min_samples_leaf=8, min_samples_split=10, n_estimators=700; total time=12.2min\n",
      "[CV] END bootstrap=False, max_depth=10, max_features=auto, min_samples_leaf=8, min_samples_split=5, n_estimators=700; total time=13.7min\n",
      "[CV] END bootstrap=False, max_depth=10, max_features=auto, min_samples_leaf=8, min_samples_split=5, n_estimators=700; total time=13.8min\n",
      "[CV] END bootstrap=True, max_depth=80, max_features=sqrt, min_samples_leaf=2, min_samples_split=15, n_estimators=300; total time= 5.7min\n",
      "[CV] END bootstrap=True, max_depth=80, max_features=sqrt, min_samples_leaf=2, min_samples_split=15, n_estimators=300; total time= 5.7min\n",
      "[CV] END bootstrap=True, max_depth=100, max_features=sqrt, min_samples_leaf=8, min_samples_split=2, n_estimators=900; total time=15.4min\n",
      "[CV] END bootstrap=True, max_depth=60, max_features=sqrt, min_samples_leaf=2, min_samples_split=10, n_estimators=100; total time= 1.9min\n",
      "[CV] END bootstrap=False, max_depth=20, max_features=auto, min_samples_leaf=2, min_samples_split=10, n_estimators=100; total time= 3.0min\n",
      "[CV] END bootstrap=True, max_depth=80, max_features=sqrt, min_samples_leaf=2, min_samples_split=2, n_estimators=300; total time= 5.8min\n",
      "[CV] END bootstrap=False, max_depth=20, max_features=sqrt, min_samples_leaf=4, min_samples_split=5, n_estimators=1300; total time=37.7min\n",
      "[CV] END bootstrap=True, max_depth=30, max_features=auto, min_samples_leaf=1, min_samples_split=15, n_estimators=1300; total time=25.4min\n",
      "[CV] END bootstrap=True, max_depth=40, max_features=sqrt, min_samples_leaf=1, min_samples_split=2, n_estimators=1700; total time=34.0min\n",
      "[CV] END bootstrap=False, max_depth=110, max_features=sqrt, min_samples_leaf=4, min_samples_split=15, n_estimators=900; total time=26.7min\n",
      "[CV] END bootstrap=True, max_depth=50, max_features=sqrt, min_samples_leaf=4, min_samples_split=5, n_estimators=1300; total time=23.2min\n",
      "[CV] END bootstrap=True, max_depth=50, max_features=sqrt, min_samples_leaf=4, min_samples_split=5, n_estimators=1300; total time=23.4min\n",
      "[CV] END bootstrap=False, max_depth=10, max_features=sqrt, min_samples_leaf=1, min_samples_split=2, n_estimators=300; total time= 5.8min\n",
      "[CV] END bootstrap=True, max_depth=80, max_features=sqrt, min_samples_leaf=2, min_samples_split=10, n_estimators=900; total time=16.8min\n",
      "[CV] END bootstrap=False, max_depth=None, max_features=sqrt, min_samples_leaf=4, min_samples_split=15, n_estimators=1700; total time=49.7min\n",
      "[CV] END bootstrap=True, max_depth=80, max_features=sqrt, min_samples_leaf=8, min_samples_split=10, n_estimators=100; total time= 1.6min\n",
      "[CV] END bootstrap=True, max_depth=80, max_features=sqrt, min_samples_leaf=8, min_samples_split=10, n_estimators=100; total time= 1.7min\n",
      "[CV] END bootstrap=False, max_depth=60, max_features=auto, min_samples_leaf=4, min_samples_split=15, n_estimators=300; total time= 8.8min\n",
      "[CV] END bootstrap=False, max_depth=60, max_features=auto, min_samples_leaf=4, min_samples_split=15, n_estimators=300; total time= 8.8min\n",
      "[CV] END bootstrap=False, max_depth=60, max_features=auto, min_samples_leaf=4, min_samples_split=15, n_estimators=300; total time= 8.9min\n",
      "[CV] END bootstrap=False, max_depth=60, max_features=auto, min_samples_leaf=4, min_samples_split=15, n_estimators=300; total time= 8.9min\n",
      "[CV] END bootstrap=False, max_depth=60, max_features=auto, min_samples_leaf=4, min_samples_split=2, n_estimators=100; total time= 3.0min\n",
      "[CV] END bootstrap=True, max_depth=50, max_features=sqrt, min_samples_leaf=2, min_samples_split=15, n_estimators=900; total time=16.8min\n",
      "[CV] END bootstrap=True, max_depth=50, max_features=sqrt, min_samples_leaf=2, min_samples_split=15, n_estimators=900; total time=16.5min\n",
      "[CV] END bootstrap=True, max_depth=30, max_features=sqrt, min_samples_leaf=2, min_samples_split=5, n_estimators=1300; total time=24.1min\n",
      "[CV] END bootstrap=True, max_depth=30, max_features=auto, min_samples_leaf=8, min_samples_split=2, n_estimators=700; total time=11.2min\n",
      "[CV] END bootstrap=False, max_depth=10, max_features=auto, min_samples_leaf=2, min_samples_split=5, n_estimators=500; total time= 9.2min\n",
      "[CV] END bootstrap=False, max_depth=10, max_features=auto, min_samples_leaf=2, min_samples_split=5, n_estimators=500; total time= 9.1min\n",
      "[CV] END bootstrap=True, max_depth=20, max_features=auto, min_samples_leaf=8, min_samples_split=5, n_estimators=700; total time=11.0min\n",
      "[CV] END bootstrap=False, max_depth=80, max_features=sqrt, min_samples_leaf=8, min_samples_split=15, n_estimators=700; total time=18.7min\n",
      "[CV] END bootstrap=True, max_depth=30, max_features=auto, min_samples_leaf=8, min_samples_split=5, n_estimators=700; total time=11.3min\n",
      "[CV] END bootstrap=False, max_depth=10, max_features=sqrt, min_samples_leaf=2, min_samples_split=15, n_estimators=1300; total time=27.6min\n",
      "[CV] END bootstrap=True, max_depth=110, max_features=sqrt, min_samples_leaf=8, min_samples_split=15, n_estimators=700; total time=13.7min\n",
      "[CV] END bootstrap=False, max_depth=60, max_features=sqrt, min_samples_leaf=8, min_samples_split=15, n_estimators=1300; total time=37.8min\n",
      "[CV] END bootstrap=False, max_depth=None, max_features=sqrt, min_samples_leaf=1, min_samples_split=10, n_estimators=1300; total time=29.2min\n"
     ]
    },
    {
     "name": "stdout",
     "output_type": "stream",
     "text": [
      "[CV] END bootstrap=False, max_depth=70, max_features=sqrt, min_samples_leaf=2, min_samples_split=15, n_estimators=500; total time=15.4min\n",
      "[CV] END bootstrap=True, max_depth=50, max_features=sqrt, min_samples_leaf=8, min_samples_split=5, n_estimators=1100; total time=18.7min\n",
      "[CV] END bootstrap=True, max_depth=50, max_features=sqrt, min_samples_leaf=8, min_samples_split=5, n_estimators=1100; total time=18.5min\n",
      "[CV] END bootstrap=True, max_depth=None, max_features=auto, min_samples_leaf=1, min_samples_split=5, n_estimators=1700; total time=33.7min\n",
      "[CV] END bootstrap=True, max_depth=40, max_features=sqrt, min_samples_leaf=2, min_samples_split=15, n_estimators=700; total time=13.2min\n",
      "[CV] END bootstrap=False, max_depth=30, max_features=sqrt, min_samples_leaf=2, min_samples_split=15, n_estimators=900; total time=27.3min\n",
      "[CV] END bootstrap=True, max_depth=10, max_features=auto, min_samples_leaf=1, min_samples_split=15, n_estimators=1500; total time=18.1min\n",
      "[CV] END bootstrap=False, max_depth=90, max_features=sqrt, min_samples_leaf=4, min_samples_split=2, n_estimators=700; total time=20.9min\n",
      "[CV] END bootstrap=False, max_depth=90, max_features=auto, min_samples_leaf=8, min_samples_split=15, n_estimators=1900; total time=53.8min\n",
      "[CV] END bootstrap=False, max_depth=None, max_features=sqrt, min_samples_leaf=4, min_samples_split=2, n_estimators=1900; total time=57.0min\n",
      "[CV] END bootstrap=False, max_depth=80, max_features=sqrt, min_samples_leaf=2, min_samples_split=15, n_estimators=1500; total time=46.9min\n",
      "[CV] END bootstrap=True, max_depth=80, max_features=auto, min_samples_leaf=1, min_samples_split=15, n_estimators=700; total time=13.7min\n",
      "[CV] END bootstrap=False, max_depth=110, max_features=sqrt, min_samples_leaf=2, min_samples_split=5, n_estimators=300; total time= 9.6min\n",
      "[CV] END bootstrap=False, max_depth=110, max_features=sqrt, min_samples_leaf=2, min_samples_split=5, n_estimators=300; total time= 9.6min\n",
      "[CV] END bootstrap=False, max_depth=40, max_features=sqrt, min_samples_leaf=2, min_samples_split=5, n_estimators=1500; total time=47.0min\n",
      "[CV] END bootstrap=False, max_depth=110, max_features=auto, min_samples_leaf=8, min_samples_split=2, n_estimators=1500; total time=42.4min\n",
      "[CV] END bootstrap=False, max_depth=30, max_features=sqrt, min_samples_leaf=8, min_samples_split=5, n_estimators=300; total time= 8.6min\n",
      "[CV] END bootstrap=True, max_depth=10, max_features=auto, min_samples_leaf=4, min_samples_split=5, n_estimators=1100; total time=13.5min\n",
      "[CV] END bootstrap=False, max_depth=80, max_features=sqrt, min_samples_leaf=8, min_samples_split=10, n_estimators=1300; total time=36.9min\n",
      "[CV] END bootstrap=True, max_depth=100, max_features=sqrt, min_samples_leaf=4, min_samples_split=10, n_estimators=1700; total time=31.2min\n",
      "[CV] END bootstrap=True, max_depth=50, max_features=auto, min_samples_leaf=8, min_samples_split=2, n_estimators=500; total time= 8.6min\n",
      "[CV] END bootstrap=False, max_depth=80, max_features=sqrt, min_samples_leaf=2, min_samples_split=15, n_estimators=1900; total time=58.5min\n",
      "[CV] END bootstrap=False, max_depth=80, max_features=auto, min_samples_leaf=1, min_samples_split=15, n_estimators=1300; total time=41.6min\n",
      "[CV] END bootstrap=False, max_depth=80, max_features=auto, min_samples_leaf=8, min_samples_split=2, n_estimators=500; total time=14.4min\n",
      "[CV] END bootstrap=True, max_depth=70, max_features=auto, min_samples_leaf=1, min_samples_split=2, n_estimators=1700; total time=34.6min\n",
      "[CV] END bootstrap=True, max_depth=110, max_features=sqrt, min_samples_leaf=2, min_samples_split=5, n_estimators=1700; total time=32.7min\n",
      "[CV] END bootstrap=True, max_depth=40, max_features=sqrt, min_samples_leaf=8, min_samples_split=10, n_estimators=700; total time=12.2min\n",
      "[CV] END bootstrap=True, max_depth=20, max_features=auto, min_samples_leaf=8, min_samples_split=5, n_estimators=1500; total time=25.2min\n",
      "[CV] END bootstrap=True, max_depth=80, max_features=sqrt, min_samples_leaf=2, min_samples_split=15, n_estimators=300; total time= 5.7min\n",
      "[CV] END bootstrap=True, max_depth=80, max_features=sqrt, min_samples_leaf=2, min_samples_split=15, n_estimators=300; total time= 5.7min\n",
      "[CV] END bootstrap=True, max_depth=100, max_features=sqrt, min_samples_leaf=8, min_samples_split=2, n_estimators=900; total time=15.4min\n",
      "[CV] END bootstrap=True, max_depth=60, max_features=sqrt, min_samples_leaf=2, min_samples_split=10, n_estimators=100; total time= 2.0min\n",
      "[CV] END bootstrap=True, max_depth=60, max_features=sqrt, min_samples_leaf=2, min_samples_split=10, n_estimators=100; total time= 1.9min\n",
      "[CV] END bootstrap=False, max_depth=20, max_features=auto, min_samples_leaf=2, min_samples_split=10, n_estimators=100; total time= 3.0min\n",
      "[CV] END bootstrap=False, max_depth=20, max_features=auto, min_samples_leaf=2, min_samples_split=10, n_estimators=100; total time= 3.0min\n",
      "[CV] END bootstrap=True, max_depth=80, max_features=sqrt, min_samples_leaf=2, min_samples_split=2, n_estimators=300; total time= 5.8min\n",
      "[CV] END bootstrap=False, max_depth=30, max_features=sqrt, min_samples_leaf=8, min_samples_split=5, n_estimators=700; total time=19.8min\n",
      "[CV] END bootstrap=False, max_depth=30, max_features=sqrt, min_samples_leaf=8, min_samples_split=5, n_estimators=700; total time=19.9min\n",
      "[CV] END bootstrap=True, max_depth=10, max_features=auto, min_samples_leaf=8, min_samples_split=5, n_estimators=500; total time= 6.1min\n",
      "[CV] END bootstrap=True, max_depth=10, max_features=auto, min_samples_leaf=8, min_samples_split=5, n_estimators=500; total time= 6.1min\n",
      "[CV] END bootstrap=True, max_depth=40, max_features=sqrt, min_samples_leaf=1, min_samples_split=2, n_estimators=1700; total time=34.1min\n",
      "[CV] END bootstrap=True, max_depth=110, max_features=auto, min_samples_leaf=2, min_samples_split=15, n_estimators=900; total time=16.9min\n",
      "[CV] END bootstrap=False, max_depth=80, max_features=auto, min_samples_leaf=1, min_samples_split=10, n_estimators=1700; total time=54.2min\n",
      "[CV] END bootstrap=True, max_depth=20, max_features=sqrt, min_samples_leaf=1, min_samples_split=10, n_estimators=700; total time=12.8min\n",
      "[CV] END bootstrap=False, max_depth=10, max_features=sqrt, min_samples_leaf=1, min_samples_split=2, n_estimators=300; total time= 5.8min\n",
      "[CV] END bootstrap=True, max_depth=80, max_features=sqrt, min_samples_leaf=2, min_samples_split=10, n_estimators=900; total time=16.9min\n",
      "[CV] END bootstrap=False, max_depth=None, max_features=sqrt, min_samples_leaf=4, min_samples_split=15, n_estimators=1700; total time=49.7min\n",
      "[CV] END bootstrap=True, max_depth=30, max_features=sqrt, min_samples_leaf=4, min_samples_split=10, n_estimators=1700; total time=30.5min\n",
      "[CV] END bootstrap=True, max_depth=20, max_features=sqrt, min_samples_leaf=1, min_samples_split=2, n_estimators=1500; total time=27.9min\n",
      "[CV] END bootstrap=False, max_depth=10, max_features=auto, min_samples_leaf=4, min_samples_split=2, n_estimators=1500; total time=28.6min\n",
      "[CV] END bootstrap=True, max_depth=30, max_features=sqrt, min_samples_leaf=2, min_samples_split=5, n_estimators=1300; total time=23.5min\n",
      "[CV] END bootstrap=False, max_depth=10, max_features=auto, min_samples_leaf=2, min_samples_split=5, n_estimators=500; total time= 9.1min\n",
      "[CV] END bootstrap=False, max_depth=100, max_features=auto, min_samples_leaf=2, min_samples_split=2, n_estimators=500; total time=14.8min\n",
      "[CV] END bootstrap=True, max_depth=20, max_features=auto, min_samples_leaf=8, min_samples_split=5, n_estimators=700; total time=11.0min\n",
      "[CV] END bootstrap=True, max_depth=60, max_features=auto, min_samples_leaf=2, min_samples_split=10, n_estimators=500; total time= 8.8min\n",
      "[CV] END bootstrap=True, max_depth=30, max_features=auto, min_samples_leaf=8, min_samples_split=5, n_estimators=700; total time=11.2min\n",
      "[CV] END bootstrap=True, max_depth=60, max_features=auto, min_samples_leaf=1, min_samples_split=10, n_estimators=700; total time=13.9min\n",
      "[CV] END bootstrap=True, max_depth=30, max_features=sqrt, min_samples_leaf=8, min_samples_split=15, n_estimators=1500; total time=29.3min\n",
      "[CV] END bootstrap=True, max_depth=110, max_features=sqrt, min_samples_leaf=8, min_samples_split=15, n_estimators=700; total time=13.8min\n",
      "[CV] END bootstrap=True, max_depth=10, max_features=auto, min_samples_leaf=2, min_samples_split=10, n_estimators=1100; total time=13.2min\n",
      "[CV] END bootstrap=True, max_depth=10, max_features=auto, min_samples_leaf=2, min_samples_split=10, n_estimators=1100; total time=12.5min\n",
      "[CV] END bootstrap=False, max_depth=None, max_features=sqrt, min_samples_leaf=1, min_samples_split=10, n_estimators=1300; total time=28.4min\n"
     ]
    },
    {
     "name": "stdout",
     "output_type": "stream",
     "text": [
      "[CV] END bootstrap=False, max_depth=70, max_features=sqrt, min_samples_leaf=2, min_samples_split=15, n_estimators=500; total time=15.5min\n",
      "[CV] END bootstrap=True, max_depth=50, max_features=sqrt, min_samples_leaf=8, min_samples_split=5, n_estimators=1100; total time=18.7min\n",
      "[CV] END bootstrap=True, max_depth=50, max_features=sqrt, min_samples_leaf=8, min_samples_split=5, n_estimators=1100; total time=18.5min\n",
      "[CV] END bootstrap=True, max_depth=None, max_features=auto, min_samples_leaf=1, min_samples_split=5, n_estimators=1700; total time=33.9min\n",
      "[CV] END bootstrap=True, max_depth=40, max_features=sqrt, min_samples_leaf=2, min_samples_split=15, n_estimators=700; total time=13.2min\n",
      "[CV] END bootstrap=False, max_depth=10, max_features=sqrt, min_samples_leaf=4, min_samples_split=2, n_estimators=1300; total time=25.0min\n",
      "[CV] END bootstrap=True, max_depth=10, max_features=auto, min_samples_leaf=1, min_samples_split=15, n_estimators=1500; total time=18.1min\n",
      "[CV] END bootstrap=True, max_depth=50, max_features=auto, min_samples_leaf=8, min_samples_split=2, n_estimators=1100; total time=18.6min\n",
      "[CV] END bootstrap=False, max_depth=90, max_features=auto, min_samples_leaf=8, min_samples_split=15, n_estimators=1900; total time=53.5min\n",
      "[CV] END bootstrap=True, max_depth=60, max_features=auto, min_samples_leaf=8, min_samples_split=15, n_estimators=1700; total time=28.7min\n",
      "[CV] END bootstrap=False, max_depth=80, max_features=sqrt, min_samples_leaf=2, min_samples_split=15, n_estimators=1500; total time=46.6min\n",
      "[CV] END bootstrap=True, max_depth=60, max_features=auto, min_samples_leaf=2, min_samples_split=10, n_estimators=1900; total time=36.2min\n",
      "[CV] END bootstrap=True, max_depth=80, max_features=auto, min_samples_leaf=1, min_samples_split=15, n_estimators=700; total time=13.6min\n",
      "[CV] END bootstrap=False, max_depth=110, max_features=sqrt, min_samples_leaf=2, min_samples_split=5, n_estimators=300; total time= 9.5min\n",
      "[CV] END bootstrap=False, max_depth=70, max_features=sqrt, min_samples_leaf=8, min_samples_split=15, n_estimators=900; total time=25.6min\n",
      "[CV] END bootstrap=False, max_depth=40, max_features=sqrt, min_samples_leaf=2, min_samples_split=5, n_estimators=1500; total time=47.3min\n",
      "[CV] END bootstrap=True, max_depth=70, max_features=sqrt, min_samples_leaf=4, min_samples_split=10, n_estimators=900; total time=16.3min\n",
      "[CV] END bootstrap=False, max_depth=30, max_features=sqrt, min_samples_leaf=8, min_samples_split=5, n_estimators=300; total time= 8.5min\n",
      "[CV] END bootstrap=True, max_depth=None, max_features=auto, min_samples_leaf=1, min_samples_split=10, n_estimators=700; total time=13.8min\n",
      "[CV] END bootstrap=False, max_depth=70, max_features=auto, min_samples_leaf=2, min_samples_split=15, n_estimators=900; total time=27.9min\n",
      "[CV] END bootstrap=False, max_depth=80, max_features=sqrt, min_samples_leaf=8, min_samples_split=10, n_estimators=1300; total time=37.1min\n",
      "[CV] END bootstrap=True, max_depth=110, max_features=auto, min_samples_leaf=2, min_samples_split=10, n_estimators=1700; total time=32.4min\n",
      "[CV] END bootstrap=False, max_depth=70, max_features=sqrt, min_samples_leaf=8, min_samples_split=10, n_estimators=100; total time= 2.8min\n",
      "[CV] END bootstrap=False, max_depth=80, max_features=sqrt, min_samples_leaf=8, min_samples_split=15, n_estimators=300; total time= 8.1min\n",
      "[CV] END bootstrap=False, max_depth=80, max_features=sqrt, min_samples_leaf=8, min_samples_split=15, n_estimators=300; total time= 8.3min\n",
      "[CV] END bootstrap=False, max_depth=80, max_features=auto, min_samples_leaf=1, min_samples_split=15, n_estimators=1300; total time=41.9min\n",
      "[CV] END bootstrap=False, max_depth=30, max_features=auto, min_samples_leaf=4, min_samples_split=15, n_estimators=1300; total time=38.8min\n",
      "[CV] END bootstrap=True, max_depth=70, max_features=auto, min_samples_leaf=1, min_samples_split=2, n_estimators=1700; total time=34.5min\n",
      "[CV] END bootstrap=True, max_depth=110, max_features=sqrt, min_samples_leaf=2, min_samples_split=5, n_estimators=1700; total time=32.7min\n",
      "[CV] END bootstrap=True, max_depth=40, max_features=sqrt, min_samples_leaf=8, min_samples_split=10, n_estimators=700; total time=12.2min\n",
      "[CV] END bootstrap=True, max_depth=20, max_features=auto, min_samples_leaf=8, min_samples_split=5, n_estimators=1500; total time=25.3min\n",
      "[CV] END bootstrap=True, max_depth=50, max_features=auto, min_samples_leaf=4, min_samples_split=5, n_estimators=1100; total time=20.1min\n",
      "[CV] END bootstrap=False, max_depth=70, max_features=sqrt, min_samples_leaf=4, min_samples_split=5, n_estimators=700; total time=21.4min\n",
      "[CV] END bootstrap=False, max_depth=20, max_features=sqrt, min_samples_leaf=4, min_samples_split=5, n_estimators=1300; total time=37.8min\n",
      "[CV] END bootstrap=True, max_depth=30, max_features=auto, min_samples_leaf=1, min_samples_split=15, n_estimators=1300; total time=25.4min\n",
      "[CV] END bootstrap=False, max_depth=20, max_features=sqrt, min_samples_leaf=1, min_samples_split=5, n_estimators=300; total time= 9.2min\n",
      "[CV] END bootstrap=False, max_depth=20, max_features=sqrt, min_samples_leaf=1, min_samples_split=5, n_estimators=300; total time= 9.2min\n",
      "[CV] END bootstrap=True, max_depth=10, max_features=auto, min_samples_leaf=1, min_samples_split=10, n_estimators=700; total time= 8.4min\n",
      "[CV] END bootstrap=True, max_depth=110, max_features=auto, min_samples_leaf=2, min_samples_split=15, n_estimators=900; total time=17.0min\n",
      "[CV] END bootstrap=False, max_depth=80, max_features=auto, min_samples_leaf=1, min_samples_split=10, n_estimators=1700; total time=54.5min\n",
      "[CV] END bootstrap=True, max_depth=20, max_features=sqrt, min_samples_leaf=1, min_samples_split=10, n_estimators=700; total time=12.9min\n",
      "[CV] END bootstrap=True, max_depth=80, max_features=sqrt, min_samples_leaf=2, min_samples_split=10, n_estimators=900; total time=16.8min\n",
      "[CV] END bootstrap=False, max_depth=80, max_features=auto, min_samples_leaf=2, min_samples_split=2, n_estimators=1500; total time=46.6min\n",
      "[CV] END bootstrap=True, max_depth=40, max_features=auto, min_samples_leaf=4, min_samples_split=10, n_estimators=300; total time= 5.3min\n",
      "[CV] END bootstrap=True, max_depth=80, max_features=sqrt, min_samples_leaf=8, min_samples_split=10, n_estimators=100; total time= 1.7min\n",
      "[CV] END bootstrap=True, max_depth=30, max_features=sqrt, min_samples_leaf=4, min_samples_split=10, n_estimators=1700; total time=30.5min\n",
      "[CV] END bootstrap=True, max_depth=20, max_features=sqrt, min_samples_leaf=1, min_samples_split=2, n_estimators=1500; total time=28.0min\n",
      "[CV] END bootstrap=True, max_depth=30, max_features=sqrt, min_samples_leaf=2, min_samples_split=5, n_estimators=1300; total time=24.2min\n",
      "[CV] END bootstrap=True, max_depth=30, max_features=sqrt, min_samples_leaf=2, min_samples_split=5, n_estimators=1300; total time=23.8min\n",
      "[CV] END bootstrap=False, max_depth=100, max_features=auto, min_samples_leaf=1, min_samples_split=10, n_estimators=500; total time=15.2min\n",
      "[CV] END bootstrap=False, max_depth=100, max_features=auto, min_samples_leaf=2, min_samples_split=2, n_estimators=500; total time=14.9min\n",
      "[CV] END bootstrap=False, max_depth=80, max_features=sqrt, min_samples_leaf=8, min_samples_split=15, n_estimators=700; total time=18.6min\n",
      "[CV] END bootstrap=True, max_depth=30, max_features=auto, min_samples_leaf=8, min_samples_split=5, n_estimators=700; total time=11.2min\n",
      "[CV] END bootstrap=True, max_depth=60, max_features=auto, min_samples_leaf=1, min_samples_split=10, n_estimators=700; total time=14.2min\n",
      "[CV] END bootstrap=True, max_depth=30, max_features=sqrt, min_samples_leaf=8, min_samples_split=15, n_estimators=1500; total time=29.3min\n",
      "[CV] END bootstrap=False, max_depth=60, max_features=sqrt, min_samples_leaf=8, min_samples_split=15, n_estimators=1300; total time=37.4min\n",
      "[CV] END bootstrap=False, max_depth=None, max_features=sqrt, min_samples_leaf=1, min_samples_split=10, n_estimators=1300; total time=28.5min\n",
      "[CV] END bootstrap=False, max_depth=20, max_features=sqrt, min_samples_leaf=8, min_samples_split=10, n_estimators=1300; total time=35.8min\n",
      "[CV] END bootstrap=False, max_depth=30, max_features=sqrt, min_samples_leaf=8, min_samples_split=10, n_estimators=1500; total time=42.6min\n",
      "[CV] END bootstrap=True, max_depth=40, max_features=sqrt, min_samples_leaf=2, min_samples_split=15, n_estimators=700; total time=13.2min\n",
      "[CV] END bootstrap=False, max_depth=30, max_features=sqrt, min_samples_leaf=2, min_samples_split=15, n_estimators=900; total time=27.6min\n",
      "[CV] END bootstrap=False, max_depth=10, max_features=sqrt, min_samples_leaf=4, min_samples_split=2, n_estimators=1300; total time=25.0min\n",
      "[CV] END bootstrap=True, max_depth=50, max_features=auto, min_samples_leaf=8, min_samples_split=2, n_estimators=1100; total time=18.5min\n",
      "[CV] END bootstrap=False, max_depth=90, max_features=auto, min_samples_leaf=8, min_samples_split=15, n_estimators=1900; total time=53.8min\n",
      "[CV] END bootstrap=True, max_depth=80, max_features=sqrt, min_samples_leaf=8, min_samples_split=2, n_estimators=300; total time= 5.1min\n",
      "[CV] END bootstrap=False, max_depth=None, max_features=sqrt, min_samples_leaf=4, min_samples_split=2, n_estimators=1900; total time=57.1min\n",
      "[CV] END bootstrap=True, max_depth=70, max_features=sqrt, min_samples_leaf=1, min_samples_split=15, n_estimators=1100; total time=21.4min\n",
      "[CV] END bootstrap=True, max_depth=60, max_features=auto, min_samples_leaf=2, min_samples_split=10, n_estimators=1900; total time=36.3min\n",
      "[CV] END bootstrap=True, max_depth=50, max_features=auto, min_samples_leaf=8, min_samples_split=5, n_estimators=900; total time=15.3min\n",
      "[CV] END bootstrap=False, max_depth=70, max_features=sqrt, min_samples_leaf=8, min_samples_split=15, n_estimators=900; total time=25.6min\n",
      "[CV] END bootstrap=False, max_depth=10, max_features=sqrt, min_samples_leaf=4, min_samples_split=2, n_estimators=900; total time=17.4min\n",
      "[CV] END bootstrap=False, max_depth=110, max_features=auto, min_samples_leaf=8, min_samples_split=2, n_estimators=1500; total time=42.6min\n",
      "[CV] END bootstrap=False, max_depth=30, max_features=sqrt, min_samples_leaf=8, min_samples_split=5, n_estimators=300; total time= 8.5min\n",
      "[CV] END bootstrap=True, max_depth=None, max_features=auto, min_samples_leaf=1, min_samples_split=10, n_estimators=700; total time=13.8min\n",
      "[CV] END bootstrap=True, max_depth=10, max_features=auto, min_samples_leaf=4, min_samples_split=5, n_estimators=1100; total time=13.5min\n",
      "[CV] END bootstrap=False, max_depth=80, max_features=sqrt, min_samples_leaf=8, min_samples_split=10, n_estimators=1300; total time=36.8min\n",
      "[CV] END bootstrap=True, max_depth=100, max_features=sqrt, min_samples_leaf=4, min_samples_split=10, n_estimators=1700; total time=31.2min\n",
      "[CV] END bootstrap=True, max_depth=50, max_features=auto, min_samples_leaf=8, min_samples_split=2, n_estimators=500; total time= 8.6min\n",
      "[CV] END bootstrap=False, max_depth=80, max_features=sqrt, min_samples_leaf=2, min_samples_split=15, n_estimators=1900; total time=58.7min\n",
      "[CV] END bootstrap=False, max_depth=30, max_features=auto, min_samples_leaf=4, min_samples_split=15, n_estimators=1300; total time=38.6min\n",
      "[CV] END bootstrap=False, max_depth=80, max_features=auto, min_samples_leaf=8, min_samples_split=2, n_estimators=500; total time=14.4min\n",
      "[CV] END bootstrap=True, max_depth=70, max_features=auto, min_samples_leaf=1, min_samples_split=2, n_estimators=1700; total time=34.5min\n",
      "[CV] END bootstrap=True, max_depth=20, max_features=auto, min_samples_leaf=8, min_samples_split=10, n_estimators=1100; total time=18.5min\n",
      "[CV] END bootstrap=True, max_depth=20, max_features=auto, min_samples_leaf=8, min_samples_split=10, n_estimators=1100; total time=18.5min\n",
      "[CV] END bootstrap=True, max_depth=20, max_features=auto, min_samples_leaf=8, min_samples_split=5, n_estimators=1500; total time=25.4min\n",
      "[CV] END bootstrap=True, max_depth=50, max_features=auto, min_samples_leaf=4, min_samples_split=5, n_estimators=1100; total time=20.3min\n",
      "[CV] END bootstrap=False, max_depth=70, max_features=sqrt, min_samples_leaf=4, min_samples_split=5, n_estimators=700; total time=21.3min\n",
      "[CV] END bootstrap=True, max_depth=80, max_features=sqrt, min_samples_leaf=2, min_samples_split=2, n_estimators=300; total time= 5.9min\n",
      "[CV] END bootstrap=False, max_depth=20, max_features=sqrt, min_samples_leaf=4, min_samples_split=5, n_estimators=1300; total time=37.9min\n",
      "[CV] END bootstrap=True, max_depth=10, max_features=auto, min_samples_leaf=8, min_samples_split=5, n_estimators=500; total time= 6.1min\n",
      "[CV] END bootstrap=True, max_depth=10, max_features=auto, min_samples_leaf=8, min_samples_split=5, n_estimators=500; total time= 6.2min\n",
      "[CV] END bootstrap=True, max_depth=40, max_features=sqrt, min_samples_leaf=1, min_samples_split=2, n_estimators=1700; total time=34.1min\n",
      "[CV] END bootstrap=True, max_depth=110, max_features=auto, min_samples_leaf=2, min_samples_split=15, n_estimators=900; total time=17.0min\n",
      "[CV] END bootstrap=False, max_depth=110, max_features=sqrt, min_samples_leaf=4, min_samples_split=15, n_estimators=900; total time=26.6min\n",
      "[CV] END bootstrap=True, max_depth=50, max_features=sqrt, min_samples_leaf=4, min_samples_split=5, n_estimators=1300; total time=23.4min\n",
      "[CV] END bootstrap=True, max_depth=20, max_features=sqrt, min_samples_leaf=1, min_samples_split=10, n_estimators=700; total time=12.7min\n",
      "[CV] END bootstrap=True, max_depth=20, max_features=sqrt, min_samples_leaf=1, min_samples_split=10, n_estimators=700; total time=12.8min\n",
      "[CV] END bootstrap=False, max_depth=80, max_features=auto, min_samples_leaf=2, min_samples_split=2, n_estimators=1500; total time=46.6min\n",
      "[CV] END bootstrap=False, max_depth=None, max_features=sqrt, min_samples_leaf=4, min_samples_split=15, n_estimators=1700; total time=50.1min\n",
      "[CV] END bootstrap=True, max_depth=20, max_features=sqrt, min_samples_leaf=1, min_samples_split=2, n_estimators=1500; total time=28.0min\n",
      "[CV] END bootstrap=False, max_depth=10, max_features=auto, min_samples_leaf=4, min_samples_split=2, n_estimators=1500; total time=28.5min\n",
      "[CV] END bootstrap=True, max_depth=30, max_features=auto, min_samples_leaf=8, min_samples_split=2, n_estimators=700; total time=11.3min\n",
      "[CV] END bootstrap=True, max_depth=90, max_features=auto, min_samples_leaf=1, min_samples_split=5, n_estimators=500; total time= 9.3min\n",
      "[CV] END bootstrap=False, max_depth=100, max_features=auto, min_samples_leaf=1, min_samples_split=10, n_estimators=500; total time=15.1min\n",
      "[CV] END bootstrap=False, max_depth=100, max_features=auto, min_samples_leaf=2, min_samples_split=2, n_estimators=500; total time=14.9min\n",
      "[CV] END bootstrap=False, max_depth=80, max_features=sqrt, min_samples_leaf=8, min_samples_split=15, n_estimators=700; total time=18.7min\n",
      "[CV] END bootstrap=True, max_depth=60, max_features=auto, min_samples_leaf=1, min_samples_split=10, n_estimators=700; total time=12.9min\n",
      "[CV] END bootstrap=False, max_depth=10, max_features=sqrt, min_samples_leaf=2, min_samples_split=15, n_estimators=1300; total time=28.0min\n",
      "[CV] END bootstrap=True, max_depth=110, max_features=sqrt, min_samples_leaf=8, min_samples_split=15, n_estimators=700; total time=13.8min\n",
      "[CV] END bootstrap=False, max_depth=60, max_features=sqrt, min_samples_leaf=8, min_samples_split=15, n_estimators=1300; total time=37.1min\n",
      "[CV] END bootstrap=False, max_depth=None, max_features=sqrt, min_samples_leaf=1, min_samples_split=10, n_estimators=1300; total time=28.3min\n"
     ]
    },
    {
     "data": {
      "text/plain": [
       "RandomizedSearchCV(estimator=RandomForestClassifier(), n_iter=100, n_jobs=-1,\n",
       "                   param_distributions={'bootstrap': [True, False],\n",
       "                                        'max_depth': [10, 20, 30, 40, 50, 60,\n",
       "                                                      70, 80, 90, 100, 110,\n",
       "                                                      None],\n",
       "                                        'max_features': ['auto', 'sqrt'],\n",
       "                                        'min_samples_leaf': [1, 2, 4, 8],\n",
       "                                        'min_samples_split': [2, 5, 10, 15],\n",
       "                                        'n_estimators': [100, 300, 500, 700,\n",
       "                                                         900, 1100, 1300, 1500,\n",
       "                                                         1700, 1900]},\n",
       "                   random_state=42, verbose=2)"
      ]
     },
     "execution_count": 24,
     "metadata": {},
     "output_type": "execute_result"
    }
   ],
   "source": [
    "# First create the base model to tune\n",
    "# rf = RandomForestClassifier()\n",
    "\n",
    "# rf_random = RandomizedSearchCV(estimator = rf, param_distributions = random_grid, n_iter = 100, verbose=2, random_state=42, n_jobs = -1)\n",
    "# Fit the random search model\n",
    "# rf_random.fit(X_train, y_train)"
   ]
  },
  {
   "cell_type": "code",
   "execution_count": 39,
   "id": "42f0d6af",
   "metadata": {},
   "outputs": [],
   "source": [
    "#best params\n",
    "# joblib.dump(RandomForestClassifier, 'RandomForestClassifier.joblib')\n",
    "# random_forest_best_params = rf_random.best_params_\n",
    "# joblib.dump(random_forest_best_params, 'random_forest_best_params.joblib')"
   ]
  },
  {
   "cell_type": "code",
   "execution_count": 42,
   "id": "fc318262",
   "metadata": {},
   "outputs": [
    {
     "data": {
      "text/plain": [
       "{'n_estimators': 1500,\n",
       " 'min_samples_split': 2,\n",
       " 'min_samples_leaf': 2,\n",
       " 'max_features': 'auto',\n",
       " 'max_depth': 80,\n",
       " 'bootstrap': False}"
      ]
     },
     "execution_count": 42,
     "metadata": {},
     "output_type": "execute_result"
    }
   ],
   "source": [
    "RandomForestClassifier = joblib.load('RandomForestClassifier.joblib')\n",
    "random_forest_best_params = joblib.load('random_forest_best_params.joblib')\n",
    "random_forest_best_params"
   ]
  },
  {
   "cell_type": "code",
   "execution_count": 43,
   "id": "55aa51dc",
   "metadata": {},
   "outputs": [
    {
     "data": {
      "text/plain": [
       "['time_best_modelRandForests.joblib']"
      ]
     },
     "execution_count": 43,
     "metadata": {},
     "output_type": "execute_result"
    }
   ],
   "source": [
    "# start_time_best_RandForests = time.time()\n",
    "# best_modelRandForests = RandomForestClassifier(n_estimators = 1500, min_samples_split = 2, min_samples_leaf = 2, max_features = 'auto', max_depth = 80, bootstrap = False)\n",
    "# best_modelRandForests.fit(X_train, y_train)\n",
    "# best_predictionsRandForests = best_modelRandForests.predict(X_test)\n",
    "# joblib.dump(best_modelRandForests, 'best_modelRandForests.joblib')\n",
    "# joblib.dump((time.time() - start_time_best_RandForests), 'time_best_modelRandForests.joblib')\n",
    "\n",
    "# best_accuracyRandForests = metrics.accuracy_score(y_test, best_predictionsRandForests)\n",
    "# print(\"Accuracy (Random Forests): \", best_accuracyRandForests)\n",
    "# time_best_RandForests = time.time() - start_time_best_RandForests\n",
    "# print(\"Time taken to achive result: %s seconds\" % (time_best_RandForests))\n",
    "\n",
    "# plt.figure(figsize=(5,4))\n",
    "# print(classification_report(y_test, best_predictionsRandForests))\n",
    "# sns.heatmap(confusion_matrix(y_test, best_predictionsRandForests), cmap = \"Blues\", annot=True, fmt = '.0f')"
   ]
  },
  {
   "cell_type": "code",
   "execution_count": 44,
   "id": "94f02eb1",
   "metadata": {},
   "outputs": [
    {
     "name": "stdout",
     "output_type": "stream",
     "text": [
      "Accuracy (Best Random Forests):  0.8773333333333333\n",
      "Time taken to achive result: 2092.6486263275146 seconds\n",
      "              precision    recall  f1-score   support\n",
      "\n",
      "           0       0.82      0.88      0.85       583\n",
      "           1       1.00      0.96      0.98       588\n",
      "           2       0.82      0.83      0.82       633\n",
      "           3       0.87      0.90      0.88       619\n",
      "           4       0.77      0.82      0.79       597\n",
      "           5       0.94      0.94      0.94       632\n",
      "           6       0.75      0.60      0.66       578\n",
      "           7       0.93      0.93      0.93       566\n",
      "           8       0.93      0.96      0.95       580\n",
      "           9       0.93      0.96      0.94       624\n",
      "\n",
      "    accuracy                           0.88      6000\n",
      "   macro avg       0.88      0.88      0.88      6000\n",
      "weighted avg       0.88      0.88      0.88      6000\n",
      "\n"
     ]
    },
    {
     "data": {
      "text/plain": [
       "<AxesSubplot:>"
      ]
     },
     "execution_count": 44,
     "metadata": {},
     "output_type": "execute_result"
    },
    {
     "data": {
      "image/png": "[encoded data removed]",
      "text/plain": [
       "<Figure size 360x288 with 2 Axes>"
      ]
     },
     "metadata": {
      "needs_background": "light"
     },
     "output_type": "display_data"
    }
   ],
   "source": [
    "best_modelRandForests = joblib.load('best_modelRandForests.joblib')\n",
    "time_best_RandForests = joblib.load('time_best_modelRandForests.joblib')\n",
    "\n",
    "best_predictionsRandForests = best_modelRandForests.predict(X_test)\n",
    "best_accuracyRandForests = metrics.accuracy_score(y_test, best_predictionsRandForests)\n",
    "print(\"Accuracy (Best Random Forests): \", best_accuracyRandForests)\n",
    "print(\"Time taken to achive result: %s seconds\" % (time_best_RandForests))\n",
    "\n",
    "plt.figure(figsize=(5,4))\n",
    "print(classification_report(y_test, best_predictionsRandForests))\n",
    "sns.heatmap(confusion_matrix(y_test, best_predictionsRandForests), cmap = \"Blues\", annot=True, fmt = '.0f')"
   ]
  },
  {
   "cell_type": "code",
   "execution_count": 26,
   "id": "09182111",
   "metadata": {},
   "outputs": [],
   "source": [
    "#xgboost"
   ]
  },
  {
   "cell_type": "code",
   "execution_count": 45,
   "id": "c11b3c11",
   "metadata": {},
   "outputs": [
    {
     "ename": "NameError",
     "evalue": "name 'XGBClassifier' is not defined",
     "output_type": "error",
     "traceback": [
      "\u001b[0;31m---------------------------------------------------------------------------\u001b[0m",
      "\u001b[0;31mNameError\u001b[0m                                 Traceback (most recent call last)",
      "\u001b[0;32m/var/folders/6x/40yv3j4n29s1s0chhmz40n780000gn/T/ipykernel_1175/756516027.py\u001b[0m in \u001b[0;36m<module>\u001b[0;34m\u001b[0m\n\u001b[1;32m      1\u001b[0m \u001b[0mstart_timeXGBoost\u001b[0m \u001b[0;34m=\u001b[0m \u001b[0mtime\u001b[0m\u001b[0;34m.\u001b[0m\u001b[0mtime\u001b[0m\u001b[0;34m(\u001b[0m\u001b[0;34m)\u001b[0m\u001b[0;34m\u001b[0m\u001b[0;34m\u001b[0m\u001b[0m\n\u001b[0;32m----> 2\u001b[0;31m modelXGBoost = XGBClassifier(learning_rate = 0.2, n_estimators = 700, verbosity = 0, use_label_encoder = False,\n\u001b[0m\u001b[1;32m      3\u001b[0m                              n_jobs = -1, objective = 'multi:softmax')\n\u001b[1;32m      4\u001b[0m \u001b[0mmodelXGBoost\u001b[0m\u001b[0;34m.\u001b[0m\u001b[0mfit\u001b[0m\u001b[0;34m(\u001b[0m\u001b[0mX_train\u001b[0m\u001b[0;34m,\u001b[0m \u001b[0my_train\u001b[0m\u001b[0;34m)\u001b[0m\u001b[0;34m\u001b[0m\u001b[0;34m\u001b[0m\u001b[0m\n\u001b[1;32m      5\u001b[0m \u001b[0mpredictionsXGBoost\u001b[0m \u001b[0;34m=\u001b[0m \u001b[0mmodelXGBoost\u001b[0m\u001b[0;34m.\u001b[0m\u001b[0mpredict\u001b[0m\u001b[0;34m(\u001b[0m\u001b[0mX_test\u001b[0m\u001b[0;34m)\u001b[0m\u001b[0;34m\u001b[0m\u001b[0;34m\u001b[0m\u001b[0m\n",
      "\u001b[0;31mNameError\u001b[0m: name 'XGBClassifier' is not defined"
     ]
    }
   ],
   "source": [
    "start_timeXGBoost = time.time()\n",
    "modelXGBoost = XGBClassifier(learning_rate = 0.2, n_estimators = 700, verbosity = 0, use_label_encoder = False,\n",
    "                             n_jobs = -1, objective = 'multi:softmax')\n",
    "modelXGBoost.fit(X_train, y_train)\n",
    "predictionsXGBoost = modelXGBoost.predict(X_test)\n",
    "joblib.dump(modelXGBoost, 'modelXGBoost.joblib')\n",
    "joblib.dump((time.time() - start_timeXGBoost), 'time_modelXGBoost.joblib')\n",
    "\n",
    "\n",
    "# accuracyXGBoost = metrics.accuracy_score(y_test, predictionsXGBoost)\n",
    "# print(\"Accuracy (XGBoost): \", accuracyXGBoost)\n",
    "# timeXGBoost = time.time() - start_timeXGBoost\n",
    "# print(\"Time taken to achive result: %s seconds\" % (timeXGBoost))\n",
    "\n",
    "# plt.figure(figsize=(5,4))\n",
    "# print(classification_report(y_test, predictionsXGBoost))\n",
    "# sns.heatmap(confusion_matrix(y_test, predictionsXGBoost), cmap = \"Blues\", annot=True, fmt = '.0f')"
   ]
  },
  {
   "cell_type": "code",
   "execution_count": null,
   "id": "65738706",
   "metadata": {},
   "outputs": [],
   "source": [
    "modelXGBoost = joblib.load('modelXGBoost.joblib')\n",
    "timeXGBoost = joblib.load('time_modelXGBoost.joblib')\n",
    "\n",
    "predictionsXGBoost = modelXGBoost.predict(X_test)\n",
    "accuracyXGBoost = metrics.accuracy_score(y_test, predictionsXGBoost)\n",
    "print(\"Accuracy (XGBoost): \", accuracyXGBoost)\n",
    "print(\"Time taken to achive result: %s seconds\" % (timeXGBoost))\n",
    "\n",
    "plt.figure(figsize=(5,4))\n",
    "print(classification_report(y_test, predictionsXGBoost))\n",
    "sns.heatmap(confusion_matrix(y_test, predictionsXGBoost), cmap = \"Blues\", annot=True, fmt = '.0f')"
   ]
  },
  {
   "cell_type": "code",
   "execution_count": null,
   "id": "69c42d4f",
   "metadata": {},
   "outputs": [],
   "source": [
    "#adaboost"
   ]
  },
  {
   "cell_type": "code",
   "execution_count": 46,
   "id": "782df9dc",
   "metadata": {},
   "outputs": [
    {
     "data": {
      "text/plain": [
       "['time_modelAdaBoost.joblib']"
      ]
     },
     "execution_count": 46,
     "metadata": {},
     "output_type": "execute_result"
    }
   ],
   "source": [
    "# start_timeAdaBoost = time.time()\n",
    "# modelAdaBoost = AdaBoostClassifier(modelRandForests, n_estimators = 200, random_state = 0, learning_rate = 0.2)\n",
    "# modelAdaBoost.fit(X_train, y_train)\n",
    "# predictionsAdaBoost = modelAdaBoost.predict(X_test)\n",
    "# joblib.dump(modelAdaBoost, 'modelAdaBoost.joblib')\n",
    "# joblib.dump((time.time() - start_timeAdaBoost), 'time_modelAdaBoost.joblib')\n",
    "\n",
    "# accuracyAdaBoost = metrics.accuracy_score(y_test, predictionsAdaBoost)\n",
    "# print(\"Accuracy (AdaBoost): \", accuracyAdaBoost)\n",
    "# timeAdaBoost = time.time() - start_timeAdaBoost\n",
    "# print(\"Time taken to achive result: %s seconds\" % (timeAdaBoost))\n",
    "\n",
    "# plt.figure(figsize=(5,4))\n",
    "# print(classification_report(y_test, predictionsAdaBoost))\n",
    "# sns.heatmap(confusion_matrix(y_test, predictionsAdaBoost), cmap = \"Blues\", annot=True, fmt = '.0f')"
   ]
  },
  {
   "cell_type": "code",
   "execution_count": 47,
   "id": "8177b848",
   "metadata": {},
   "outputs": [
    {
     "name": "stdout",
     "output_type": "stream",
     "text": [
      "Accuracy (AdaBoost):  0.8715\n",
      "Time taken to achive result: 59.1989860534668 seconds\n",
      "              precision    recall  f1-score   support\n",
      "\n",
      "           0       0.80      0.88      0.84       583\n",
      "           1       0.99      0.95      0.97       588\n",
      "           2       0.81      0.82      0.82       633\n",
      "           3       0.87      0.89      0.88       619\n",
      "           4       0.77      0.82      0.79       597\n",
      "           5       0.93      0.93      0.93       632\n",
      "           6       0.73      0.59      0.65       578\n",
      "           7       0.93      0.92      0.93       566\n",
      "           8       0.94      0.95      0.95       580\n",
      "           9       0.92      0.96      0.94       624\n",
      "\n",
      "    accuracy                           0.87      6000\n",
      "   macro avg       0.87      0.87      0.87      6000\n",
      "weighted avg       0.87      0.87      0.87      6000\n",
      "\n"
     ]
    },
    {
     "data": {
      "text/plain": [
       "<AxesSubplot:>"
      ]
     },
     "execution_count": 47,
     "metadata": {},
     "output_type": "execute_result"
    },
    {
     "data": {
      "image/png": "[encoded data removed]",
      "text/plain": [
       "<Figure size 360x288 with 2 Axes>"
      ]
     },
     "metadata": {
      "needs_background": "light"
     },
     "output_type": "display_data"
    }
   ],
   "source": [
    "modelAdaBoost = joblib.load('modelAdaBoost.joblib')\n",
    "timeAdaBoost = joblib.load('time_modelAdaBoost.joblib')\n",
    "\n",
    "predictionsAdaBoost = modelAdaBoost.predict(X_test)\n",
    "accuracyAdaBoost = metrics.accuracy_score(y_test, predictionsAdaBoost)\n",
    "print(\"Accuracy (AdaBoost): \", accuracyAdaBoost)\n",
    "print(\"Time taken to achive result: %s seconds\" % (timeAdaBoost))\n",
    "\n",
    "plt.figure(figsize=(5,4))\n",
    "print(classification_report(y_test, predictionsAdaBoost))\n",
    "sns.heatmap(confusion_matrix(y_test, predictionsAdaBoost), cmap = \"Blues\", annot=True, fmt = '.0f')"
   ]
  },
  {
   "cell_type": "code",
   "execution_count": null,
   "id": "2584858b",
   "metadata": {},
   "outputs": [],
   "source": []
  },
  {
   "cell_type": "code",
   "execution_count": null,
   "id": "7f62cf97",
   "metadata": {},
   "outputs": [],
   "source": []
  },
  {
   "cell_type": "code",
   "execution_count": null,
   "id": "002c2cdc",
   "metadata": {},
   "outputs": [],
   "source": [
    "#voting "
   ]
  },
  {
   "cell_type": "code",
   "execution_count": 54,
   "id": "d0ed4633",
   "metadata": {},
   "outputs": [
    {
     "name": "stderr",
     "output_type": "stream",
     "text": [
      "/Users/netanel/opt/anaconda3/lib/python3.9/site-packages/sklearn/linear_model/_logistic.py:814: ConvergenceWarning: lbfgs failed to converge (status=1):\n",
      "STOP: TOTAL NO. of ITERATIONS REACHED LIMIT.\n",
      "\n",
      "Increase the number of iterations (max_iter) or scale the data as shown in:\n",
      "    https://scikit-learn.org/stable/modules/preprocessing.html\n",
      "Please also refer to the documentation for alternative solver options:\n",
      "    https://scikit-learn.org/stable/modules/linear_model.html#logistic-regression\n",
      "  n_iter_i = _check_optimize_result(\n"
     ]
    },
    {
     "data": {
      "text/plain": [
       "['time_modelVoting.joblib']"
      ]
     },
     "execution_count": 54,
     "metadata": {},
     "output_type": "execute_result"
    }
   ],
   "source": [
    "start_timeVoting = time.time()\n",
    "warnings.filterwarnings('ignore')\n",
    "modelVoting = VotingClassifier(\n",
    "    estimators=\n",
    "        [('KNN', modelKNN),\n",
    "         ('LogReg', modelLogReg),\n",
    "         ('RandForests', best_modelRandForests),\n",
    "         ('AdaBoost', modelAdaBoost)],\n",
    "    voting='soft', n_jobs=-1, weights=[1, 1, 3, 3])\n",
    "modelVoting.fit(X_train, y_train)\n",
    "predictionsVoting = modelVoting.predict(X_test)\n",
    "joblib.dump(modelVoting, 'modelVoting.joblib')\n",
    "joblib.dump((time.time() - start_timeVoting), 'time_modelVoting.joblib')\n",
    "\n",
    "#          ('XGBoost', modelXGBoost)],\n",
    "         \n",
    "# accuracyVoting = metrics.accuracy_score(y_test, predictionsVoting)\n",
    "# print(\"Accuracy: \", accuracyVoting)\n",
    "# timeVoting = time.time() - start_timeVoting\n",
    "# print(\"Time taken to achive result: %s seconds\\n\\n\" % (timeVoting))\n",
    "\n",
    "# plt.figure(figsize=(5,4))\n",
    "# print(classification_report(y_test, predictionsVoting))\n",
    "# sns.heatmap(confusion_matrix(y_test, predictionsVoting), cmap = \"Blues\", annot=True, fmt = '.0f')"
   ]
  },
  {
   "cell_type": "code",
   "execution_count": 56,
   "id": "cc73750e",
   "metadata": {},
   "outputs": [
    {
     "name": "stdout",
     "output_type": "stream",
     "text": [
      "Accuracy:  0.8815\n",
      "Time taken to achive result: 2069.5006630420685 seconds\n",
      "\n",
      "\n",
      "              precision    recall  f1-score   support\n",
      "\n",
      "           0       0.82      0.88      0.85       583\n",
      "           1       0.99      0.96      0.98       588\n",
      "           2       0.82      0.82      0.82       633\n",
      "           3       0.88      0.90      0.89       619\n",
      "           4       0.77      0.82      0.80       597\n",
      "           5       0.97      0.94      0.95       632\n",
      "           6       0.73      0.62      0.67       578\n",
      "           7       0.93      0.95      0.94       566\n",
      "           8       0.96      0.96      0.96       580\n",
      "           9       0.94      0.96      0.95       624\n",
      "\n",
      "    accuracy                           0.88      6000\n",
      "   macro avg       0.88      0.88      0.88      6000\n",
      "weighted avg       0.88      0.88      0.88      6000\n",
      "\n"
     ]
    },
    {
     "data": {
      "text/plain": [
       "<AxesSubplot:>"
      ]
     },
     "execution_count": 56,
     "metadata": {},
     "output_type": "execute_result"
    },
    {
     "data": {
      "image/png": "[encoded data removed]",
      "text/plain": [
       "<Figure size 360x288 with 2 Axes>"
      ]
     },
     "metadata": {
      "needs_background": "light"
     },
     "output_type": "display_data"
    }
   ],
   "source": [
    "modelVoting = joblib.load('modelVoting.joblib')\n",
    "timeVoting = joblib.load('time_modelVoting.joblib')\n",
    "\n",
    "predictionsVoting = modelVoting.predict(X_test)\n",
    "accuracyVoting = metrics.accuracy_score(y_test, predictionsVoting)\n",
    "print(\"Accuracy: \", accuracyVoting)\n",
    "print(\"Time taken to achive result: %s seconds\\n\\n\" % (timeVoting))\n",
    "\n",
    "plt.figure(figsize=(5,4))\n",
    "print(classification_report(y_test, predictionsVoting))\n",
    "sns.heatmap(confusion_matrix(y_test, predictionsVoting), cmap = \"Blues\", annot=True, fmt = '.0f')"
   ]
  },
  {
   "cell_type": "code",
   "execution_count": null,
   "id": "82e1f480",
   "metadata": {},
   "outputs": [],
   "source": [
    "#stacking"
   ]
  },
  {
   "cell_type": "code",
   "execution_count": 60,
   "id": "119a6207",
   "metadata": {},
   "outputs": [
    {
     "data": {
      "text/plain": [
       "['time_modelStacking.joblib']"
      ]
     },
     "execution_count": 60,
     "metadata": {},
     "output_type": "execute_result"
    }
   ],
   "source": [
    "# start_timeStacking = time.time()\n",
    "# warnings.filterwarnings('ignore')\n",
    "# modelStacking = StackingClassifier(estimators= [('KNN', modelKNN),\n",
    "#                                       ('LogReg', modelLogReg),\n",
    "#                                       ('RandForests', best_modelRandForests),\n",
    "#                                       ('AdaBoost', modelAdaBoost)],\n",
    "#                          final_estimator = best_modelRandForests)\n",
    "# modelStacking.fit(X_train, y_train)\n",
    "# predictionsStacking = modelStacking.predict(X_test)\n",
    "# joblib.dump(modelStacking, 'modelStacking.joblib')\n",
    "# joblib.dump((time.time() - start_timeStacking), 'time_modelStacking.joblib')\n",
    "\n",
    "\n",
    "# ('XGBoost', modelXGBoost)], \n",
    "\n",
    "# accuracyStacking = metrics.accuracy_score(y_test, predictionsStacking)\n",
    "# print(\"Accuracy: \", accuracyStacking)\n",
    "# timeStacking = time.time() - start_timeStacking\n",
    "# print(\"Time taken to achive result: %s seconds\\n\\n\" % (timeStacking))\n",
    "\n",
    "# plt.figure(figsize=(5,4))\n",
    "# print(classification_report(y_test, predictionsStacking))\n",
    "# sns.heatmap(confusion_matrix(y_test, predictionsStacking), cmap = \"Blues\", annot=True, fmt = '.0f')"
   ]
  },
  {
   "cell_type": "code",
   "execution_count": 61,
   "id": "a3e8c164",
   "metadata": {},
   "outputs": [
    {
     "name": "stdout",
     "output_type": "stream",
     "text": [
      "Accuracy:  0.8943333333333333\n",
      "Time taken to achive result: 10825.018029212952 seconds\n",
      "\n",
      "\n",
      "              precision    recall  f1-score   support\n",
      "\n",
      "           0       0.85      0.87      0.86       583\n",
      "           1       0.99      0.97      0.98       588\n",
      "           2       0.82      0.83      0.82       633\n",
      "           3       0.88      0.92      0.90       619\n",
      "           4       0.80      0.82      0.81       597\n",
      "           5       0.96      0.98      0.97       632\n",
      "           6       0.75      0.67      0.71       578\n",
      "           7       0.95      0.95      0.95       566\n",
      "           8       0.97      0.97      0.97       580\n",
      "           9       0.97      0.95      0.96       624\n",
      "\n",
      "    accuracy                           0.89      6000\n",
      "   macro avg       0.89      0.89      0.89      6000\n",
      "weighted avg       0.89      0.89      0.89      6000\n",
      "\n"
     ]
    },
    {
     "data": {
      "text/plain": [
       "<AxesSubplot:>"
      ]
     },
     "execution_count": 61,
     "metadata": {},
     "output_type": "execute_result"
    },
    {
     "data": {
      "image/png": "[encoded data removed]",
      "text/plain": [
       "<Figure size 360x288 with 2 Axes>"
      ]
     },
     "metadata": {
      "needs_background": "light"
     },
     "output_type": "display_data"
    }
   ],
   "source": [
    "modelStacking = joblib.load('modelStacking.joblib')\n",
    "timeStacking = joblib.load('time_modelStacking.joblib')\n",
    "\n",
    "predictionsStacking = modelStacking.predict(X_test)\n",
    "accuracyStacking = metrics.accuracy_score(y_test, predictionsStacking)\n",
    "print(\"Accuracy: \", accuracyStacking)\n",
    "timeStacking = time.time() - start_timeStacking\n",
    "print(\"Time taken to achive result: %s seconds\\n\\n\" % (timeStacking))\n",
    "\n",
    "plt.figure(figsize=(5,4))\n",
    "print(classification_report(y_test, predictionsStacking))\n",
    "sns.heatmap(confusion_matrix(y_test, predictionsStacking), cmap = \"Blues\", annot=True, fmt = '.0f')"
   ]
  },
  {
   "cell_type": "code",
   "execution_count": null,
   "id": "430c0df5",
   "metadata": {},
   "outputs": [],
   "source": [
    "#accuraciesGraph"
   ]
  },
  {
   "cell_type": "code",
   "execution_count": 75,
   "id": "ede1b42c",
   "metadata": {},
   "outputs": [
    {
     "data": {
      "text/plain": [
       "(0.8, 0.91)"
      ]
     },
     "execution_count": 75,
     "metadata": {},
     "output_type": "execute_result"
    },
    {
     "data": {
      "image/png": "[encoded data removed]",
      "text/plain": [
       "<Figure size 936x432 with 1 Axes>"
      ]
     },
     "metadata": {
      "needs_background": "light"
     },
     "output_type": "display_data"
    }
   ],
   "source": [
    "    accuracies = [accuracyDummy, accuracyKNN, accuracyLogReg, accuracyRandForests, best_accuracyRandForests, accuracyAdaBoost, accuracyVoting,  accuracyStacking]\n",
    "    fig = plt.figure(figsize=(13,6))\n",
    "    accuraciesSize = np.arange(len(accuracies))\n",
    "    axes = fig.add_axes([0,0,1,1])\n",
    "    labels = ['Dummy', 'KNN', 'Logistic Regression', 'Random Forest', 'Best Random Forest', 'AdaBoost', 'Voting',\n",
    "               'Stacking']\n",
    "    axes.bar(labels, accuracies)\n",
    "    axes.set_ylabel(\"Accuracy Score\")\n",
    "    axes.set_title(\"Accuracy Scores of the Different Classifiers\")\n",
    "    plt.rcParams['xtick.labelsize'] = 10\n",
    "    axes.set_ylim([0.8, 0.91])"
   ]
  },
  {
   "cell_type": "code",
   "execution_count": null,
   "id": "c3755652",
   "metadata": {},
   "outputs": [],
   "source": [
    "#timeGraph"
   ]
  },
  {
   "cell_type": "code",
   "execution_count": 106,
   "id": "0479c857",
   "metadata": {},
   "outputs": [
    {
     "data": {
      "text/plain": [
       "(0.0, 11000.0)"
      ]
     },
     "execution_count": 106,
     "metadata": {},
     "output_type": "execute_result"
    },
    {
     "data": {
      "image/png": "[encoded data removed]",
      "text/plain": [
       "<Figure size 1296x576 with 1 Axes>"
      ]
     },
     "metadata": {
      "needs_background": "light"
     },
     "output_type": "display_data"
    }
   ],
   "source": [
    "time = [timeDummy, timeKNN, timeLogReg, timeRandForests, time_best_RandForests, timeAdaBoost, timeVoting, timeStacking]\n",
    "labels = ['Dummy', 'KNN', 'Logistic Regression', 'Random Forest', 'Best Random Forest', 'AdaBoost', 'Voting', 'Stacking']\n",
    "fig = plt.figure(figsize=(18,8))\n",
    "\n",
    "timeSize = np.arange(len(time))\n",
    "axes = fig.add_axes([0,0,1,1])\n",
    "labels = ['Dummy', 'KNN', 'Logistic Regression', 'Random Forest', 'Best Random Forest', 'AdaBoost', 'Voting', 'Stacking']\n",
    "axes.bar(labels, time)\n",
    "axes.set_ylabel(\"Runtime (Seconds)\")\n",
    "axes.set_title(\"Runtimes of the Different Classifiers\")\n",
    "plt.rcParams['xtick.labelsize'] = 15\n",
    "plt.rcParams['ytick.labelsize'] = 17\n",
    "plt.yticks(np.arange(0,12000, 2000))\n",
    "axes.set_ylim([0, 11000])"
   ]
  },
  {
   "cell_type": "code",
   "execution_count": null,
   "id": "8d00d7dc",
   "metadata": {},
   "outputs": [],
   "source": []
  },
  {
   "cell_type": "code",
   "execution_count": 107,
   "id": "660143ea",
   "metadata": {},
   "outputs": [
    {
     "data": {
      "text/html": [
       "<style type=\"text/css\">\n",
       "#T_edb4e_row0_col0, #T_edb4e_row0_col1, #T_edb4e_row0_col2, #T_edb4e_row1_col0, #T_edb4e_row1_col1, #T_edb4e_row1_col2, #T_edb4e_row2_col0, #T_edb4e_row2_col1, #T_edb4e_row2_col2, #T_edb4e_row3_col0, #T_edb4e_row3_col1, #T_edb4e_row3_col2, #T_edb4e_row4_col0, #T_edb4e_row4_col1, #T_edb4e_row4_col2, #T_edb4e_row5_col0, #T_edb4e_row5_col1, #T_edb4e_row5_col2, #T_edb4e_row6_col0, #T_edb4e_row6_col1, #T_edb4e_row6_col2, #T_edb4e_row7_col0, #T_edb4e_row7_col1, #T_edb4e_row7_col2 {\n",
       "  text-align: left;\n",
       "}\n",
       "</style>\n",
       "<table id=\"T_edb4e_\">\n",
       "  <thead>\n",
       "    <tr>\n",
       "      <th class=\"blank level0\" >&nbsp;</th>\n",
       "      <th class=\"col_heading level0 col0\" >Model</th>\n",
       "      <th class=\"col_heading level0 col1\" >Accuracy</th>\n",
       "      <th class=\"col_heading level0 col2\" >Runtime (Seconds)</th>\n",
       "    </tr>\n",
       "  </thead>\n",
       "  <tbody>\n",
       "    <tr>\n",
       "      <th id=\"T_edb4e_level0_row0\" class=\"row_heading level0 row0\" >7</th>\n",
       "      <td id=\"T_edb4e_row0_col0\" class=\"data row0 col0\" >Stacking</td>\n",
       "      <td id=\"T_edb4e_row0_col1\" class=\"data row0 col1\" >0.8943333333333333</td>\n",
       "      <td id=\"T_edb4e_row0_col2\" class=\"data row0 col2\" >10825.018029212952</td>\n",
       "    </tr>\n",
       "    <tr>\n",
       "      <th id=\"T_edb4e_level0_row1\" class=\"row_heading level0 row1\" >6</th>\n",
       "      <td id=\"T_edb4e_row1_col0\" class=\"data row1 col0\" >Voting</td>\n",
       "      <td id=\"T_edb4e_row1_col1\" class=\"data row1 col1\" >0.8815</td>\n",
       "      <td id=\"T_edb4e_row1_col2\" class=\"data row1 col2\" >2069.5006630420685</td>\n",
       "    </tr>\n",
       "    <tr>\n",
       "      <th id=\"T_edb4e_level0_row2\" class=\"row_heading level0 row2\" >4</th>\n",
       "      <td id=\"T_edb4e_row2_col0\" class=\"data row2 col0\" >Best Random Forests</td>\n",
       "      <td id=\"T_edb4e_row2_col1\" class=\"data row2 col1\" >0.8773333333333333</td>\n",
       "      <td id=\"T_edb4e_row2_col2\" class=\"data row2 col2\" >2092.6486263275146</td>\n",
       "    </tr>\n",
       "    <tr>\n",
       "      <th id=\"T_edb4e_level0_row3\" class=\"row_heading level0 row3\" >3</th>\n",
       "      <td id=\"T_edb4e_row3_col0\" class=\"data row3 col0\" >Random Forests</td>\n",
       "      <td id=\"T_edb4e_row3_col1\" class=\"data row3 col1\" >0.8716666666666667</td>\n",
       "      <td id=\"T_edb4e_row3_col2\" class=\"data row3 col2\" >93.044851064682</td>\n",
       "    </tr>\n",
       "    <tr>\n",
       "      <th id=\"T_edb4e_level0_row4\" class=\"row_heading level0 row4\" >5</th>\n",
       "      <td id=\"T_edb4e_row4_col0\" class=\"data row4 col0\" >AdaBoost</td>\n",
       "      <td id=\"T_edb4e_row4_col1\" class=\"data row4 col1\" >0.8715</td>\n",
       "      <td id=\"T_edb4e_row4_col2\" class=\"data row4 col2\" >59.1989860534668</td>\n",
       "    </tr>\n",
       "    <tr>\n",
       "      <th id=\"T_edb4e_level0_row5\" class=\"row_heading level0 row5\" >1</th>\n",
       "      <td id=\"T_edb4e_row5_col0\" class=\"data row5 col0\" >KNN</td>\n",
       "      <td id=\"T_edb4e_row5_col1\" class=\"data row5 col1\" >0.8663333333333333</td>\n",
       "      <td id=\"T_edb4e_row5_col2\" class=\"data row5 col2\" >6.324195861816406</td>\n",
       "    </tr>\n",
       "    <tr>\n",
       "      <th id=\"T_edb4e_level0_row6\" class=\"row_heading level0 row6\" >2</th>\n",
       "      <td id=\"T_edb4e_row6_col0\" class=\"data row6 col0\" >Logistic Regression</td>\n",
       "      <td id=\"T_edb4e_row6_col1\" class=\"data row6 col1\" >0.8558333333333333</td>\n",
       "      <td id=\"T_edb4e_row6_col2\" class=\"data row6 col2\" >15.096415996551514</td>\n",
       "    </tr>\n",
       "    <tr>\n",
       "      <th id=\"T_edb4e_level0_row7\" class=\"row_heading level0 row7\" >0</th>\n",
       "      <td id=\"T_edb4e_row7_col0\" class=\"data row7 col0\" >Dummy</td>\n",
       "      <td id=\"T_edb4e_row7_col1\" class=\"data row7 col1\" >0.10333333333333333</td>\n",
       "      <td id=\"T_edb4e_row7_col2\" class=\"data row7 col2\" >0.034219980239868164</td>\n",
       "    </tr>\n",
       "  </tbody>\n",
       "</table>\n"
      ],
      "text/plain": [
       "<pandas.io.formats.style.Styler at 0x7feaabfddfd0>"
      ]
     },
     "execution_count": 107,
     "metadata": {},
     "output_type": "execute_result"
    }
   ],
   "source": [
    "results = pd.DataFrame(np.array([['Dummy', accuracyDummy, timeDummy],\n",
    "                            ['KNN', accuracyKNN, timeKNN],\n",
    "                            ['Logistic Regression', accuracyLogReg, timeLogReg],\n",
    "                            ['Random Forests', accuracyRandForests, timeRandForests],\n",
    "                            ['Best Random Forests', best_accuracyRandForests, time_best_RandForests],\n",
    "                            ['AdaBoost', accuracyAdaBoost, timeAdaBoost],\n",
    "                            ['Voting', accuracyVoting, timeVoting],\n",
    "                            ['Stacking', accuracyStacking, timeStacking]]),\n",
    "                  columns=['Model', 'Accuracy', 'Runtime (Seconds)'])\n",
    "# ['XGBoost', accuracyXGBoost, timeXGBoost],\n",
    "#                             ['Bagging', accuracyBagging, timeBagging],\n",
    "#                             ['Pasting', accuracyPasting, timePasting],\n",
    "resultsView = results.sort_values(by = 'Accuracy', axis = 0, ascending = False)\n",
    "resultsView = resultsView.style.set_properties(**{'text-align': 'left'})\n",
    "resultsView"
   ]
  },
  {
   "cell_type": "code",
   "execution_count": null,
   "id": "816df055",
   "metadata": {},
   "outputs": [],
   "source": []
  },
  {
   "cell_type": "code",
   "execution_count": null,
   "id": "968e5b30",
   "metadata": {},
   "outputs": [],
   "source": []
  },
  {
   "cell_type": "code",
   "execution_count": null,
   "id": "e28b840e",
   "metadata": {},
   "outputs": [],
   "source": [
    "# start_timeVoting = time.time()\n",
    "# modelVoting = VotingClassifier(\n",
    "#     estimators=\n",
    "#         [('KNN', modelKNN),\n",
    "#          ('LogReg', modelLogReg),\n",
    "#          ('RandForests', modelRandForests),\n",
    "#          ('AdaBoost', modelAdaBoost),\n",
    "#          ('XGBoost', modelXGBoost)],\n",
    "#     voting='soft', n_jobs=-1, weights=[1, 1, 3, 3, 3])\n",
    "# modelVoting.fit(X_train, y_train)\n",
    "# predictionsVoting = modelVoting.predict(X_test_final)\n",
    "# accuracyVoting = metrics.accuracy_score(y_test_final, predictionsVoting)\n",
    "# print(\"Accuracy: \", accuracyVoting)\n",
    "# timeVoting = time.time() - start_timeVoting\n",
    "# print(\"Time taken to achive result: %s seconds\\n\\n\" % (timeVoting))\n",
    "\n",
    "# plt.figure(figsize=(5,4))\n",
    "# print(classification_report(y_test_final, predictionsVoting))\n",
    "# sns.heatmap(confusion_matrix(y_test_final, predictionsVoting), cmap = \"Blues\", annot=True, fmt = '.0f')"
   ]
  },
  {
   "cell_type": "code",
   "execution_count": null,
   "id": "ff18fc79",
   "metadata": {},
   "outputs": [],
   "source": []
  },
  {
   "cell_type": "code",
   "execution_count": null,
   "id": "e1714355",
   "metadata": {},
   "outputs": [],
   "source": []
  },
  {
   "cell_type": "code",
   "execution_count": null,
   "id": "cc5b339c",
   "metadata": {},
   "outputs": [],
   "source": []
  },
  {
   "cell_type": "code",
   "execution_count": null,
   "id": "89038095",
   "metadata": {},
   "outputs": [],
   "source": []
  },
  {
   "cell_type": "code",
   "execution_count": null,
   "id": "3fef4e25",
   "metadata": {},
   "outputs": [],
   "source": []
  }
 ],
 "metadata": {
  "kernelspec": {
   "display_name": "Python 3 (ipykernel)",
   "language": "python",
   "name": "python3"
  },
  "language_info": {
   "codemirror_mode": {
    "name": "ipython",
    "version": 3
   },
   "file_extension": ".py",
   "mimetype": "text/x-python",
   "name": "python",
   "nbconvert_exporter": "python",
   "pygments_lexer": "ipython3",
   "version": "3.9.7"
  }
 },
 "nbformat": 4,
 "nbformat_minor": 5
}
