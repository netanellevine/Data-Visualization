{
 "cells": [
  {
   "cell_type": "code",
   "execution_count": 4,
   "metadata": {},
   "outputs": [],
   "source": [
    "import pandas as pd\n",
    "import numpy as np\n",
    "import matplotlib.pyplot as plt\n",
    "import math"
   ]
  },
  {
   "cell_type": "markdown",
   "metadata": {},
   "source": [
    "# Kids Drawing - Insights using Pandas"
   ]
  },
  {
   "attachments": {
    "123.png": {
     "image/png": "[encoded data removed]"
    }
   },
   "cell_type": "markdown",
   "metadata": {},
   "source": [
    "In this part, we will work with Datasets of **Kids Doodling** in order to recognize some insights/patterns in each drawing.  \n",
    "For example:  \n",
    "![123.png](attachment:123.png)\n",
    "\n",
    "We will answer 4 main questions:\n",
    "1. How many different lines this drawing contains? (in the drawing above **8**)\n",
    "2. What is the **average pressure**  and the **length(euclidean distance)** of each line?  \n",
    "3. How many times the kid who drew this doodle **raised his hand** during the doodling? (in the drawing above **5**)\n",
    "4. Does this shape **open** or **close**? (in the drawing above **closed**)"
   ]
  },
  {
   "cell_type": "markdown",
   "metadata": {},
   "source": [
    "First, we will load the dataset of one of the doodling."
   ]
  },
  {
   "cell_type": "code",
   "execution_count": 6,
   "metadata": {},
   "outputs": [
    {
     "data": {
      "text/html": [
       "<div>\n",
       "<style scoped>\n",
       "    .dataframe tbody tr th:only-of-type {\n",
       "        vertical-align: middle;\n",
       "    }\n",
       "\n",
       "    .dataframe tbody tr th {\n",
       "        vertical-align: top;\n",
       "    }\n",
       "\n",
       "    .dataframe thead th {\n",
       "        text-align: right;\n",
       "    }\n",
       "</style>\n",
       "<table border=\"1\" class=\"dataframe\">\n",
       "  <thead>\n",
       "    <tr style=\"text-align: right;\">\n",
       "      <th></th>\n",
       "      <th>X</th>\n",
       "      <th>Y</th>\n",
       "      <th>Pressure</th>\n",
       "      <th>TiltX</th>\n",
       "      <th>TiltY</th>\n",
       "      <th>Time</th>\n",
       "    </tr>\n",
       "  </thead>\n",
       "  <tbody>\n",
       "    <tr>\n",
       "      <th>0</th>\n",
       "      <td>719.415174962467</td>\n",
       "      <td>500.762675</td>\n",
       "      <td>0.321523</td>\n",
       "      <td>-4394.0</td>\n",
       "      <td>1116.0</td>\n",
       "      <td>00:03.8377831</td>\n",
       "    </tr>\n",
       "    <tr>\n",
       "      <th>1</th>\n",
       "      <td>720.468414366555</td>\n",
       "      <td>500.867999</td>\n",
       "      <td>0.326650</td>\n",
       "      <td>-4394.0</td>\n",
       "      <td>1116.0</td>\n",
       "      <td>00:03.8534071</td>\n",
       "    </tr>\n",
       "    <tr>\n",
       "      <th>2</th>\n",
       "      <td>720.995034068599</td>\n",
       "      <td>500.499365</td>\n",
       "      <td>0.260243</td>\n",
       "      <td>-4394.0</td>\n",
       "      <td>1116.0</td>\n",
       "      <td>00:03.8690233</td>\n",
       "    </tr>\n",
       "    <tr>\n",
       "      <th>3</th>\n",
       "      <td>720.415752396351</td>\n",
       "      <td>499.972745</td>\n",
       "      <td>0.270497</td>\n",
       "      <td>-4394.0</td>\n",
       "      <td>1116.0</td>\n",
       "      <td>00:03.8847364</td>\n",
       "    </tr>\n",
       "    <tr>\n",
       "      <th>4</th>\n",
       "      <td>718.677907379605</td>\n",
       "      <td>497.866266</td>\n",
       "      <td>0.285389</td>\n",
       "      <td>-4394.0</td>\n",
       "      <td>1116.0</td>\n",
       "      <td>00:03.9003241</td>\n",
       "    </tr>\n",
       "  </tbody>\n",
       "</table>\n",
       "</div>"
      ],
      "text/plain": [
       "                  X           Y   Pressure   TiltX   TiltY           Time\n",
       "0  719.415174962467  500.762675   0.321523 -4394.0  1116.0  00:03.8377831\n",
       "1  720.468414366555  500.867999   0.326650 -4394.0  1116.0  00:03.8534071\n",
       "2  720.995034068599  500.499365   0.260243 -4394.0  1116.0  00:03.8690233\n",
       "3  720.415752396351  499.972745   0.270497 -4394.0  1116.0  00:03.8847364\n",
       "4  718.677907379605  497.866266   0.285389 -4394.0  1116.0  00:03.9003241"
      ]
     },
     "execution_count": 6,
     "metadata": {},
     "output_type": "execute_result"
    }
   ],
   "source": [
    "drawing = pd.read_csv(r'C:\\Users\\sandl\\.ipynb_checkpoints\\train\\7554\\SimpleTest\\21.csv')\n",
    "drawing.head(5)"
   ]
  },
  {
   "cell_type": "markdown",
   "metadata": {},
   "source": [
    "### About the data\n",
    "There are 5 features to this dataset:\n",
    "* **X, Y** -> The index of the current sample in the original image (at what pixel this sample were taken). \n",
    "* **Pressure** -> The amount of pressure that the kid activated in the exact moment(smaple) while during the doodle.\n",
    "* **TiltX, TiltY** -> The tilt of the pen in the exact moment (smaple) - in the X direction and in the Y direction.\n",
    "* **Time** -> The time of this sample (in seconds) - starting with **00:00.0000000**."
   ]
  },
  {
   "cell_type": "markdown",
   "metadata": {},
   "source": [
    "## Data preprocessing\n",
    "Before we procceed we need to check that there aren't any **NaN values**."
   ]
  },
  {
   "cell_type": "code",
   "execution_count": 7,
   "metadata": {},
   "outputs": [
    {
     "name": "stdout",
     "output_type": "stream",
     "text": [
      "<class 'pandas.core.frame.DataFrame'>\n",
      "RangeIndex: 656 entries, 0 to 655\n",
      "Data columns (total 6 columns):\n",
      " #   Column     Non-Null Count  Dtype  \n",
      "---  ------     --------------  -----  \n",
      " 0   X          656 non-null    object \n",
      " 1    Y         654 non-null    float64\n",
      " 2    Pressure  654 non-null    float64\n",
      " 3    TiltX     654 non-null    float64\n",
      " 4    TiltY     654 non-null    float64\n",
      " 5    Time      654 non-null    object \n",
      "dtypes: float64(4), object(2)\n",
      "memory usage: 30.9+ KB\n"
     ]
    }
   ],
   "source": [
    "drawing.info()"
   ]
  },
  {
   "cell_type": "markdown",
   "metadata": {},
   "source": [
    "**Because we found some NaN values (and not to much) we will drop them.** "
   ]
  },
  {
   "cell_type": "code",
   "execution_count": 8,
   "metadata": {},
   "outputs": [],
   "source": [
    "drawing.dropna(axis = 0, inplace = True)"
   ]
  },
  {
   "cell_type": "code",
   "execution_count": 9,
   "metadata": {},
   "outputs": [
    {
     "name": "stdout",
     "output_type": "stream",
     "text": [
      "<class 'pandas.core.frame.DataFrame'>\n",
      "Int64Index: 654 entries, 0 to 653\n",
      "Data columns (total 6 columns):\n",
      " #   Column     Non-Null Count  Dtype  \n",
      "---  ------     --------------  -----  \n",
      " 0   X          654 non-null    object \n",
      " 1    Y         654 non-null    float64\n",
      " 2    Pressure  654 non-null    float64\n",
      " 3    TiltX     654 non-null    float64\n",
      " 4    TiltY     654 non-null    float64\n",
      " 5    Time      654 non-null    object \n",
      "dtypes: float64(4), object(2)\n",
      "memory usage: 35.8+ KB\n"
     ]
    }
   ],
   "source": [
    "drawing.info()"
   ]
  },
  {
   "cell_type": "markdown",
   "metadata": {},
   "source": [
    "**In each column there is a space whhich is irrelvant so we will remove it**"
   ]
  },
  {
   "cell_type": "code",
   "execution_count": 10,
   "metadata": {},
   "outputs": [
    {
     "name": "stdout",
     "output_type": "stream",
     "text": [
      "Before ->  Index(['X', ' Y', ' Pressure', ' TiltX', ' TiltY', ' Time'], dtype='object')\n",
      "After ->  Index(['X', 'Y', 'Pressure', 'TiltX', 'TiltY', 'Time'], dtype='object')\n"
     ]
    }
   ],
   "source": [
    "print(\"Before -> \", drawing.columns)\n",
    "drawing.columns = drawing.columns.str.replace(' ', '')\n",
    "print(\"After -> \", drawing.columns)"
   ]
  },
  {
   "cell_type": "markdown",
   "metadata": {},
   "source": [
    "The time is in an object and we want it as float so we will convert to a float type and because we want  \n",
    "it simple we will combine the **minutes** and the **seconds** to one feature of seconds with the name of **sec**"
   ]
  },
  {
   "cell_type": "code",
   "execution_count": 11,
   "metadata": {},
   "outputs": [
    {
     "data": {
      "text/html": [
       "<div>\n",
       "<style scoped>\n",
       "    .dataframe tbody tr th:only-of-type {\n",
       "        vertical-align: middle;\n",
       "    }\n",
       "\n",
       "    .dataframe tbody tr th {\n",
       "        vertical-align: top;\n",
       "    }\n",
       "\n",
       "    .dataframe thead th {\n",
       "        text-align: right;\n",
       "    }\n",
       "</style>\n",
       "<table border=\"1\" class=\"dataframe\">\n",
       "  <thead>\n",
       "    <tr style=\"text-align: right;\">\n",
       "      <th></th>\n",
       "      <th>X</th>\n",
       "      <th>Y</th>\n",
       "      <th>Pressure</th>\n",
       "      <th>TiltX</th>\n",
       "      <th>TiltY</th>\n",
       "      <th>sec</th>\n",
       "    </tr>\n",
       "  </thead>\n",
       "  <tbody>\n",
       "    <tr>\n",
       "      <th>0</th>\n",
       "      <td>719.415175</td>\n",
       "      <td>500.762675</td>\n",
       "      <td>0.321523</td>\n",
       "      <td>-4394.0</td>\n",
       "      <td>1116.0</td>\n",
       "      <td>3.837783</td>\n",
       "    </tr>\n",
       "    <tr>\n",
       "      <th>1</th>\n",
       "      <td>720.468414</td>\n",
       "      <td>500.867999</td>\n",
       "      <td>0.326650</td>\n",
       "      <td>-4394.0</td>\n",
       "      <td>1116.0</td>\n",
       "      <td>3.853407</td>\n",
       "    </tr>\n",
       "    <tr>\n",
       "      <th>2</th>\n",
       "      <td>720.995034</td>\n",
       "      <td>500.499365</td>\n",
       "      <td>0.260243</td>\n",
       "      <td>-4394.0</td>\n",
       "      <td>1116.0</td>\n",
       "      <td>3.869023</td>\n",
       "    </tr>\n",
       "    <tr>\n",
       "      <th>3</th>\n",
       "      <td>720.415752</td>\n",
       "      <td>499.972745</td>\n",
       "      <td>0.270497</td>\n",
       "      <td>-4394.0</td>\n",
       "      <td>1116.0</td>\n",
       "      <td>3.884736</td>\n",
       "    </tr>\n",
       "    <tr>\n",
       "      <th>4</th>\n",
       "      <td>718.677907</td>\n",
       "      <td>497.866266</td>\n",
       "      <td>0.285389</td>\n",
       "      <td>-4394.0</td>\n",
       "      <td>1116.0</td>\n",
       "      <td>3.900324</td>\n",
       "    </tr>\n",
       "  </tbody>\n",
       "</table>\n",
       "</div>"
      ],
      "text/plain": [
       "            X           Y  Pressure   TiltX   TiltY       sec\n",
       "0  719.415175  500.762675  0.321523 -4394.0  1116.0  3.837783\n",
       "1  720.468414  500.867999  0.326650 -4394.0  1116.0  3.853407\n",
       "2  720.995034  500.499365  0.260243 -4394.0  1116.0  3.869023\n",
       "3  720.415752  499.972745  0.270497 -4394.0  1116.0  3.884736\n",
       "4  718.677907  497.866266  0.285389 -4394.0  1116.0  3.900324"
      ]
     },
     "execution_count": 11,
     "metadata": {},
     "output_type": "execute_result"
    }
   ],
   "source": [
    "time = drawing.Time.str.split(':', expand = True).astype('float64')\n",
    "drawing['sec'] = time[0] * 60 + time[1]\n",
    "drawing.drop('Time', axis = 1, inplace =True)\n",
    "drawing = drawing.astype('float64')\n",
    "drawing.head(5)"
   ]
  },
  {
   "cell_type": "markdown",
   "metadata": {},
   "source": [
    "Now we will use the difference between each sample to learn the behavior of the painting.  \n",
    "We know that the samples are organized in increasing order which mean that it's in the order that the kid drew this.  \n",
    "So if we will look at the difference between the **X** value of some index and the **X** value of the index after  \n",
    "this value will tell us how much pixels  we passed between those two samples.  \n",
    "We will do the same for **Y** and for **sec** and for **TiltX** and for **TiltY**."
   ]
  },
  {
   "cell_type": "code",
   "execution_count": 17,
   "metadata": {},
   "outputs": [
    {
     "data": {
      "text/html": [
       "<div>\n",
       "<style scoped>\n",
       "    .dataframe tbody tr th:only-of-type {\n",
       "        vertical-align: middle;\n",
       "    }\n",
       "\n",
       "    .dataframe tbody tr th {\n",
       "        vertical-align: top;\n",
       "    }\n",
       "\n",
       "    .dataframe thead th {\n",
       "        text-align: right;\n",
       "    }\n",
       "</style>\n",
       "<table border=\"1\" class=\"dataframe\">\n",
       "  <thead>\n",
       "    <tr style=\"text-align: right;\">\n",
       "      <th></th>\n",
       "      <th>X</th>\n",
       "      <th>Y</th>\n",
       "      <th>Pressure</th>\n",
       "      <th>TiltX</th>\n",
       "      <th>TiltY</th>\n",
       "      <th>sec</th>\n",
       "      <th>last_x</th>\n",
       "      <th>last_y</th>\n",
       "      <th>last_sec</th>\n",
       "      <th>diff_tilt_x</th>\n",
       "      <th>diff_tilt_y</th>\n",
       "      <th>diff_pressure</th>\n",
       "    </tr>\n",
       "  </thead>\n",
       "  <tbody>\n",
       "    <tr>\n",
       "      <th>0</th>\n",
       "      <td>719.415175</td>\n",
       "      <td>500.762675</td>\n",
       "      <td>0.321523</td>\n",
       "      <td>-4394.0</td>\n",
       "      <td>1116.0</td>\n",
       "      <td>3.837783</td>\n",
       "      <td>NaN</td>\n",
       "      <td>NaN</td>\n",
       "      <td>NaN</td>\n",
       "      <td>NaN</td>\n",
       "      <td>NaN</td>\n",
       "      <td>NaN</td>\n",
       "    </tr>\n",
       "    <tr>\n",
       "      <th>1</th>\n",
       "      <td>720.468414</td>\n",
       "      <td>500.867999</td>\n",
       "      <td>0.326650</td>\n",
       "      <td>-4394.0</td>\n",
       "      <td>1116.0</td>\n",
       "      <td>3.853407</td>\n",
       "      <td>1.053239</td>\n",
       "      <td>0.105324</td>\n",
       "      <td>0.015624</td>\n",
       "      <td>0.0</td>\n",
       "      <td>0.0</td>\n",
       "      <td>0.005127</td>\n",
       "    </tr>\n",
       "    <tr>\n",
       "      <th>2</th>\n",
       "      <td>720.995034</td>\n",
       "      <td>500.499365</td>\n",
       "      <td>0.260243</td>\n",
       "      <td>-4394.0</td>\n",
       "      <td>1116.0</td>\n",
       "      <td>3.869023</td>\n",
       "      <td>0.526620</td>\n",
       "      <td>0.368634</td>\n",
       "      <td>0.015616</td>\n",
       "      <td>0.0</td>\n",
       "      <td>0.0</td>\n",
       "      <td>0.066407</td>\n",
       "    </tr>\n",
       "    <tr>\n",
       "      <th>3</th>\n",
       "      <td>720.415752</td>\n",
       "      <td>499.972745</td>\n",
       "      <td>0.270497</td>\n",
       "      <td>-4394.0</td>\n",
       "      <td>1116.0</td>\n",
       "      <td>3.884736</td>\n",
       "      <td>0.579282</td>\n",
       "      <td>0.526620</td>\n",
       "      <td>0.015713</td>\n",
       "      <td>0.0</td>\n",
       "      <td>0.0</td>\n",
       "      <td>0.010254</td>\n",
       "    </tr>\n",
       "    <tr>\n",
       "      <th>4</th>\n",
       "      <td>718.677907</td>\n",
       "      <td>497.866266</td>\n",
       "      <td>0.285389</td>\n",
       "      <td>-4394.0</td>\n",
       "      <td>1116.0</td>\n",
       "      <td>3.900324</td>\n",
       "      <td>1.737845</td>\n",
       "      <td>2.106479</td>\n",
       "      <td>0.015588</td>\n",
       "      <td>0.0</td>\n",
       "      <td>0.0</td>\n",
       "      <td>0.014893</td>\n",
       "    </tr>\n",
       "    <tr>\n",
       "      <th>5</th>\n",
       "      <td>717.098048</td>\n",
       "      <td>496.602379</td>\n",
       "      <td>0.297353</td>\n",
       "      <td>-4394.0</td>\n",
       "      <td>1116.0</td>\n",
       "      <td>3.915971</td>\n",
       "      <td>1.579859</td>\n",
       "      <td>1.263887</td>\n",
       "      <td>0.015647</td>\n",
       "      <td>0.0</td>\n",
       "      <td>0.0</td>\n",
       "      <td>0.011963</td>\n",
       "    </tr>\n",
       "    <tr>\n",
       "      <th>6</th>\n",
       "      <td>714.043654</td>\n",
       "      <td>494.021942</td>\n",
       "      <td>0.314931</td>\n",
       "      <td>-4394.0</td>\n",
       "      <td>1116.0</td>\n",
       "      <td>3.931515</td>\n",
       "      <td>3.054394</td>\n",
       "      <td>2.580437</td>\n",
       "      <td>0.015544</td>\n",
       "      <td>0.0</td>\n",
       "      <td>0.0</td>\n",
       "      <td>0.017578</td>\n",
       "    </tr>\n",
       "    <tr>\n",
       "      <th>7</th>\n",
       "      <td>712.042499</td>\n",
       "      <td>492.547407</td>\n",
       "      <td>0.325673</td>\n",
       "      <td>-4394.0</td>\n",
       "      <td>1116.0</td>\n",
       "      <td>3.931515</td>\n",
       "      <td>2.001155</td>\n",
       "      <td>1.474535</td>\n",
       "      <td>0.000000</td>\n",
       "      <td>0.0</td>\n",
       "      <td>0.0</td>\n",
       "      <td>0.010742</td>\n",
       "    </tr>\n",
       "    <tr>\n",
       "      <th>8</th>\n",
       "      <td>710.725950</td>\n",
       "      <td>491.546830</td>\n",
       "      <td>0.332509</td>\n",
       "      <td>-4394.0</td>\n",
       "      <td>1116.0</td>\n",
       "      <td>3.947137</td>\n",
       "      <td>1.316549</td>\n",
       "      <td>1.000577</td>\n",
       "      <td>0.015622</td>\n",
       "      <td>0.0</td>\n",
       "      <td>0.0</td>\n",
       "      <td>0.006836</td>\n",
       "    </tr>\n",
       "    <tr>\n",
       "      <th>9</th>\n",
       "      <td>708.672133</td>\n",
       "      <td>489.914309</td>\n",
       "      <td>0.341054</td>\n",
       "      <td>-4394.0</td>\n",
       "      <td>1116.0</td>\n",
       "      <td>3.962761</td>\n",
       "      <td>2.053817</td>\n",
       "      <td>1.632521</td>\n",
       "      <td>0.015624</td>\n",
       "      <td>0.0</td>\n",
       "      <td>0.0</td>\n",
       "      <td>0.008545</td>\n",
       "    </tr>\n",
       "  </tbody>\n",
       "</table>\n",
       "</div>"
      ],
      "text/plain": [
       "            X           Y  Pressure   TiltX   TiltY       sec    last_x  \\\n",
       "0  719.415175  500.762675  0.321523 -4394.0  1116.0  3.837783       NaN   \n",
       "1  720.468414  500.867999  0.326650 -4394.0  1116.0  3.853407  1.053239   \n",
       "2  720.995034  500.499365  0.260243 -4394.0  1116.0  3.869023  0.526620   \n",
       "3  720.415752  499.972745  0.270497 -4394.0  1116.0  3.884736  0.579282   \n",
       "4  718.677907  497.866266  0.285389 -4394.0  1116.0  3.900324  1.737845   \n",
       "5  717.098048  496.602379  0.297353 -4394.0  1116.0  3.915971  1.579859   \n",
       "6  714.043654  494.021942  0.314931 -4394.0  1116.0  3.931515  3.054394   \n",
       "7  712.042499  492.547407  0.325673 -4394.0  1116.0  3.931515  2.001155   \n",
       "8  710.725950  491.546830  0.332509 -4394.0  1116.0  3.947137  1.316549   \n",
       "9  708.672133  489.914309  0.341054 -4394.0  1116.0  3.962761  2.053817   \n",
       "\n",
       "     last_y  last_sec  diff_tilt_x  diff_tilt_y  diff_pressure  \n",
       "0       NaN       NaN          NaN          NaN            NaN  \n",
       "1  0.105324  0.015624          0.0          0.0       0.005127  \n",
       "2  0.368634  0.015616          0.0          0.0       0.066407  \n",
       "3  0.526620  0.015713          0.0          0.0       0.010254  \n",
       "4  2.106479  0.015588          0.0          0.0       0.014893  \n",
       "5  1.263887  0.015647          0.0          0.0       0.011963  \n",
       "6  2.580437  0.015544          0.0          0.0       0.017578  \n",
       "7  1.474535  0.000000          0.0          0.0       0.010742  \n",
       "8  1.000577  0.015622          0.0          0.0       0.006836  \n",
       "9  1.632521  0.015624          0.0          0.0       0.008545  "
      ]
     },
     "execution_count": 17,
     "metadata": {},
     "output_type": "execute_result"
    }
   ],
   "source": [
    "copy_d = drawing.shift()\n",
    "diff_x = abs(drawing['X'] - copy_d['X'])\n",
    "diff_y = abs(drawing['Y'] - copy_d['Y'])\n",
    "diff_time = drawing['sec'] - copy_d['sec']\n",
    "diff_tilt_x = abs(drawing['TiltX'] - copy_d['TiltX'])\n",
    "diff_tilt_y = abs(drawing['TiltY'] - copy_d['TiltY'])\n",
    "diff_pressure = abs(drawing['Pressure'] - copy_d['Pressure'])\n",
    "drawing['last_x'] = diff_x\n",
    "drawing['last_y'] = diff_y\n",
    "drawing['last_sec'] = diff_time\n",
    "drawing['diff_tilt_x'] = diff_tilt_x\n",
    "drawing['diff_tilt_y'] = diff_tilt_y\n",
    "drawing['diff_pressure'] = diff_pressure\n",
    "drawing.head(10)"
   ]
  },
  {
   "cell_type": "code",
   "execution_count": 18,
   "metadata": {},
   "outputs": [],
   "source": [
    "#Pressure????????"
   ]
  },
  {
   "cell_type": "markdown",
   "metadata": {},
   "source": [
    "Now we will try using the difference columns to know how many different lines this drawing contains.\n",
    "\n",
    "We create a function that plot the drawing in a range of rows, so we could check our results."
   ]
  },
  {
   "cell_type": "code",
   "execution_count": 72,
   "metadata": {},
   "outputs": [],
   "source": [
    "scale=drawing['Y'].max()+drawing['Y'].min()\n",
    "# def plot_lines(df,x_points, y_points, symbol=None):\n",
    "#     plt.ylim(round(df['Y'].min()) - 5, round(df['Y'].max()) + 5)\n",
    "#     plt.xlim(round(df['X'].min()) - 5, round(df['X'].max()) + 5)\n",
    "#     if symbol != None:\n",
    "#         plt.plot(x_points, scale - y_points, symbol)\n",
    "#     else:\n",
    "#         plt.plot(x_points, scale - y_points)\n",
    "        \n",
    "        \n",
    "def plot_lines(x_points, y_points, symbol=None):\n",
    "    plt.ylim(round(drawing['Y'].min()) - 5, round(drawing['Y'].max()) + 5)\n",
    "    plt.xlim(round(drawing['X'].min()) - 5, round(drawing['X'].max()) + 5)\n",
    "    if symbol != None:\n",
    "        plt.plot(x_points, scale - y_points, symbol)\n",
    "    else:\n",
    "        plt.plot(x_points, scale - y_points)"
   ]
  },
  {
   "cell_type": "code",
   "execution_count": 73,
   "metadata": {},
   "outputs": [
    {
     "data": {
      "image/png": "[encoded data removed]",
      "text/plain": [
       "<Figure size 432x288 with 1 Axes>"
      ]
     },
     "metadata": {
      "needs_background": "light"
     },
     "output_type": "display_data"
    }
   ],
   "source": [
    "plot_lines(drawing['X'], drawing['Y'], '.')"
   ]
  },
  {
   "cell_type": "code",
   "execution_count": 74,
   "metadata": {},
   "outputs": [
    {
     "data": {
      "image/png": "[encoded data removed]",
      "text/plain": [
       "<Figure size 432x288 with 1 Axes>"
      ]
     },
     "metadata": {
      "needs_background": "light"
     },
     "output_type": "display_data"
    }
   ],
   "source": [
    "plot_lines(drawing['X'][140:185], drawing['Y'][140:185], '.')"
   ]
  },
  {
   "cell_type": "code",
   "execution_count": 36,
   "metadata": {},
   "outputs": [],
   "source": [
    "# drawing[140:185]"
   ]
  },
  {
   "cell_type": "markdown",
   "metadata": {},
   "source": [
    "At first, we assumed that if the difference in the tilt is zero then the current rows represent a line and the tilt will increase when there is a break from the line.\n",
    "\n",
    "So we create a function that checks if in this row the tilt is \"small\" less than 10 (close to zero) and in the next row the tilt is \"big\" more than 50."
   ]
  },
  {
   "cell_type": "code",
   "execution_count": 65,
   "metadata": {},
   "outputs": [],
   "source": [
    "def find_lines_by_tilt(df):\n",
    "    tiltx=drawing.loc[(drawing['diff_tilt_x'].shift()>30) & (drawing['diff_tilt_x']<10)]\n",
    "    index=tiltx.index\n",
    "    index=index.insert(0,0)\n",
    "\n",
    "    dfs=[tiltx]\n",
    "    for i in range(1,len(index)):\n",
    "        for j in range(index[i]-1,index[i-1],-1):\n",
    "            if drawing.iloc[[j]].diff_tilt_x.item()>100:\n",
    "                if i-j>5:\n",
    "                    dfs=dfs.append(drawing.iloc[[j]])\n",
    "                break            \n",
    "\n",
    "    df=pd.concat(dfs).drop_duplicates()\n",
    "    return df.sort_index()"
   ]
  },
  {
   "cell_type": "markdown",
   "metadata": {},
   "source": [
    "But as we saw afterward our assuming was not true, we figured that even when the line breaks the tilt difference could stay very close to zero (as we can see in the next example)\n",
    "\n",
    "Here is a rounded line."
   ]
  },
  {
   "cell_type": "code",
   "execution_count": 75,
   "metadata": {},
   "outputs": [
    {
     "data": {
      "image/png": "[encoded data removed]",
      "text/plain": [
       "<Figure size 432x288 with 1 Axes>"
      ]
     },
     "metadata": {
      "needs_background": "light"
     },
     "output_type": "display_data"
    }
   ],
   "source": [
    "plot_lines(drawing['X'][130:180], drawing['Y'][130:180], '.')"
   ]
  },
  {
   "cell_type": "markdown",
   "metadata": {},
   "source": [
    "But the tilt difference is staying zero all along"
   ]
  },
  {
   "cell_type": "code",
   "execution_count": 63,
   "metadata": {},
   "outputs": [
    {
     "name": "stdout",
     "output_type": "stream",
     "text": [
      "0.0\n",
      "0.0\n"
     ]
    }
   ],
   "source": [
    "print(drawing[130:180].diff_tilt_x.sum())\n",
    "print(drawing[130:180].diff_tilt_y.sum())"
   ]
  },
  {
   "cell_type": "markdown",
   "metadata": {},
   "source": [
    "Our next idea was that the distance between both edges of a line (x,y) should be close to the sum of distances between all the points between x and y.\n",
    "\n",
    "We create a function that iterates over the data frame and when the difference between the distance between both edges of a line (x, y) and the sum of distances between all the points between x and y is large we check if (x, y) creates a line (more than a few samples)"
   ]
  },
  {
   "cell_type": "code",
   "execution_count": 78,
   "metadata": {},
   "outputs": [],
   "source": [
    "def distance(p1,p2):\n",
    "    return math.sqrt((p1[0]-p2[0])**2+(p1[1]-p2[1])**2)\n",
    "\n",
    "def find_lines(df,eps=10):\n",
    "    line_size=len(df)/40\n",
    "    lines=[]\n",
    "    start=0\n",
    "    total_dist=0\n",
    "    p_s=(df.iloc[[0]].X.item(),df.iloc[[0]].Y.item())\n",
    "    for i in range(1,len(df),2):\n",
    "        p_f=(df.iloc[[i-2]].X.item(),df.iloc[[i-2]].Y.item())\n",
    "        p_i=(df.iloc[[i]].X.item(),df.iloc[[i]].Y.item())\n",
    "        total_dist+=distance(p_f,p_i)\n",
    "        dist=distance(p_s,p_i)\n",
    "        if abs(total_dist-dist)>eps or len(df)-i<=2:\n",
    "            if i-start>line_size:\n",
    "                lines.append((start,i-1))\n",
    "            start=i\n",
    "            p_s=(df.iloc[[i]].X.item(),df.iloc[[i]].Y.item())\n",
    "            total_dist=0\n",
    "    return lines"
   ]
  },
  {
   "cell_type": "markdown",
   "metadata": {},
   "source": [
    "We find and draw the lines of the drawing.\n",
    "\n",
    "\n",
    "After we succeeded to find the line we calculate the average pressure as the mean of all the samples from the start to the end of the line and the length of the line was calculated as the sum of distances between all the points between x and y."
   ]
  },
  {
   "cell_type": "code",
   "execution_count": 81,
   "metadata": {},
   "outputs": [
    {
     "name": "stdout",
     "output_type": "stream",
     "text": [
      "Q1: There are 12 lines in this drawing\n",
      "\n",
      "Line number 1, range: (1,60)\n",
      "Distance ->  45.63144\n",
      "Avarage Pressure ->  0.48032\n",
      "\n",
      "Line number 2, range: (61,150)\n",
      "Distance ->  370.84694\n",
      "Avarage Pressure ->  nan\n",
      "\n",
      "Line number 3, range: (151,242)\n",
      "Distance ->  220.28079\n",
      "Avarage Pressure ->  nan\n",
      "\n",
      "Line number 4, range: (243,288)\n",
      "Distance ->  67.65848\n",
      "Avarage Pressure ->  nan\n",
      "\n",
      "Line number 5, range: (289,402)\n",
      "Distance ->  217.00354\n",
      "Avarage Pressure ->  nan\n",
      "\n",
      "Line number 6, range: (403,452)\n",
      "Distance ->  423.75925\n",
      "Avarage Pressure ->  nan\n",
      "\n",
      "Line number 7, range: (453,518)\n",
      "Distance ->  95.54311\n",
      "Avarage Pressure ->  nan\n",
      "\n",
      "Line number 8, range: (519,540)\n",
      "Distance ->  34.56571\n",
      "Avarage Pressure ->  nan\n",
      "\n",
      "Line number 9, range: (541,562)\n",
      "Distance ->  29.17777\n",
      "Avarage Pressure ->  nan\n",
      "\n",
      "Line number 10, range: (569,590)\n",
      "Distance ->  56.74537\n",
      "Avarage Pressure ->  nan\n",
      "\n",
      "Line number 11, range: (591,618)\n",
      "Distance ->  61.89074\n",
      "Avarage Pressure ->  nan\n",
      "\n",
      "Line number 12, range: (619,646)\n",
      "Distance ->  46.42400\n",
      "Avarage Pressure ->  nan\n",
      "\n"
     ]
    },
    {
     "data": {
      "image/png": "[encoded data removed]",
      "text/plain": [
       "<Figure size 432x288 with 1 Axes>"
      ]
     },
     "metadata": {
      "needs_background": "light"
     },
     "output_type": "display_data"
    }
   ],
   "source": [
    "# this function calculates the avarge pressure of all the smaples between @start to @end\n",
    "def find_avg_pressure(df, start, end):\n",
    "    return df['Pressure'][start: end + 1].mean()\n",
    "\n",
    "# this function calculates the euclidean distance from the (x,y) of @start to the (x,y) of @end\n",
    "def find_dist(df, start, end):\n",
    "    x = (df['X'][start] - df['X'][end]) ** 2\n",
    "    y = (df['Y'][start] - df['Y'][end]) ** 2\n",
    "    return np.sqrt(x + y)\n",
    "\n",
    "lines=find_lines(drawing)\n",
    "\n",
    "#plot all the lines\n",
    "print(f'Q1: There are {len(lines)} lines in this drawing\\n')\n",
    "ind = 0\n",
    "for line in lines:\n",
    "    plot_lines(drawing['X'][line[0]: line[1]], drawing['Y'][line[0]: line[1]],'.')\n",
    "    print(f'Line number {ind + 1}, range: ({line[0]},{line[1]})')\n",
    "    print(f'Distance -> {find_dist(drawing, line[0], line[1]): .5f}')\n",
    "    print(f'Avarage Pressure -> {find_avg_pressure(df, line[0], line[1]): .5f}\\n')\n",
    "    ind += 1"
   ]
  },
  {
   "cell_type": "markdown",
   "metadata": {},
   "source": [
    "We can see that we detect pretty well the lines of the drawing, our function detect also the circles as 3\\2 little lines but this is a reasonable way to treat them because all the lines are not perfectly straight.\n",
    "\n",
    "Our next mission is to know how many times the kid who drew this doodle raised his hand during the doodling.\n",
    "\n",
    "Our first idea was to check when the pressure is almost zero because in those points the kid probably start to draw."
   ]
  },
  {
   "cell_type": "code",
   "execution_count": null,
   "metadata": {},
   "outputs": [],
   "source": []
  },
  {
   "cell_type": "code",
   "execution_count": null,
   "metadata": {},
   "outputs": [],
   "source": []
  },
  {
   "cell_type": "code",
   "execution_count": 88,
   "metadata": {},
   "outputs": [
    {
     "data": {
      "text/html": [
       "<div>\n",
       "<style scoped>\n",
       "    .dataframe tbody tr th:only-of-type {\n",
       "        vertical-align: middle;\n",
       "    }\n",
       "\n",
       "    .dataframe tbody tr th {\n",
       "        vertical-align: top;\n",
       "    }\n",
       "\n",
       "    .dataframe thead th {\n",
       "        text-align: right;\n",
       "    }\n",
       "</style>\n",
       "<table border=\"1\" class=\"dataframe\">\n",
       "  <thead>\n",
       "    <tr style=\"text-align: right;\">\n",
       "      <th></th>\n",
       "      <th>X</th>\n",
       "      <th>Y</th>\n",
       "      <th>Pressure</th>\n",
       "      <th>TiltX</th>\n",
       "      <th>TiltY</th>\n",
       "      <th>sec</th>\n",
       "      <th>last_x</th>\n",
       "      <th>last_y</th>\n",
       "      <th>last_sec</th>\n",
       "      <th>diff_tilt_x</th>\n",
       "      <th>diff_tilt_y</th>\n",
       "      <th>diff_pressure</th>\n",
       "    </tr>\n",
       "  </thead>\n",
       "  <tbody>\n",
       "    <tr>\n",
       "      <th>403</th>\n",
       "      <td>727.893752</td>\n",
       "      <td>509.188590</td>\n",
       "      <td>0.030503</td>\n",
       "      <td>-3958.0</td>\n",
       "      <td>1625.0</td>\n",
       "      <td>10.720107</td>\n",
       "      <td>147.822150</td>\n",
       "      <td>103.217462</td>\n",
       "      <td>1.402136</td>\n",
       "      <td>275.0</td>\n",
       "      <td>1032.0</td>\n",
       "      <td>0.521492</td>\n",
       "    </tr>\n",
       "    <tr>\n",
       "      <th>404</th>\n",
       "      <td>727.893752</td>\n",
       "      <td>509.188590</td>\n",
       "      <td>0.030503</td>\n",
       "      <td>-3958.0</td>\n",
       "      <td>1625.0</td>\n",
       "      <td>10.735731</td>\n",
       "      <td>0.000000</td>\n",
       "      <td>0.000000</td>\n",
       "      <td>0.015623</td>\n",
       "      <td>0.0</td>\n",
       "      <td>0.0</td>\n",
       "      <td>0.000000</td>\n",
       "    </tr>\n",
       "    <tr>\n",
       "      <th>405</th>\n",
       "      <td>728.262386</td>\n",
       "      <td>508.872618</td>\n",
       "      <td>0.042710</td>\n",
       "      <td>-3958.0</td>\n",
       "      <td>1625.0</td>\n",
       "      <td>10.752452</td>\n",
       "      <td>0.368634</td>\n",
       "      <td>0.315972</td>\n",
       "      <td>0.016721</td>\n",
       "      <td>0.0</td>\n",
       "      <td>0.0</td>\n",
       "      <td>0.012207</td>\n",
       "    </tr>\n",
       "    <tr>\n",
       "      <th>406</th>\n",
       "      <td>728.841668</td>\n",
       "      <td>508.082689</td>\n",
       "      <td>0.063462</td>\n",
       "      <td>-3958.0</td>\n",
       "      <td>1625.0</td>\n",
       "      <td>10.768123</td>\n",
       "      <td>0.579282</td>\n",
       "      <td>0.789930</td>\n",
       "      <td>0.015671</td>\n",
       "      <td>0.0</td>\n",
       "      <td>0.0</td>\n",
       "      <td>0.020752</td>\n",
       "    </tr>\n",
       "    <tr>\n",
       "      <th>407</th>\n",
       "      <td>729.157639</td>\n",
       "      <td>507.714055</td>\n",
       "      <td>0.093248</td>\n",
       "      <td>-3958.0</td>\n",
       "      <td>1625.0</td>\n",
       "      <td>10.783941</td>\n",
       "      <td>0.315972</td>\n",
       "      <td>0.368634</td>\n",
       "      <td>0.015817</td>\n",
       "      <td>0.0</td>\n",
       "      <td>0.0</td>\n",
       "      <td>0.029786</td>\n",
       "    </tr>\n",
       "    <tr>\n",
       "      <th>452</th>\n",
       "      <td>333.929553</td>\n",
       "      <td>353.098510</td>\n",
       "      <td>0.028061</td>\n",
       "      <td>-3227.0</td>\n",
       "      <td>2362.0</td>\n",
       "      <td>21.443736</td>\n",
       "      <td>443.203141</td>\n",
       "      <td>133.603418</td>\n",
       "      <td>10.200283</td>\n",
       "      <td>1245.0</td>\n",
       "      <td>437.0</td>\n",
       "      <td>0.416754</td>\n",
       "    </tr>\n",
       "    <tr>\n",
       "      <th>453</th>\n",
       "      <td>334.140201</td>\n",
       "      <td>352.571891</td>\n",
       "      <td>0.030503</td>\n",
       "      <td>-3227.0</td>\n",
       "      <td>2362.0</td>\n",
       "      <td>21.459350</td>\n",
       "      <td>0.210648</td>\n",
       "      <td>0.526620</td>\n",
       "      <td>0.015614</td>\n",
       "      <td>0.0</td>\n",
       "      <td>0.0</td>\n",
       "      <td>0.002441</td>\n",
       "    </tr>\n",
       "  </tbody>\n",
       "</table>\n",
       "</div>"
      ],
      "text/plain": [
       "              X           Y  Pressure   TiltX   TiltY        sec      last_x  \\\n",
       "403  727.893752  509.188590  0.030503 -3958.0  1625.0  10.720107  147.822150   \n",
       "404  727.893752  509.188590  0.030503 -3958.0  1625.0  10.735731    0.000000   \n",
       "405  728.262386  508.872618  0.042710 -3958.0  1625.0  10.752452    0.368634   \n",
       "406  728.841668  508.082689  0.063462 -3958.0  1625.0  10.768123    0.579282   \n",
       "407  729.157639  507.714055  0.093248 -3958.0  1625.0  10.783941    0.315972   \n",
       "452  333.929553  353.098510  0.028061 -3227.0  2362.0  21.443736  443.203141   \n",
       "453  334.140201  352.571891  0.030503 -3227.0  2362.0  21.459350    0.210648   \n",
       "\n",
       "         last_y   last_sec  diff_tilt_x  diff_tilt_y  diff_pressure  \n",
       "403  103.217462   1.402136        275.0       1032.0       0.521492  \n",
       "404    0.000000   0.015623          0.0          0.0       0.000000  \n",
       "405    0.315972   0.016721          0.0          0.0       0.012207  \n",
       "406    0.789930   0.015671          0.0          0.0       0.020752  \n",
       "407    0.368634   0.015817          0.0          0.0       0.029786  \n",
       "452  133.603418  10.200283       1245.0        437.0       0.416754  \n",
       "453    0.526620   0.015614          0.0          0.0       0.002441  "
      ]
     },
     "execution_count": 88,
     "metadata": {},
     "output_type": "execute_result"
    }
   ],
   "source": [
    "drawing[drawing['Pressure'] <0.1]"
   ]
  },
  {
   "cell_type": "markdown",
   "metadata": {},
   "source": [
    "As we can see we found 2 points (403,452) where the pressure was close to zero and a few samples after each one the pressure still was small, so we can check those 2 first points."
   ]
  },
  {
   "cell_type": "code",
   "execution_count": 89,
   "metadata": {},
   "outputs": [
    {
     "data": {
      "image/png": "[encoded data removed]",
      "text/plain": [
       "<Figure size 432x288 with 1 Axes>"
      ]
     },
     "metadata": {
      "needs_background": "light"
     },
     "output_type": "display_data"
    }
   ],
   "source": [
    "plot_lines(drawing['X'][0: 403], drawing['Y'][0: 403], '.')"
   ]
  },
  {
   "cell_type": "code",
   "execution_count": 93,
   "metadata": {},
   "outputs": [
    {
     "data": {
      "image/png": "[encoded data removed]",
      "text/plain": [
       "<Figure size 432x288 with 1 Axes>"
      ]
     },
     "metadata": {
      "needs_background": "light"
     },
     "output_type": "display_data"
    }
   ],
   "source": [
    "plot_lines(drawing['X'][403: 452], drawing['Y'][403: 452], '.')"
   ]
  },
  {
   "cell_type": "markdown",
   "metadata": {},
   "source": [
    "The results are not bad, but we have not found all the hand raising and it looks like our first plot combines two hand-raising.\n",
    "\n",
    "We try another idea, we assume that we can find the hand-raising by a significant difference in the x,y, or time, so we looking for samples that are greater than the mean+std for each feature."
   ]
  },
  {
   "cell_type": "code",
   "execution_count": 94,
   "metadata": {},
   "outputs": [
    {
     "data": {
      "text/html": [
       "<div>\n",
       "<style scoped>\n",
       "    .dataframe tbody tr th:only-of-type {\n",
       "        vertical-align: middle;\n",
       "    }\n",
       "\n",
       "    .dataframe tbody tr th {\n",
       "        vertical-align: top;\n",
       "    }\n",
       "\n",
       "    .dataframe thead th {\n",
       "        text-align: right;\n",
       "    }\n",
       "</style>\n",
       "<table border=\"1\" class=\"dataframe\">\n",
       "  <thead>\n",
       "    <tr style=\"text-align: right;\">\n",
       "      <th></th>\n",
       "      <th>X</th>\n",
       "      <th>Y</th>\n",
       "      <th>Pressure</th>\n",
       "      <th>TiltX</th>\n",
       "      <th>TiltY</th>\n",
       "      <th>sec</th>\n",
       "      <th>last_x</th>\n",
       "      <th>last_y</th>\n",
       "      <th>last_sec</th>\n",
       "      <th>diff_tilt_x</th>\n",
       "      <th>diff_tilt_y</th>\n",
       "      <th>diff_pressure</th>\n",
       "    </tr>\n",
       "  </thead>\n",
       "  <tbody>\n",
       "    <tr>\n",
       "      <th>count</th>\n",
       "      <td>654.000000</td>\n",
       "      <td>654.000000</td>\n",
       "      <td>654.000000</td>\n",
       "      <td>654.000000</td>\n",
       "      <td>654.000000</td>\n",
       "      <td>654.000000</td>\n",
       "      <td>653.000000</td>\n",
       "      <td>653.000000</td>\n",
       "      <td>653.000000</td>\n",
       "      <td>653.000000</td>\n",
       "      <td>653.000000</td>\n",
       "      <td>653.000000</td>\n",
       "    </tr>\n",
       "    <tr>\n",
       "      <th>mean</th>\n",
       "      <td>493.651054</td>\n",
       "      <td>386.461720</td>\n",
       "      <td>0.530282</td>\n",
       "      <td>-3815.906728</td>\n",
       "      <td>2758.571865</td>\n",
       "      <td>14.644882</td>\n",
       "      <td>3.286333</td>\n",
       "      <td>2.050833</td>\n",
       "      <td>0.060444</td>\n",
       "      <td>10.683002</td>\n",
       "      <td>12.528331</td>\n",
       "      <td>0.007811</td>\n",
       "    </tr>\n",
       "    <tr>\n",
       "      <th>std</th>\n",
       "      <td>144.647266</td>\n",
       "      <td>69.198663</td>\n",
       "      <td>0.175200</td>\n",
       "      <td>359.658025</td>\n",
       "      <td>732.757949</td>\n",
       "      <td>12.219897</td>\n",
       "      <td>20.819887</td>\n",
       "      <td>8.474216</td>\n",
       "      <td>0.817799</td>\n",
       "      <td>67.735155</td>\n",
       "      <td>56.724319</td>\n",
       "      <td>0.032971</td>\n",
       "    </tr>\n",
       "    <tr>\n",
       "      <th>min</th>\n",
       "      <td>308.704469</td>\n",
       "      <td>247.195288</td>\n",
       "      <td>0.028061</td>\n",
       "      <td>-5042.000000</td>\n",
       "      <td>1116.000000</td>\n",
       "      <td>3.837783</td>\n",
       "      <td>0.000000</td>\n",
       "      <td>0.000000</td>\n",
       "      <td>0.000000</td>\n",
       "      <td>0.000000</td>\n",
       "      <td>0.000000</td>\n",
       "      <td>0.000000</td>\n",
       "    </tr>\n",
       "    <tr>\n",
       "      <th>25%</th>\n",
       "      <td>360.444855</td>\n",
       "      <td>333.363437</td>\n",
       "      <td>0.413321</td>\n",
       "      <td>-3958.000000</td>\n",
       "      <td>2257.000000</td>\n",
       "      <td>6.696632</td>\n",
       "      <td>0.579282</td>\n",
       "      <td>0.421296</td>\n",
       "      <td>0.000000</td>\n",
       "      <td>0.000000</td>\n",
       "      <td>0.000000</td>\n",
       "      <td>0.000000</td>\n",
       "    </tr>\n",
       "    <tr>\n",
       "      <th>50%</th>\n",
       "      <td>467.217000</td>\n",
       "      <td>402.074143</td>\n",
       "      <td>0.639155</td>\n",
       "      <td>-3727.000000</td>\n",
       "      <td>2699.000000</td>\n",
       "      <td>8.513089</td>\n",
       "      <td>1.263887</td>\n",
       "      <td>0.895253</td>\n",
       "      <td>0.015619</td>\n",
       "      <td>0.000000</td>\n",
       "      <td>0.000000</td>\n",
       "      <td>0.000000</td>\n",
       "    </tr>\n",
       "    <tr>\n",
       "      <th>75%</th>\n",
       "      <td>586.562190</td>\n",
       "      <td>429.563691</td>\n",
       "      <td>0.648920</td>\n",
       "      <td>-3586.000000</td>\n",
       "      <td>3474.000000</td>\n",
       "      <td>21.892904</td>\n",
       "      <td>2.580437</td>\n",
       "      <td>2.053817</td>\n",
       "      <td>0.015630</td>\n",
       "      <td>0.000000</td>\n",
       "      <td>0.000000</td>\n",
       "      <td>0.004151</td>\n",
       "    </tr>\n",
       "    <tr>\n",
       "      <th>max</th>\n",
       "      <td>777.238018</td>\n",
       "      <td>509.188590</td>\n",
       "      <td>0.746578</td>\n",
       "      <td>-3227.000000</td>\n",
       "      <td>3820.000000</td>\n",
       "      <td>43.307565</td>\n",
       "      <td>443.203141</td>\n",
       "      <td>133.603418</td>\n",
       "      <td>18.165692</td>\n",
       "      <td>1245.000000</td>\n",
       "      <td>1032.000000</td>\n",
       "      <td>0.521492</td>\n",
       "    </tr>\n",
       "  </tbody>\n",
       "</table>\n",
       "</div>"
      ],
      "text/plain": [
       "                X           Y    Pressure        TiltX        TiltY  \\\n",
       "count  654.000000  654.000000  654.000000   654.000000   654.000000   \n",
       "mean   493.651054  386.461720    0.530282 -3815.906728  2758.571865   \n",
       "std    144.647266   69.198663    0.175200   359.658025   732.757949   \n",
       "min    308.704469  247.195288    0.028061 -5042.000000  1116.000000   \n",
       "25%    360.444855  333.363437    0.413321 -3958.000000  2257.000000   \n",
       "50%    467.217000  402.074143    0.639155 -3727.000000  2699.000000   \n",
       "75%    586.562190  429.563691    0.648920 -3586.000000  3474.000000   \n",
       "max    777.238018  509.188590    0.746578 -3227.000000  3820.000000   \n",
       "\n",
       "              sec      last_x      last_y    last_sec  diff_tilt_x  \\\n",
       "count  654.000000  653.000000  653.000000  653.000000   653.000000   \n",
       "mean    14.644882    3.286333    2.050833    0.060444    10.683002   \n",
       "std     12.219897   20.819887    8.474216    0.817799    67.735155   \n",
       "min      3.837783    0.000000    0.000000    0.000000     0.000000   \n",
       "25%      6.696632    0.579282    0.421296    0.000000     0.000000   \n",
       "50%      8.513089    1.263887    0.895253    0.015619     0.000000   \n",
       "75%     21.892904    2.580437    2.053817    0.015630     0.000000   \n",
       "max     43.307565  443.203141  133.603418   18.165692  1245.000000   \n",
       "\n",
       "       diff_tilt_y  diff_pressure  \n",
       "count   653.000000     653.000000  \n",
       "mean     12.528331       0.007811  \n",
       "std      56.724319       0.032971  \n",
       "min       0.000000       0.000000  \n",
       "25%       0.000000       0.000000  \n",
       "50%       0.000000       0.000000  \n",
       "75%       0.000000       0.004151  \n",
       "max    1032.000000       0.521492  "
      ]
     },
     "execution_count": 94,
     "metadata": {},
     "output_type": "execute_result"
    }
   ],
   "source": [
    "drawing.describe()"
   ]
  },
  {
   "cell_type": "markdown",
   "metadata": {},
   "source": [
    "We see that mean + std is a reasonable limit that if a sample is greater than it then it is probably a hand-raising."
   ]
  },
  {
   "cell_type": "code",
   "execution_count": 105,
   "metadata": {},
   "outputs": [
    {
     "name": "stdout",
     "output_type": "stream",
     "text": [
      "Time Treshold:  0.8782426372562684\n",
      "X Treshold:  24.10621931876068\n",
      "Y Treshold:  10.525049167305983\n"
     ]
    }
   ],
   "source": [
    "tresh_time = drawing['last_sec'].mean() + drawing['last_sec'].std()\n",
    "tresh_x = drawing['last_x'].mean() + drawing['last_x'].std()\n",
    "tresh_y = drawing['last_y'].mean() + drawing['last_y'].std()\n",
    "print(\"Time Treshold: \", tresh_time)\n",
    "print(\"X Treshold: \", tresh_x)\n",
    "print(\"Y Treshold: \", tresh_y)"
   ]
  },
  {
   "cell_type": "code",
   "execution_count": 102,
   "metadata": {},
   "outputs": [
    {
     "data": {
      "text/html": [
       "<div>\n",
       "<style scoped>\n",
       "    .dataframe tbody tr th:only-of-type {\n",
       "        vertical-align: middle;\n",
       "    }\n",
       "\n",
       "    .dataframe tbody tr th {\n",
       "        vertical-align: top;\n",
       "    }\n",
       "\n",
       "    .dataframe thead th {\n",
       "        text-align: right;\n",
       "    }\n",
       "</style>\n",
       "<table border=\"1\" class=\"dataframe\">\n",
       "  <thead>\n",
       "    <tr style=\"text-align: right;\">\n",
       "      <th></th>\n",
       "      <th>X</th>\n",
       "      <th>Y</th>\n",
       "      <th>Pressure</th>\n",
       "      <th>TiltX</th>\n",
       "      <th>TiltY</th>\n",
       "      <th>sec</th>\n",
       "      <th>last_x</th>\n",
       "      <th>last_y</th>\n",
       "      <th>last_sec</th>\n",
       "      <th>diff_tilt_x</th>\n",
       "      <th>diff_tilt_y</th>\n",
       "      <th>diff_pressure</th>\n",
       "    </tr>\n",
       "  </thead>\n",
       "  <tbody>\n",
       "    <tr>\n",
       "      <th>60</th>\n",
       "      <td>761.755399</td>\n",
       "      <td>481.435732</td>\n",
       "      <td>0.190661</td>\n",
       "      <td>-5042.0</td>\n",
       "      <td>2440.0</td>\n",
       "      <td>5.598896</td>\n",
       "      <td>191.215614</td>\n",
       "      <td>78.729645</td>\n",
       "      <td>1.093955</td>\n",
       "      <td>940.0</td>\n",
       "      <td>25.0</td>\n",
       "      <td>0.117189</td>\n",
       "    </tr>\n",
       "    <tr>\n",
       "      <th>403</th>\n",
       "      <td>727.893752</td>\n",
       "      <td>509.188590</td>\n",
       "      <td>0.030503</td>\n",
       "      <td>-3958.0</td>\n",
       "      <td>1625.0</td>\n",
       "      <td>10.720107</td>\n",
       "      <td>147.822150</td>\n",
       "      <td>103.217462</td>\n",
       "      <td>1.402136</td>\n",
       "      <td>275.0</td>\n",
       "      <td>1032.0</td>\n",
       "      <td>0.521492</td>\n",
       "    </tr>\n",
       "    <tr>\n",
       "      <th>452</th>\n",
       "      <td>333.929553</td>\n",
       "      <td>353.098510</td>\n",
       "      <td>0.028061</td>\n",
       "      <td>-3227.0</td>\n",
       "      <td>2362.0</td>\n",
       "      <td>21.443736</td>\n",
       "      <td>443.203141</td>\n",
       "      <td>133.603418</td>\n",
       "      <td>10.200283</td>\n",
       "      <td>1245.0</td>\n",
       "      <td>437.0</td>\n",
       "      <td>0.416754</td>\n",
       "    </tr>\n",
       "    <tr>\n",
       "      <th>567</th>\n",
       "      <td>508.398660</td>\n",
       "      <td>306.124033</td>\n",
       "      <td>0.103502</td>\n",
       "      <td>-3586.0</td>\n",
       "      <td>2533.0</td>\n",
       "      <td>41.484234</td>\n",
       "      <td>173.047234</td>\n",
       "      <td>108.746968</td>\n",
       "      <td>18.165692</td>\n",
       "      <td>314.0</td>\n",
       "      <td>319.0</td>\n",
       "      <td>0.032959</td>\n",
       "    </tr>\n",
       "    <tr>\n",
       "      <th>646</th>\n",
       "      <td>483.384225</td>\n",
       "      <td>314.602610</td>\n",
       "      <td>0.198962</td>\n",
       "      <td>-3410.0</td>\n",
       "      <td>2257.0</td>\n",
       "      <td>43.211846</td>\n",
       "      <td>19.010971</td>\n",
       "      <td>4.950225</td>\n",
       "      <td>0.888772</td>\n",
       "      <td>176.0</td>\n",
       "      <td>276.0</td>\n",
       "      <td>0.062745</td>\n",
       "    </tr>\n",
       "  </tbody>\n",
       "</table>\n",
       "</div>"
      ],
      "text/plain": [
       "              X           Y  Pressure   TiltX   TiltY        sec      last_x  \\\n",
       "60   761.755399  481.435732  0.190661 -5042.0  2440.0   5.598896  191.215614   \n",
       "403  727.893752  509.188590  0.030503 -3958.0  1625.0  10.720107  147.822150   \n",
       "452  333.929553  353.098510  0.028061 -3227.0  2362.0  21.443736  443.203141   \n",
       "567  508.398660  306.124033  0.103502 -3586.0  2533.0  41.484234  173.047234   \n",
       "646  483.384225  314.602610  0.198962 -3410.0  2257.0  43.211846   19.010971   \n",
       "\n",
       "         last_y   last_sec  diff_tilt_x  diff_tilt_y  diff_pressure  \n",
       "60    78.729645   1.093955        940.0         25.0       0.117189  \n",
       "403  103.217462   1.402136        275.0       1032.0       0.521492  \n",
       "452  133.603418  10.200283       1245.0        437.0       0.416754  \n",
       "567  108.746968  18.165692        314.0        319.0       0.032959  \n",
       "646    4.950225   0.888772        176.0        276.0       0.062745  "
      ]
     },
     "execution_count": 102,
     "metadata": {},
     "output_type": "execute_result"
    }
   ],
   "source": [
    "large_time_diff=drawing[drawing['last_sec'] > tresh_time]\n",
    "large_time_diff"
   ]
  },
  {
   "cell_type": "code",
   "execution_count": 103,
   "metadata": {},
   "outputs": [
    {
     "data": {
      "text/html": [
       "<div>\n",
       "<style scoped>\n",
       "    .dataframe tbody tr th:only-of-type {\n",
       "        vertical-align: middle;\n",
       "    }\n",
       "\n",
       "    .dataframe tbody tr th {\n",
       "        vertical-align: top;\n",
       "    }\n",
       "\n",
       "    .dataframe thead th {\n",
       "        text-align: right;\n",
       "    }\n",
       "</style>\n",
       "<table border=\"1\" class=\"dataframe\">\n",
       "  <thead>\n",
       "    <tr style=\"text-align: right;\">\n",
       "      <th></th>\n",
       "      <th>X</th>\n",
       "      <th>Y</th>\n",
       "      <th>Pressure</th>\n",
       "      <th>TiltX</th>\n",
       "      <th>TiltY</th>\n",
       "      <th>sec</th>\n",
       "      <th>last_x</th>\n",
       "      <th>last_y</th>\n",
       "      <th>last_sec</th>\n",
       "      <th>diff_tilt_x</th>\n",
       "      <th>diff_tilt_y</th>\n",
       "      <th>diff_pressure</th>\n",
       "    </tr>\n",
       "  </thead>\n",
       "  <tbody>\n",
       "    <tr>\n",
       "      <th>60</th>\n",
       "      <td>761.755399</td>\n",
       "      <td>481.435732</td>\n",
       "      <td>0.190661</td>\n",
       "      <td>-5042.0</td>\n",
       "      <td>2440.0</td>\n",
       "      <td>5.598896</td>\n",
       "      <td>191.215614</td>\n",
       "      <td>78.729645</td>\n",
       "      <td>1.093955</td>\n",
       "      <td>940.0</td>\n",
       "      <td>25.0</td>\n",
       "      <td>0.117189</td>\n",
       "    </tr>\n",
       "    <tr>\n",
       "      <th>403</th>\n",
       "      <td>727.893752</td>\n",
       "      <td>509.188590</td>\n",
       "      <td>0.030503</td>\n",
       "      <td>-3958.0</td>\n",
       "      <td>1625.0</td>\n",
       "      <td>10.720107</td>\n",
       "      <td>147.822150</td>\n",
       "      <td>103.217462</td>\n",
       "      <td>1.402136</td>\n",
       "      <td>275.0</td>\n",
       "      <td>1032.0</td>\n",
       "      <td>0.521492</td>\n",
       "    </tr>\n",
       "    <tr>\n",
       "      <th>452</th>\n",
       "      <td>333.929553</td>\n",
       "      <td>353.098510</td>\n",
       "      <td>0.028061</td>\n",
       "      <td>-3227.0</td>\n",
       "      <td>2362.0</td>\n",
       "      <td>21.443736</td>\n",
       "      <td>443.203141</td>\n",
       "      <td>133.603418</td>\n",
       "      <td>10.200283</td>\n",
       "      <td>1245.0</td>\n",
       "      <td>437.0</td>\n",
       "      <td>0.416754</td>\n",
       "    </tr>\n",
       "    <tr>\n",
       "      <th>567</th>\n",
       "      <td>508.398660</td>\n",
       "      <td>306.124033</td>\n",
       "      <td>0.103502</td>\n",
       "      <td>-3586.0</td>\n",
       "      <td>2533.0</td>\n",
       "      <td>41.484234</td>\n",
       "      <td>173.047234</td>\n",
       "      <td>108.746968</td>\n",
       "      <td>18.165692</td>\n",
       "      <td>314.0</td>\n",
       "      <td>319.0</td>\n",
       "      <td>0.032959</td>\n",
       "    </tr>\n",
       "  </tbody>\n",
       "</table>\n",
       "</div>"
      ],
      "text/plain": [
       "              X           Y  Pressure   TiltX   TiltY        sec      last_x  \\\n",
       "60   761.755399  481.435732  0.190661 -5042.0  2440.0   5.598896  191.215614   \n",
       "403  727.893752  509.188590  0.030503 -3958.0  1625.0  10.720107  147.822150   \n",
       "452  333.929553  353.098510  0.028061 -3227.0  2362.0  21.443736  443.203141   \n",
       "567  508.398660  306.124033  0.103502 -3586.0  2533.0  41.484234  173.047234   \n",
       "\n",
       "         last_y   last_sec  diff_tilt_x  diff_tilt_y  diff_pressure  \n",
       "60    78.729645   1.093955        940.0         25.0       0.117189  \n",
       "403  103.217462   1.402136        275.0       1032.0       0.521492  \n",
       "452  133.603418  10.200283       1245.0        437.0       0.416754  \n",
       "567  108.746968  18.165692        314.0        319.0       0.032959  "
      ]
     },
     "execution_count": 103,
     "metadata": {},
     "output_type": "execute_result"
    }
   ],
   "source": [
    "large_x_diff=drawing[drawing['last_x'] > tresh_x]\n",
    "large_x_diff"
   ]
  },
  {
   "cell_type": "code",
   "execution_count": 104,
   "metadata": {},
   "outputs": [
    {
     "data": {
      "text/html": [
       "<div>\n",
       "<style scoped>\n",
       "    .dataframe tbody tr th:only-of-type {\n",
       "        vertical-align: middle;\n",
       "    }\n",
       "\n",
       "    .dataframe tbody tr th {\n",
       "        vertical-align: top;\n",
       "    }\n",
       "\n",
       "    .dataframe thead th {\n",
       "        text-align: right;\n",
       "    }\n",
       "</style>\n",
       "<table border=\"1\" class=\"dataframe\">\n",
       "  <thead>\n",
       "    <tr style=\"text-align: right;\">\n",
       "      <th></th>\n",
       "      <th>X</th>\n",
       "      <th>Y</th>\n",
       "      <th>Pressure</th>\n",
       "      <th>TiltX</th>\n",
       "      <th>TiltY</th>\n",
       "      <th>sec</th>\n",
       "      <th>last_x</th>\n",
       "      <th>last_y</th>\n",
       "      <th>last_sec</th>\n",
       "      <th>diff_tilt_x</th>\n",
       "      <th>diff_tilt_y</th>\n",
       "      <th>diff_pressure</th>\n",
       "    </tr>\n",
       "  </thead>\n",
       "  <tbody>\n",
       "    <tr>\n",
       "      <th>60</th>\n",
       "      <td>761.755399</td>\n",
       "      <td>481.435732</td>\n",
       "      <td>0.190661</td>\n",
       "      <td>-5042.0</td>\n",
       "      <td>2440.0</td>\n",
       "      <td>5.598896</td>\n",
       "      <td>191.215614</td>\n",
       "      <td>78.729645</td>\n",
       "      <td>1.093955</td>\n",
       "      <td>940.0</td>\n",
       "      <td>25.0</td>\n",
       "      <td>0.117189</td>\n",
       "    </tr>\n",
       "    <tr>\n",
       "      <th>403</th>\n",
       "      <td>727.893752</td>\n",
       "      <td>509.188590</td>\n",
       "      <td>0.030503</td>\n",
       "      <td>-3958.0</td>\n",
       "      <td>1625.0</td>\n",
       "      <td>10.720107</td>\n",
       "      <td>147.822150</td>\n",
       "      <td>103.217462</td>\n",
       "      <td>1.402136</td>\n",
       "      <td>275.0</td>\n",
       "      <td>1032.0</td>\n",
       "      <td>0.521492</td>\n",
       "    </tr>\n",
       "    <tr>\n",
       "      <th>452</th>\n",
       "      <td>333.929553</td>\n",
       "      <td>353.098510</td>\n",
       "      <td>0.028061</td>\n",
       "      <td>-3227.0</td>\n",
       "      <td>2362.0</td>\n",
       "      <td>21.443736</td>\n",
       "      <td>443.203141</td>\n",
       "      <td>133.603418</td>\n",
       "      <td>10.200283</td>\n",
       "      <td>1245.0</td>\n",
       "      <td>437.0</td>\n",
       "      <td>0.416754</td>\n",
       "    </tr>\n",
       "    <tr>\n",
       "      <th>519</th>\n",
       "      <td>347.726989</td>\n",
       "      <td>416.661508</td>\n",
       "      <td>0.189441</td>\n",
       "      <td>-3355.0</td>\n",
       "      <td>2041.0</td>\n",
       "      <td>22.803021</td>\n",
       "      <td>23.750549</td>\n",
       "      <td>23.855873</td>\n",
       "      <td>0.578127</td>\n",
       "      <td>447.0</td>\n",
       "      <td>620.0</td>\n",
       "      <td>0.215091</td>\n",
       "    </tr>\n",
       "    <tr>\n",
       "      <th>567</th>\n",
       "      <td>508.398660</td>\n",
       "      <td>306.124033</td>\n",
       "      <td>0.103502</td>\n",
       "      <td>-3586.0</td>\n",
       "      <td>2533.0</td>\n",
       "      <td>41.484234</td>\n",
       "      <td>173.047234</td>\n",
       "      <td>108.746968</td>\n",
       "      <td>18.165692</td>\n",
       "      <td>314.0</td>\n",
       "      <td>319.0</td>\n",
       "      <td>0.032959</td>\n",
       "    </tr>\n",
       "  </tbody>\n",
       "</table>\n",
       "</div>"
      ],
      "text/plain": [
       "              X           Y  Pressure   TiltX   TiltY        sec      last_x  \\\n",
       "60   761.755399  481.435732  0.190661 -5042.0  2440.0   5.598896  191.215614   \n",
       "403  727.893752  509.188590  0.030503 -3958.0  1625.0  10.720107  147.822150   \n",
       "452  333.929553  353.098510  0.028061 -3227.0  2362.0  21.443736  443.203141   \n",
       "519  347.726989  416.661508  0.189441 -3355.0  2041.0  22.803021   23.750549   \n",
       "567  508.398660  306.124033  0.103502 -3586.0  2533.0  41.484234  173.047234   \n",
       "\n",
       "         last_y   last_sec  diff_tilt_x  diff_tilt_y  diff_pressure  \n",
       "60    78.729645   1.093955        940.0         25.0       0.117189  \n",
       "403  103.217462   1.402136        275.0       1032.0       0.521492  \n",
       "452  133.603418  10.200283       1245.0        437.0       0.416754  \n",
       "519   23.855873   0.578127        447.0        620.0       0.215091  \n",
       "567  108.746968  18.165692        314.0        319.0       0.032959  "
      ]
     },
     "execution_count": 104,
     "metadata": {},
     "output_type": "execute_result"
    }
   ],
   "source": [
    "large_y_diff=drawing[drawing['last_y'] > tresh_y]\n",
    "large_y_diff"
   ]
  },
  {
   "cell_type": "markdown",
   "metadata": {},
   "source": [
    "As we can see all the options gave us almost the same result, let's try union them and see a plot."
   ]
  },
  {
   "cell_type": "code",
   "execution_count": 110,
   "metadata": {},
   "outputs": [
    {
     "data": {
      "image/png": "[encoded data removed]",
      "text/plain": [
       "<Figure size 432x288 with 1 Axes>"
      ]
     },
     "metadata": {
      "needs_background": "light"
     },
     "output_type": "display_data"
    }
   ],
   "source": [
    "raised_hand=pd.concat([large_time_diff,large_x_diff,large_y_diff]).drop_duplicates()\n",
    "#plot all the hand raising\n",
    "curr = 0\n",
    "index = sorted(raised_hand.index.values.astype(int))\n",
    "index.append(len(drawing['X']))\n",
    "for ind in index:\n",
    "    plot_lines(drawing['X'][curr: ind], drawing['Y'][curr: ind], '.')\n",
    "    curr = ind\n",
    "plt.show()"
   ]
  },
  {
   "cell_type": "markdown",
   "metadata": {},
   "source": [
    "Wow, our algorithm found all of the hand-raising and it is look very good."
   ]
  },
  {
   "cell_type": "code",
   "execution_count": null,
   "metadata": {},
   "outputs": [],
   "source": []
  },
  {
   "cell_type": "code",
   "execution_count": null,
   "metadata": {},
   "outputs": [],
   "source": []
  },
  {
   "cell_type": "code",
   "execution_count": null,
   "metadata": {},
   "outputs": [],
   "source": []
  },
  {
   "cell_type": "markdown",
   "metadata": {},
   "source": [
    "Now after we saw the process of finding the algorithm let's have a look over a few results of our algorithm on new drawings"
   ]
  },
  {
   "cell_type": "code",
   "execution_count": 112,
   "metadata": {},
   "outputs": [],
   "source": [
    "def plot_lines(df,x_points, y_points,scale, symbol=None):\n",
    "    plt.ylim(round(df['Y'].min()) - 5, round(df['Y'].max()) + 5)\n",
    "    plt.xlim(round(df['X'].min()) - 5, round(df['X'].max()) + 5)\n",
    "    if symbol != None:\n",
    "        plt.plot(x_points, scale - y_points, symbol)\n",
    "    else:\n",
    "        plt.plot(x_points, scale - y_points)\n",
    "        \n",
    "def algo(df):\n",
    "    #add features to the data frame that would help us find lines and hand raising\n",
    "    df.dropna(axis = 0, inplace = True)\n",
    "    df.columns = df.columns.str.replace(' ','')\n",
    "    time=df.Time.str.split(':',expand = True).astype('float64',)\n",
    "    df.drop('Time', axis = 1, inplace = True)\n",
    "    df[['sec']]=time[0]*60+time[1]\n",
    "    df = df.astype(float)\n",
    "    df['diff_sec'] = df['sec']-df.sec.shift()\n",
    "    df['diff_X'] = abs(df.X.shift()-df['X'])\n",
    "    df['diff_Y'] = abs(df.Y.shift()-df['Y'])\n",
    "    scale=df['Y'].max()+df['Y'].min()\n",
    "    lines=find_lines(df)\n",
    "    tresh_time=df.mean()[6]+df.std()[6]\n",
    "    tresh_x=df.mean()[7]+df.std()[7]\n",
    "    tresh_y=df.mean()[8]+df.std()[8]\n",
    "    \n",
    "    #set 3 sub data frame by our tresholds\n",
    "    large_time_diff=df[df['diff_sec'] > tresh_time]\n",
    "    large_x_diff=df[df['diff_X'] > tresh_x]\n",
    "    large_y_diff=df[df['diff_Y'] > tresh_y]\n",
    "    \n",
    "    # find the minimum number of hand raising that found\n",
    "    size_x=len(large_x_diff)\n",
    "    size_y=len(large_y_diff)\n",
    "    size_time=len(large_time_diff)\n",
    "    size_min=min(size_time,size_x,size_y)\n",
    "    \n",
    "    \n",
    "    raised_hand_list=[]\n",
    "    # if all the data frames have the same size we union them all \n",
    "    if size_time==size_x==size_y:\n",
    "        raised_hand_list=[large_x_diff,large_y_diff,large_time_diff]\n",
    "        \n",
    "    # if we found 2 sub data frames that found same number of hand raising and this the minimum number\n",
    "    # we union those 2 data frames\n",
    "    elif size_min==size_x==size_y:\n",
    "        raised_hand_list=[large_x_diff,large_y_diff]\n",
    "    elif size_min==size_x==size_time:\n",
    "        raised_hand_list=[large_x_diff,large_time_diff]\n",
    "    elif size_min==size_time==size_y:\n",
    "        raised_hand_list=[large_y_diff,large_time_diff]\n",
    "    \n",
    "    # if we dont have 2 data frames with the same size we union only those who close to the minimum\n",
    "    # so we dont get outliers\n",
    "    elif len(raised_hand_list)==0:\n",
    "        if size_x<=size_min+10:\n",
    "            raised_hand_list.append(large_x_diff)\n",
    "        if size_y<=size_min+10:\n",
    "            raised_hand_list.append(large_y_diff)\n",
    "        if size_time<=size_min+10:\n",
    "            raised_hand_list.append(large_time_diff)\n",
    "            \n",
    "    # union the data frames\n",
    "    raised_hand=pd.concat(raised_hand_list).drop_duplicates()\n",
    "    \n",
    "    #plot all the hand raising\n",
    "    curr = 0\n",
    "    index = sorted(raised_hand.index.values.astype(int))\n",
    "    index.append(len(df['X']))\n",
    "    for ind in index:\n",
    "        plot_lines(df,df['X'][curr: ind], df['Y'][curr: ind],scale, '.')\n",
    "        curr = ind\n",
    "    plt.show()\n",
    "    \n",
    "    #plot all the lines\n",
    "    print(f'Q1: There are {len(lines)} lines in this drawing\\n')\n",
    "    pressures=[]\n",
    "    length=[]\n",
    "    for line in lines:\n",
    "        plot_lines(df,df['X'][line[0]: line[1]], df['Y'][line[0]: line[1]],scale, '.')\n",
    "        pressures.append(find_avg_pressure(df, line[0], line[1]))\n",
    "        length.append(find_dist(df, line[0], line[1]))\n",
    "    print(\"Avarage Pressures for each line\")\n",
    "    print(pressures)\n",
    "    print()\n",
    "    print(\"Distances for each line\")\n",
    "    print(length)"
   ]
  },
  {
   "cell_type": "code",
   "execution_count": 113,
   "metadata": {},
   "outputs": [
    {
     "data": {
      "image/png": "[encoded data removed]",
      "text/plain": [
       "<Figure size 432x288 with 1 Axes>"
      ]
     },
     "metadata": {
      "needs_background": "light"
     },
     "output_type": "display_data"
    },
    {
     "name": "stdout",
     "output_type": "stream",
     "text": [
      "Q1: There are 10 lines in this drawing\n",
      "\n",
      "Avarage Pressures for each line\n",
      "[0.7201092894724075, 0.7873562269094512, 0.753421837463975, 0.7784864790737629, 0.8159291707589978, 0.49885303676128395, 0.6414100808047113, 0.4041962269693613, 0.667756838724017, 0.6180048607862912]\n",
      "\n",
      "Distances for each line\n",
      "[273.80450813565346, 291.74262379683785, 195.36955727109668, 207.5497439132617, 88.4041248036097, 176.07980788497144, 257.3695816450393, 90.51091427106861, 304.11682744306415, 215.66370482540637]\n"
     ]
    },
    {
     "data": {
      "image/png": "[encoded data removed]",
      "text/plain": [
       "<Figure size 432x288 with 1 Axes>"
      ]
     },
     "metadata": {
      "needs_background": "light"
     },
     "output_type": "display_data"
    }
   ],
   "source": [
    "img = pd.read_csv(r'C:\\Users\\sandl\\.ipynb_checkpoints\\train\\7556\\SimpleTest\\13.csv')\n",
    "algo(img)"
   ]
  },
  {
   "cell_type": "code",
   "execution_count": null,
   "metadata": {},
   "outputs": [],
   "source": []
  }
 ],
 "metadata": {
  "kernelspec": {
   "display_name": "Python 3",
   "language": "python",
   "name": "python3"
  },
  "language_info": {
   "codemirror_mode": {
    "name": "ipython",
    "version": 3
   },
   "file_extension": ".py",
   "mimetype": "text/x-python",
   "name": "python",
   "nbconvert_exporter": "python",
   "pygments_lexer": "ipython3",
   "version": "3.8.5"
  }
 },
 "nbformat": 4,
 "nbformat_minor": 5
}
